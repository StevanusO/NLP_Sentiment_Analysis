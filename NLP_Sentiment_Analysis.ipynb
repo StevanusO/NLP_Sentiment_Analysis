{
 "cells": [
  {
   "cell_type": "code",
   "execution_count": 1,
   "id": "751fa64c",
   "metadata": {
    "_cell_guid": "b1076dfc-b9ad-4769-8c92-a6c4dae69d19",
    "_uuid": "8f2839f25d086af736a60e9eeb907d3b93b6e0e5",
    "execution": {
     "iopub.execute_input": "2023-01-25T00:35:41.054825Z",
     "iopub.status.busy": "2023-01-25T00:35:41.053967Z",
     "iopub.status.idle": "2023-01-25T00:35:51.489290Z",
     "shell.execute_reply": "2023-01-25T00:35:51.487816Z"
    },
    "papermill": {
     "duration": 10.449931,
     "end_time": "2023-01-25T00:35:51.491945",
     "exception": false,
     "start_time": "2023-01-25T00:35:41.042014",
     "status": "completed"
    },
    "tags": []
   },
   "outputs": [
    {
     "name": "stdout",
     "output_type": "stream",
     "text": [
      "Requirement already satisfied: textblob in /opt/conda/lib/python3.7/site-packages (0.17.1)\r\n",
      "Requirement already satisfied: nltk>=3.1 in /opt/conda/lib/python3.7/site-packages (from textblob) (3.7)\r\n",
      "Requirement already satisfied: regex>=2021.8.3 in /opt/conda/lib/python3.7/site-packages (from nltk>=3.1->textblob) (2021.11.10)\r\n",
      "Requirement already satisfied: click in /opt/conda/lib/python3.7/site-packages (from nltk>=3.1->textblob) (8.0.4)\r\n",
      "Requirement already satisfied: joblib in /opt/conda/lib/python3.7/site-packages (from nltk>=3.1->textblob) (1.0.1)\r\n",
      "Requirement already satisfied: tqdm in /opt/conda/lib/python3.7/site-packages (from nltk>=3.1->textblob) (4.64.0)\r\n",
      "Requirement already satisfied: importlib-metadata in /opt/conda/lib/python3.7/site-packages (from click->nltk>=3.1->textblob) (4.13.0)\r\n",
      "Requirement already satisfied: typing-extensions>=3.6.4 in /opt/conda/lib/python3.7/site-packages (from importlib-metadata->click->nltk>=3.1->textblob) (4.1.1)\r\n",
      "Requirement already satisfied: zipp>=0.5 in /opt/conda/lib/python3.7/site-packages (from importlib-metadata->click->nltk>=3.1->textblob) (3.8.0)\r\n",
      "\u001b[33mWARNING: Running pip as the 'root' user can result in broken permissions and conflicting behaviour with the system package manager. It is recommended to use a virtual environment instead: https://pip.pypa.io/warnings/venv\u001b[0m\u001b[33m\r\n",
      "\u001b[0mNote: you may need to restart the kernel to use updated packages.\n",
      "/kaggle/input/emotions-dataset-for-nlp/val.txt\n",
      "/kaggle/input/emotions-dataset-for-nlp/test.txt\n",
      "/kaggle/input/emotions-dataset-for-nlp/train.txt\n"
     ]
    }
   ],
   "source": [
    "# This Python 3 environment comes with many helpful analytics libraries installed\n",
    "# It is defined by the kaggle/python Docker image: https://github.com/kaggle/docker-python\n",
    "# For example, here's several helpful packages to load\n",
    "%pip install textblob\n",
    "import numpy as np # linear algebra\n",
    "import pandas as pd # data processing, CSV file I/O (e.g. pd.read_csv)\n",
    "\n",
    "# Input data files are available in the read-only \"../input/\" directory\n",
    "# For example, running this (by clicking run or pressing Shift+Enter) will list all files under the input directory\n",
    "\n",
    "import os\n",
    "for dirname, _, filenames in os.walk('/kaggle/input'):\n",
    "    for filename in filenames:\n",
    "        print(os.path.join(dirname, filename))\n",
    "\n",
    "# You can write up to 20GB to the current directory (/kaggle/working/) that gets preserved as output when you create a version using \"Save & Run All\" \n",
    "# You can also write temporary files to /kaggle/temp/, but they won't be saved outside of the current session"
   ]
  },
  {
   "cell_type": "code",
   "execution_count": 2,
   "id": "b687b6bb",
   "metadata": {
    "execution": {
     "iopub.execute_input": "2023-01-25T00:35:51.511926Z",
     "iopub.status.busy": "2023-01-25T00:35:51.511612Z",
     "iopub.status.idle": "2023-01-25T00:35:53.446340Z",
     "shell.execute_reply": "2023-01-25T00:35:53.444967Z"
    },
    "papermill": {
     "duration": 1.948436,
     "end_time": "2023-01-25T00:35:53.449899",
     "exception": false,
     "start_time": "2023-01-25T00:35:51.501463",
     "status": "completed"
    },
    "tags": []
   },
   "outputs": [],
   "source": [
    "!rm -rf ./logs/ \n",
    "!mkdir ./logs/"
   ]
  },
  {
   "cell_type": "markdown",
   "id": "4614d3b8",
   "metadata": {
    "papermill": {
     "duration": 0.012983,
     "end_time": "2023-01-25T00:35:53.478624",
     "exception": false,
     "start_time": "2023-01-25T00:35:53.465641",
     "status": "completed"
    },
    "tags": []
   },
   "source": [
    "# Ignore Error"
   ]
  },
  {
   "cell_type": "code",
   "execution_count": 3,
   "id": "33ed4c88",
   "metadata": {
    "execution": {
     "iopub.execute_input": "2023-01-25T00:35:53.506649Z",
     "iopub.status.busy": "2023-01-25T00:35:53.506230Z",
     "iopub.status.idle": "2023-01-25T00:35:53.526251Z",
     "shell.execute_reply": "2023-01-25T00:35:53.525339Z"
    },
    "papermill": {
     "duration": 0.036909,
     "end_time": "2023-01-25T00:35:53.528726",
     "exception": false,
     "start_time": "2023-01-25T00:35:53.491817",
     "status": "completed"
    },
    "tags": []
   },
   "outputs": [],
   "source": [
    "import warnings\n",
    "warnings.filterwarnings('ignore')\n",
    "%config Completer.use_jedi = False # if autocompletion doesnot work in kaggle notebook "
   ]
  },
  {
   "cell_type": "markdown",
   "id": "4460769e",
   "metadata": {
    "papermill": {
     "duration": 0.012944,
     "end_time": "2023-01-25T00:35:53.555275",
     "exception": false,
     "start_time": "2023-01-25T00:35:53.542331",
     "status": "completed"
    },
    "tags": []
   },
   "source": [
    "# Import Library"
   ]
  },
  {
   "cell_type": "code",
   "execution_count": 4,
   "id": "b826de09",
   "metadata": {
    "execution": {
     "iopub.execute_input": "2023-01-25T00:35:53.583009Z",
     "iopub.status.busy": "2023-01-25T00:35:53.582672Z",
     "iopub.status.idle": "2023-01-25T00:36:00.933327Z",
     "shell.execute_reply": "2023-01-25T00:36:00.932344Z"
    },
    "papermill": {
     "duration": 7.367223,
     "end_time": "2023-01-25T00:36:00.935745",
     "exception": false,
     "start_time": "2023-01-25T00:35:53.568522",
     "status": "completed"
    },
    "tags": []
   },
   "outputs": [
    {
     "name": "stderr",
     "output_type": "stream",
     "text": [
      "[nltk_data] Downloading package wordnet to /usr/share/nltk_data...\n",
      "[nltk_data]   Package wordnet is already up-to-date!\n",
      "[nltk_data] Downloading package punkt to /usr/share/nltk_data...\n",
      "[nltk_data]   Package punkt is already up-to-date!\n",
      "[nltk_data] Downloading package stopwords to /usr/share/nltk_data...\n",
      "[nltk_data]   Package stopwords is already up-to-date!\n",
      "[nltk_data] Downloading package omw-1.4 to /usr/share/nltk_data...\n"
     ]
    }
   ],
   "source": [
    "import pandas as pd\n",
    "import matplotlib.pyplot as plt\n",
    "import seaborn as sns\n",
    "\n",
    "# import and download library for text processing\n",
    "import re\n",
    "import nltk\n",
    "from nltk.corpus import stopwords\n",
    "from nltk.tokenize import word_tokenize\n",
    "from nltk.stem import WordNetLemmatizer\n",
    "\n",
    "nltk.download('wordnet')\n",
    "nltk.download('punkt')\n",
    "nltk.download('stopwords')\n",
    "nltk.download('omw-1.4')\n",
    "\n",
    "lemmatizer = WordNetLemmatizer()\n",
    "stopwords = stopwords.words('english')\n",
    "\n",
    "from tensorflow.keras.preprocessing.text import Tokenizer\n",
    "from tensorflow.keras.preprocessing.sequence import pad_sequences\n",
    "from tensorflow.keras.utils import to_categorical\n",
    "import tensorflow as tf\n",
    "import random\n",
    "seed = 101\n",
    "random.seed(seed)\n",
    "np.random.seed(seed)\n",
    "tf.random.set_seed(seed)"
   ]
  },
  {
   "cell_type": "code",
   "execution_count": 5,
   "id": "12f6540f",
   "metadata": {
    "execution": {
     "iopub.execute_input": "2023-01-25T00:36:00.956581Z",
     "iopub.status.busy": "2023-01-25T00:36:00.955517Z",
     "iopub.status.idle": "2023-01-25T00:36:00.960769Z",
     "shell.execute_reply": "2023-01-25T00:36:00.959827Z"
    },
    "papermill": {
     "duration": 0.01759,
     "end_time": "2023-01-25T00:36:00.962795",
     "exception": false,
     "start_time": "2023-01-25T00:36:00.945205",
     "status": "completed"
    },
    "tags": []
   },
   "outputs": [],
   "source": [
    "path = '/kaggle/input/emotions-dataset-for-nlp/'\n",
    "train_path = path+'train.txt'\n",
    "test_path = path+'test.txt'\n",
    "val_path = path+'val.txt'"
   ]
  },
  {
   "cell_type": "code",
   "execution_count": 6,
   "id": "fb955d75",
   "metadata": {
    "execution": {
     "iopub.execute_input": "2023-01-25T00:36:00.981899Z",
     "iopub.status.busy": "2023-01-25T00:36:00.981628Z",
     "iopub.status.idle": "2023-01-25T00:36:01.074191Z",
     "shell.execute_reply": "2023-01-25T00:36:01.073205Z"
    },
    "papermill": {
     "duration": 0.104989,
     "end_time": "2023-01-25T00:36:01.076788",
     "exception": false,
     "start_time": "2023-01-25T00:36:00.971799",
     "status": "completed"
    },
    "tags": []
   },
   "outputs": [],
   "source": [
    "train_df = pd.read_csv(train_path, sep=';', names=['text', 'labels'])\n",
    "test_df = pd.read_csv(test_path, sep=';', names=['text', 'labels'])\n",
    "val_df = pd.read_csv(val_path, sep=';', names=['text', 'labels'])\n",
    "full_df = pd.concat([train_df, test_df, val_df], axis=0)"
   ]
  },
  {
   "cell_type": "code",
   "execution_count": 7,
   "id": "0169778c",
   "metadata": {
    "execution": {
     "iopub.execute_input": "2023-01-25T00:36:01.097670Z",
     "iopub.status.busy": "2023-01-25T00:36:01.096142Z",
     "iopub.status.idle": "2023-01-25T00:36:01.103317Z",
     "shell.execute_reply": "2023-01-25T00:36:01.102403Z"
    },
    "papermill": {
     "duration": 0.019585,
     "end_time": "2023-01-25T00:36:01.105677",
     "exception": false,
     "start_time": "2023-01-25T00:36:01.086092",
     "status": "completed"
    },
    "tags": []
   },
   "outputs": [
    {
     "name": "stdout",
     "output_type": "stream",
     "text": [
      "Train text size 16000\n",
      "Test text size 2000\n",
      "Val text size 2000\n",
      "\n",
      "Total samples 20000\n"
     ]
    }
   ],
   "source": [
    "print(\"Train text size\", train_df.shape[0])\n",
    "print(\"Test text size\", test_df.shape[0])\n",
    "print(\"Val text size\", val_df.shape[0])\n",
    "print(\"\\nTotal samples\", (train_df.shape[0]+test_df.shape[0]+val_df.shape[0]))"
   ]
  },
  {
   "cell_type": "markdown",
   "id": "b2344d32",
   "metadata": {
    "papermill": {
     "duration": 0.008877,
     "end_time": "2023-01-25T00:36:01.123866",
     "exception": false,
     "start_time": "2023-01-25T00:36:01.114989",
     "status": "completed"
    },
    "tags": []
   },
   "source": [
    "# Explanatory Data Analysis"
   ]
  },
  {
   "cell_type": "code",
   "execution_count": 8,
   "id": "2c5cd22c",
   "metadata": {
    "execution": {
     "iopub.execute_input": "2023-01-25T00:36:01.143117Z",
     "iopub.status.busy": "2023-01-25T00:36:01.142837Z",
     "iopub.status.idle": "2023-01-25T00:36:01.148980Z",
     "shell.execute_reply": "2023-01-25T00:36:01.147944Z"
    },
    "papermill": {
     "duration": 0.018333,
     "end_time": "2023-01-25T00:36:01.151294",
     "exception": false,
     "start_time": "2023-01-25T00:36:01.132961",
     "status": "completed"
    },
    "tags": []
   },
   "outputs": [],
   "source": [
    "def describe_data(data_type,data,label):\n",
    "    print(data_type,\" DESCRIPTION\")\n",
    "    print(\"--------------------------\")\n",
    "    size=data.shape\n",
    "    null_values=data.isnull().sum().sum()\n",
    "    \n",
    "    \n",
    "    print(data_type,\" shape:\",size,\"\\n\")\n",
    "    print(data_type,\" contains:\",null_values,\" null values\\n\")\n",
    "    print(\"Label counts:\")  \n",
    "    print(data[label].value_counts())\n",
    "    print()\n",
    "    \n",
    "    print(\"*****\",data_type,\" label count plot ****\")\n",
    "    sns.countplot(\n",
    "        data=data,\n",
    "        x=label\n",
    "    )"
   ]
  },
  {
   "cell_type": "code",
   "execution_count": 9,
   "id": "5a41b3cd",
   "metadata": {
    "execution": {
     "iopub.execute_input": "2023-01-25T00:36:01.170678Z",
     "iopub.status.busy": "2023-01-25T00:36:01.170409Z",
     "iopub.status.idle": "2023-01-25T00:36:01.414059Z",
     "shell.execute_reply": "2023-01-25T00:36:01.413099Z"
    },
    "papermill": {
     "duration": 0.255666,
     "end_time": "2023-01-25T00:36:01.416100",
     "exception": false,
     "start_time": "2023-01-25T00:36:01.160434",
     "status": "completed"
    },
    "tags": []
   },
   "outputs": [
    {
     "name": "stdout",
     "output_type": "stream",
     "text": [
      "Training Data  DESCRIPTION\n",
      "--------------------------\n",
      "Training Data  shape: (16000, 2) \n",
      "\n",
      "Training Data  contains: 0  null values\n",
      "\n",
      "Label counts:\n",
      "joy         5362\n",
      "sadness     4666\n",
      "anger       2159\n",
      "fear        1937\n",
      "love        1304\n",
      "surprise     572\n",
      "Name: labels, dtype: int64\n",
      "\n",
      "***** Training Data  label count plot ****\n"
     ]
    },
    {
     "data": {
      "image/png": "[encoded data removed]",
      "text/plain": [
       "<Figure size 432x288 with 1 Axes>"
      ]
     },
     "metadata": {
      "needs_background": "light"
     },
     "output_type": "display_data"
    }
   ],
   "source": [
    "describe_data('Training Data', train_df, 'labels')"
   ]
  },
  {
   "cell_type": "code",
   "execution_count": 10,
   "id": "38e0eaee",
   "metadata": {
    "execution": {
     "iopub.execute_input": "2023-01-25T00:36:01.436470Z",
     "iopub.status.busy": "2023-01-25T00:36:01.436186Z",
     "iopub.status.idle": "2023-01-25T00:36:01.636025Z",
     "shell.execute_reply": "2023-01-25T00:36:01.635097Z"
    },
    "papermill": {
     "duration": 0.212268,
     "end_time": "2023-01-25T00:36:01.638028",
     "exception": false,
     "start_time": "2023-01-25T00:36:01.425760",
     "status": "completed"
    },
    "tags": []
   },
   "outputs": [
    {
     "name": "stdout",
     "output_type": "stream",
     "text": [
      "Test Data  DESCRIPTION\n",
      "--------------------------\n",
      "Test Data  shape: (2000, 2) \n",
      "\n",
      "Test Data  contains: 0  null values\n",
      "\n",
      "Label counts:\n",
      "joy         695\n",
      "sadness     581\n",
      "anger       275\n",
      "fear        224\n",
      "love        159\n",
      "surprise     66\n",
      "Name: labels, dtype: int64\n",
      "\n",
      "***** Test Data  label count plot ****\n"
     ]
    },
    {
     "data": {
      "image/png": "[encoded data removed]",
      "text/plain": [
       "<Figure size 432x288 with 1 Axes>"
      ]
     },
     "metadata": {
      "needs_background": "light"
     },
     "output_type": "display_data"
    }
   ],
   "source": [
    "describe_data('Test Data', test_df, 'labels')"
   ]
  },
  {
   "cell_type": "code",
   "execution_count": 11,
   "id": "3114f44b",
   "metadata": {
    "execution": {
     "iopub.execute_input": "2023-01-25T00:36:01.658915Z",
     "iopub.status.busy": "2023-01-25T00:36:01.658613Z",
     "iopub.status.idle": "2023-01-25T00:36:01.863008Z",
     "shell.execute_reply": "2023-01-25T00:36:01.862059Z"
    },
    "papermill": {
     "duration": 0.217076,
     "end_time": "2023-01-25T00:36:01.865023",
     "exception": false,
     "start_time": "2023-01-25T00:36:01.647947",
     "status": "completed"
    },
    "tags": []
   },
   "outputs": [
    {
     "name": "stdout",
     "output_type": "stream",
     "text": [
      "Val Data  DESCRIPTION\n",
      "--------------------------\n",
      "Val Data  shape: (2000, 2) \n",
      "\n",
      "Val Data  contains: 0  null values\n",
      "\n",
      "Label counts:\n",
      "joy         704\n",
      "sadness     550\n",
      "anger       275\n",
      "fear        212\n",
      "love        178\n",
      "surprise     81\n",
      "Name: labels, dtype: int64\n",
      "\n",
      "***** Val Data  label count plot ****\n"
     ]
    },
    {
     "data": {
      "image/png": "[encoded data removed]",
      "text/plain": [
       "<Figure size 432x288 with 1 Axes>"
      ]
     },
     "metadata": {
      "needs_background": "light"
     },
     "output_type": "display_data"
    }
   ],
   "source": [
    "describe_data('Val Data', val_df, 'labels')"
   ]
  },
  {
   "cell_type": "code",
   "execution_count": 12,
   "id": "1f223cb3",
   "metadata": {
    "execution": {
     "iopub.execute_input": "2023-01-25T00:36:01.887878Z",
     "iopub.status.busy": "2023-01-25T00:36:01.886324Z",
     "iopub.status.idle": "2023-01-25T00:36:02.099899Z",
     "shell.execute_reply": "2023-01-25T00:36:02.099065Z"
    },
    "papermill": {
     "duration": 0.226489,
     "end_time": "2023-01-25T00:36:02.101730",
     "exception": false,
     "start_time": "2023-01-25T00:36:01.875241",
     "status": "completed"
    },
    "tags": []
   },
   "outputs": [
    {
     "name": "stdout",
     "output_type": "stream",
     "text": [
      "Full Data  DESCRIPTION\n",
      "--------------------------\n",
      "Full Data  shape: (20000, 2) \n",
      "\n",
      "Full Data  contains: 0  null values\n",
      "\n",
      "Label counts:\n",
      "joy         6761\n",
      "sadness     5797\n",
      "anger       2709\n",
      "fear        2373\n",
      "love        1641\n",
      "surprise     719\n",
      "Name: labels, dtype: int64\n",
      "\n",
      "***** Full Data  label count plot ****\n"
     ]
    },
    {
     "data": {
      "image/png": "[encoded data removed]",
      "text/plain": [
       "<Figure size 432x288 with 1 Axes>"
      ]
     },
     "metadata": {
      "needs_background": "light"
     },
     "output_type": "display_data"
    }
   ],
   "source": [
    "describe_data('Full Data', full_df, 'labels')"
   ]
  },
  {
   "cell_type": "code",
   "execution_count": 13,
   "id": "dded4d2d",
   "metadata": {
    "execution": {
     "iopub.execute_input": "2023-01-25T00:36:02.123679Z",
     "iopub.status.busy": "2023-01-25T00:36:02.123395Z",
     "iopub.status.idle": "2023-01-25T00:36:02.134806Z",
     "shell.execute_reply": "2023-01-25T00:36:02.134200Z"
    },
    "papermill": {
     "duration": 0.024235,
     "end_time": "2023-01-25T00:36:02.136557",
     "exception": false,
     "start_time": "2023-01-25T00:36:02.112322",
     "status": "completed"
    },
    "tags": []
   },
   "outputs": [],
   "source": [
    "train_df['Length'] = train_df.text.apply(lambda x:len(x))"
   ]
  },
  {
   "cell_type": "code",
   "execution_count": 14,
   "id": "82d6388d",
   "metadata": {
    "execution": {
     "iopub.execute_input": "2023-01-25T00:36:02.158247Z",
     "iopub.status.busy": "2023-01-25T00:36:02.157431Z",
     "iopub.status.idle": "2023-01-25T00:36:02.483011Z",
     "shell.execute_reply": "2023-01-25T00:36:02.482051Z"
    },
    "papermill": {
     "duration": 0.338759,
     "end_time": "2023-01-25T00:36:02.485339",
     "exception": false,
     "start_time": "2023-01-25T00:36:02.146580",
     "status": "completed"
    },
    "tags": []
   },
   "outputs": [
    {
     "data": {
      "image/png": "[encoded data removed]",
      "text/plain": [
       "<Figure size 720x432 with 1 Axes>"
      ]
     },
     "metadata": {
      "needs_background": "light"
     },
     "output_type": "display_data"
    }
   ],
   "source": [
    "fig=plt.figure(figsize=(10,6))\n",
    "\n",
    "sns.kdeplot(\n",
    "    x=train_df['Length'],\n",
    "    hue=train_df[\"labels\"]\n",
    ")\n",
    "plt.show()"
   ]
  },
  {
   "cell_type": "code",
   "execution_count": 15,
   "id": "1ffc29d3",
   "metadata": {
    "execution": {
     "iopub.execute_input": "2023-01-25T00:36:02.509820Z",
     "iopub.status.busy": "2023-01-25T00:36:02.508136Z",
     "iopub.status.idle": "2023-01-25T00:36:02.515471Z",
     "shell.execute_reply": "2023-01-25T00:36:02.513692Z"
    },
    "papermill": {
     "duration": 0.021114,
     "end_time": "2023-01-25T00:36:02.517395",
     "exception": false,
     "start_time": "2023-01-25T00:36:02.496281",
     "status": "completed"
    },
    "tags": []
   },
   "outputs": [
    {
     "name": "stdout",
     "output_type": "stream",
     "text": [
      "300\n",
      "7\n"
     ]
    }
   ],
   "source": [
    "print(train_df.Length.max())\n",
    "print(train_df.Length.min())"
   ]
  },
  {
   "cell_type": "code",
   "execution_count": 16,
   "id": "3efb3ee4",
   "metadata": {
    "execution": {
     "iopub.execute_input": "2023-01-25T00:36:02.540270Z",
     "iopub.status.busy": "2023-01-25T00:36:02.539607Z",
     "iopub.status.idle": "2023-01-25T00:36:02.558081Z",
     "shell.execute_reply": "2023-01-25T00:36:02.557031Z"
    },
    "papermill": {
     "duration": 0.032343,
     "end_time": "2023-01-25T00:36:02.560424",
     "exception": false,
     "start_time": "2023-01-25T00:36:02.528081",
     "status": "completed"
    },
    "tags": []
   },
   "outputs": [
    {
     "data": {
      "text/html": [
       "<div>\n",
       "<style scoped>\n",
       "    .dataframe tbody tr th:only-of-type {\n",
       "        vertical-align: middle;\n",
       "    }\n",
       "\n",
       "    .dataframe tbody tr th {\n",
       "        vertical-align: top;\n",
       "    }\n",
       "\n",
       "    .dataframe thead th {\n",
       "        text-align: right;\n",
       "    }\n",
       "</style>\n",
       "<table border=\"1\" class=\"dataframe\">\n",
       "  <thead>\n",
       "    <tr style=\"text-align: right;\">\n",
       "      <th></th>\n",
       "      <th>Length</th>\n",
       "    </tr>\n",
       "  </thead>\n",
       "  <tbody>\n",
       "    <tr>\n",
       "      <th>count</th>\n",
       "      <td>16000.000000</td>\n",
       "    </tr>\n",
       "    <tr>\n",
       "      <th>mean</th>\n",
       "      <td>96.845812</td>\n",
       "    </tr>\n",
       "    <tr>\n",
       "      <th>std</th>\n",
       "      <td>55.904953</td>\n",
       "    </tr>\n",
       "    <tr>\n",
       "      <th>min</th>\n",
       "      <td>7.000000</td>\n",
       "    </tr>\n",
       "    <tr>\n",
       "      <th>25%</th>\n",
       "      <td>53.000000</td>\n",
       "    </tr>\n",
       "    <tr>\n",
       "      <th>50%</th>\n",
       "      <td>86.000000</td>\n",
       "    </tr>\n",
       "    <tr>\n",
       "      <th>75%</th>\n",
       "      <td>129.000000</td>\n",
       "    </tr>\n",
       "    <tr>\n",
       "      <th>max</th>\n",
       "      <td>300.000000</td>\n",
       "    </tr>\n",
       "  </tbody>\n",
       "</table>\n",
       "</div>"
      ],
      "text/plain": [
       "             Length\n",
       "count  16000.000000\n",
       "mean      96.845812\n",
       "std       55.904953\n",
       "min        7.000000\n",
       "25%       53.000000\n",
       "50%       86.000000\n",
       "75%      129.000000\n",
       "max      300.000000"
      ]
     },
     "execution_count": 16,
     "metadata": {},
     "output_type": "execute_result"
    }
   ],
   "source": [
    "train_df[['Length']].describe()"
   ]
  },
  {
   "cell_type": "markdown",
   "id": "183eea87",
   "metadata": {
    "papermill": {
     "duration": 0.010693,
     "end_time": "2023-01-25T00:36:02.581956",
     "exception": false,
     "start_time": "2023-01-25T00:36:02.571263",
     "status": "completed"
    },
    "tags": []
   },
   "source": [
    "# Data Preparation"
   ]
  },
  {
   "cell_type": "code",
   "execution_count": 17,
   "id": "ba27d6e4",
   "metadata": {
    "execution": {
     "iopub.execute_input": "2023-01-25T00:36:02.605164Z",
     "iopub.status.busy": "2023-01-25T00:36:02.604865Z",
     "iopub.status.idle": "2023-01-25T00:36:02.609872Z",
     "shell.execute_reply": "2023-01-25T00:36:02.608967Z"
    },
    "papermill": {
     "duration": 0.019136,
     "end_time": "2023-01-25T00:36:02.611912",
     "exception": false,
     "start_time": "2023-01-25T00:36:02.592776",
     "status": "completed"
    },
    "tags": []
   },
   "outputs": [],
   "source": [
    "def label_encode(data,label):\n",
    "    labels=data[label].map(\n",
    "    {\n",
    "        \"joy\":0,\n",
    "        \"sadness\":1,\n",
    "        \"anger\":2,\n",
    "        \"fear\":3,\n",
    "        \"love\":4,\n",
    "        \"surprise\":5\n",
    "    }\n",
    "    )\n",
    "    return labels\n",
    "\n",
    "labels = ['joy', 'sadness', 'anger', 'fear', 'love', 'surprise']"
   ]
  },
  {
   "cell_type": "code",
   "execution_count": 18,
   "id": "172b6709",
   "metadata": {
    "execution": {
     "iopub.execute_input": "2023-01-25T00:36:02.634550Z",
     "iopub.status.busy": "2023-01-25T00:36:02.634291Z",
     "iopub.status.idle": "2023-01-25T00:36:02.643399Z",
     "shell.execute_reply": "2023-01-25T00:36:02.642541Z"
    },
    "papermill": {
     "duration": 0.02267,
     "end_time": "2023-01-25T00:36:02.645313",
     "exception": false,
     "start_time": "2023-01-25T00:36:02.622643",
     "status": "completed"
    },
    "tags": []
   },
   "outputs": [],
   "source": [
    "train_df['enc_labels'] = label_encode(train_df, 'labels')\n",
    "test_df['enc_labels'] = label_encode(test_df, 'labels')\n",
    "val_df['enc_labels'] = label_encode(val_df, 'labels')"
   ]
  },
  {
   "cell_type": "code",
   "execution_count": 19,
   "id": "f2917d88",
   "metadata": {
    "execution": {
     "iopub.execute_input": "2023-01-25T00:36:02.668646Z",
     "iopub.status.busy": "2023-01-25T00:36:02.667880Z",
     "iopub.status.idle": "2023-01-25T00:36:02.677803Z",
     "shell.execute_reply": "2023-01-25T00:36:02.676863Z"
    },
    "papermill": {
     "duration": 0.023423,
     "end_time": "2023-01-25T00:36:02.679708",
     "exception": false,
     "start_time": "2023-01-25T00:36:02.656285",
     "status": "completed"
    },
    "tags": []
   },
   "outputs": [
    {
     "data": {
      "text/html": [
       "<div>\n",
       "<style scoped>\n",
       "    .dataframe tbody tr th:only-of-type {\n",
       "        vertical-align: middle;\n",
       "    }\n",
       "\n",
       "    .dataframe tbody tr th {\n",
       "        vertical-align: top;\n",
       "    }\n",
       "\n",
       "    .dataframe thead th {\n",
       "        text-align: right;\n",
       "    }\n",
       "</style>\n",
       "<table border=\"1\" class=\"dataframe\">\n",
       "  <thead>\n",
       "    <tr style=\"text-align: right;\">\n",
       "      <th></th>\n",
       "      <th>text</th>\n",
       "      <th>labels</th>\n",
       "      <th>Length</th>\n",
       "      <th>enc_labels</th>\n",
       "    </tr>\n",
       "  </thead>\n",
       "  <tbody>\n",
       "    <tr>\n",
       "      <th>0</th>\n",
       "      <td>i didnt feel humiliated</td>\n",
       "      <td>sadness</td>\n",
       "      <td>23</td>\n",
       "      <td>1</td>\n",
       "    </tr>\n",
       "    <tr>\n",
       "      <th>1</th>\n",
       "      <td>i can go from feeling so hopeless to so damned...</td>\n",
       "      <td>sadness</td>\n",
       "      <td>108</td>\n",
       "      <td>1</td>\n",
       "    </tr>\n",
       "    <tr>\n",
       "      <th>2</th>\n",
       "      <td>im grabbing a minute to post i feel greedy wrong</td>\n",
       "      <td>anger</td>\n",
       "      <td>48</td>\n",
       "      <td>2</td>\n",
       "    </tr>\n",
       "    <tr>\n",
       "      <th>3</th>\n",
       "      <td>i am ever feeling nostalgic about the fireplac...</td>\n",
       "      <td>love</td>\n",
       "      <td>92</td>\n",
       "      <td>4</td>\n",
       "    </tr>\n",
       "    <tr>\n",
       "      <th>4</th>\n",
       "      <td>i am feeling grouchy</td>\n",
       "      <td>anger</td>\n",
       "      <td>20</td>\n",
       "      <td>2</td>\n",
       "    </tr>\n",
       "  </tbody>\n",
       "</table>\n",
       "</div>"
      ],
      "text/plain": [
       "                                                text   labels  Length  \\\n",
       "0                            i didnt feel humiliated  sadness      23   \n",
       "1  i can go from feeling so hopeless to so damned...  sadness     108   \n",
       "2   im grabbing a minute to post i feel greedy wrong    anger      48   \n",
       "3  i am ever feeling nostalgic about the fireplac...     love      92   \n",
       "4                               i am feeling grouchy    anger      20   \n",
       "\n",
       "   enc_labels  \n",
       "0           1  \n",
       "1           1  \n",
       "2           2  \n",
       "3           4  \n",
       "4           2  "
      ]
     },
     "execution_count": 19,
     "metadata": {},
     "output_type": "execute_result"
    }
   ],
   "source": [
    "train_df.head()"
   ]
  },
  {
   "cell_type": "markdown",
   "id": "7cd5d402",
   "metadata": {
    "papermill": {
     "duration": 0.01085,
     "end_time": "2023-01-25T00:36:02.701547",
     "exception": false,
     "start_time": "2023-01-25T00:36:02.690697",
     "status": "completed"
    },
    "tags": []
   },
   "source": [
    "# Text Preparation"
   ]
  },
  {
   "cell_type": "code",
   "execution_count": 20,
   "id": "697b76e8",
   "metadata": {
    "execution": {
     "iopub.execute_input": "2023-01-25T00:36:02.725317Z",
     "iopub.status.busy": "2023-01-25T00:36:02.724548Z",
     "iopub.status.idle": "2023-01-25T00:36:02.732454Z",
     "shell.execute_reply": "2023-01-25T00:36:02.731607Z"
    },
    "papermill": {
     "duration": 0.021812,
     "end_time": "2023-01-25T00:36:02.734408",
     "exception": false,
     "start_time": "2023-01-25T00:36:02.712596",
     "status": "completed"
    },
    "tags": []
   },
   "outputs": [],
   "source": [
    "def lower_text(text):\n",
    "    # lowercase the text \n",
    "    return text.lower()\n",
    "\n",
    "def remove_number(text):\n",
    "    # remove number with regex\n",
    "    num = re.compile(r'[-+]?[.\\d]*[\\d]+[:,.\\d]*')\n",
    "    return num.sub(r'', text)\n",
    "\n",
    "def remove_punct(text):\n",
    "    # remove punctuations\n",
    "    punctuations = '@#!?+&*[]-%.:/();$=><|{}^' + \"'`\" \n",
    "    for p in punctuations:\n",
    "        text = text.replace(p, f' {p} ')\n",
    "    return text\n",
    "\n",
    "def nltk_process(text):\n",
    "    list1 = word_tokenize(text)\n",
    "    text = ' '.join([lemmatizer.lemmatize(words) for words in list1])\n",
    "    list1 = word_tokenize(text)\n",
    "    text = \" \".join([word for word in list1 if word not in (stopwords)])\n",
    "    return text\n",
    "\n",
    "def data_preparation(text):\n",
    "    text = lower_text(text)\n",
    "    text = remove_number(text)\n",
    "    text = nltk_process(text)\n",
    "    text = remove_punct(text)\n",
    "  \n",
    "    return text"
   ]
  },
  {
   "cell_type": "code",
   "execution_count": 21,
   "id": "a1530c8f",
   "metadata": {
    "execution": {
     "iopub.execute_input": "2023-01-25T00:36:02.758055Z",
     "iopub.status.busy": "2023-01-25T00:36:02.757438Z",
     "iopub.status.idle": "2023-01-25T00:36:11.769446Z",
     "shell.execute_reply": "2023-01-25T00:36:11.768429Z"
    },
    "papermill": {
     "duration": 9.02641,
     "end_time": "2023-01-25T00:36:11.771838",
     "exception": false,
     "start_time": "2023-01-25T00:36:02.745428",
     "status": "completed"
    },
    "tags": []
   },
   "outputs": [],
   "source": [
    "train_df[\"clean_text\"] = train_df[\"text\"].apply(data_preparation)\n",
    "test_df[\"clean_text\"] = test_df[\"text\"].apply(data_preparation)\n",
    "val_df[\"clean_text\"] = val_df[\"text\"].apply(data_preparation)"
   ]
  },
  {
   "cell_type": "code",
   "execution_count": 22,
   "id": "4db6eb98",
   "metadata": {
    "execution": {
     "iopub.execute_input": "2023-01-25T00:36:11.797539Z",
     "iopub.status.busy": "2023-01-25T00:36:11.795792Z",
     "iopub.status.idle": "2023-01-25T00:36:11.808654Z",
     "shell.execute_reply": "2023-01-25T00:36:11.807779Z"
    },
    "papermill": {
     "duration": 0.027211,
     "end_time": "2023-01-25T00:36:11.810717",
     "exception": false,
     "start_time": "2023-01-25T00:36:11.783506",
     "status": "completed"
    },
    "tags": []
   },
   "outputs": [],
   "source": [
    "train_df['Clean_Length'] = train_df['clean_text'].apply(lambda x:len(x))"
   ]
  },
  {
   "cell_type": "code",
   "execution_count": 23,
   "id": "0607fc5f",
   "metadata": {
    "execution": {
     "iopub.execute_input": "2023-01-25T00:36:11.834803Z",
     "iopub.status.busy": "2023-01-25T00:36:11.833873Z",
     "iopub.status.idle": "2023-01-25T00:36:11.846055Z",
     "shell.execute_reply": "2023-01-25T00:36:11.845034Z"
    },
    "papermill": {
     "duration": 0.026605,
     "end_time": "2023-01-25T00:36:11.848468",
     "exception": false,
     "start_time": "2023-01-25T00:36:11.821863",
     "status": "completed"
    },
    "tags": []
   },
   "outputs": [
    {
     "data": {
      "text/html": [
       "<div>\n",
       "<style scoped>\n",
       "    .dataframe tbody tr th:only-of-type {\n",
       "        vertical-align: middle;\n",
       "    }\n",
       "\n",
       "    .dataframe tbody tr th {\n",
       "        vertical-align: top;\n",
       "    }\n",
       "\n",
       "    .dataframe thead th {\n",
       "        text-align: right;\n",
       "    }\n",
       "</style>\n",
       "<table border=\"1\" class=\"dataframe\">\n",
       "  <thead>\n",
       "    <tr style=\"text-align: right;\">\n",
       "      <th></th>\n",
       "      <th>text</th>\n",
       "      <th>labels</th>\n",
       "      <th>Length</th>\n",
       "      <th>enc_labels</th>\n",
       "      <th>clean_text</th>\n",
       "      <th>Clean_Length</th>\n",
       "    </tr>\n",
       "  </thead>\n",
       "  <tbody>\n",
       "    <tr>\n",
       "      <th>0</th>\n",
       "      <td>i didnt feel humiliated</td>\n",
       "      <td>sadness</td>\n",
       "      <td>23</td>\n",
       "      <td>1</td>\n",
       "      <td>didnt feel humiliated</td>\n",
       "      <td>21</td>\n",
       "    </tr>\n",
       "    <tr>\n",
       "      <th>1</th>\n",
       "      <td>i can go from feeling so hopeless to so damned...</td>\n",
       "      <td>sadness</td>\n",
       "      <td>108</td>\n",
       "      <td>1</td>\n",
       "      <td>go feeling hopeless damned hopeful around some...</td>\n",
       "      <td>60</td>\n",
       "    </tr>\n",
       "    <tr>\n",
       "      <th>2</th>\n",
       "      <td>im grabbing a minute to post i feel greedy wrong</td>\n",
       "      <td>anger</td>\n",
       "      <td>48</td>\n",
       "      <td>2</td>\n",
       "      <td>im grabbing minute post feel greedy wrong</td>\n",
       "      <td>41</td>\n",
       "    </tr>\n",
       "    <tr>\n",
       "      <th>3</th>\n",
       "      <td>i am ever feeling nostalgic about the fireplac...</td>\n",
       "      <td>love</td>\n",
       "      <td>92</td>\n",
       "      <td>4</td>\n",
       "      <td>ever feeling nostalgic fireplace know still pr...</td>\n",
       "      <td>52</td>\n",
       "    </tr>\n",
       "    <tr>\n",
       "      <th>4</th>\n",
       "      <td>i am feeling grouchy</td>\n",
       "      <td>anger</td>\n",
       "      <td>20</td>\n",
       "      <td>2</td>\n",
       "      <td>feeling grouchy</td>\n",
       "      <td>15</td>\n",
       "    </tr>\n",
       "    <tr>\n",
       "      <th>5</th>\n",
       "      <td>ive been feeling a little burdened lately wasn...</td>\n",
       "      <td>sadness</td>\n",
       "      <td>65</td>\n",
       "      <td>1</td>\n",
       "      <td>ive feeling little burdened lately wasnt sure wa</td>\n",
       "      <td>48</td>\n",
       "    </tr>\n",
       "    <tr>\n",
       "      <th>6</th>\n",
       "      <td>ive been taking or milligrams or times recomme...</td>\n",
       "      <td>surprise</td>\n",
       "      <td>122</td>\n",
       "      <td>5</td>\n",
       "      <td>ive taking milligram time recommended amount i...</td>\n",
       "      <td>94</td>\n",
       "    </tr>\n",
       "    <tr>\n",
       "      <th>7</th>\n",
       "      <td>i feel as confused about life as a teenager or...</td>\n",
       "      <td>fear</td>\n",
       "      <td>73</td>\n",
       "      <td>3</td>\n",
       "      <td>feel confused life teenager jaded year old man</td>\n",
       "      <td>46</td>\n",
       "    </tr>\n",
       "    <tr>\n",
       "      <th>8</th>\n",
       "      <td>i have been with petronas for years i feel tha...</td>\n",
       "      <td>joy</td>\n",
       "      <td>98</td>\n",
       "      <td>0</td>\n",
       "      <td>petronas year feel petronas ha performed well ...</td>\n",
       "      <td>62</td>\n",
       "    </tr>\n",
       "    <tr>\n",
       "      <th>9</th>\n",
       "      <td>i feel romantic too</td>\n",
       "      <td>love</td>\n",
       "      <td>19</td>\n",
       "      <td>4</td>\n",
       "      <td>feel romantic</td>\n",
       "      <td>13</td>\n",
       "    </tr>\n",
       "  </tbody>\n",
       "</table>\n",
       "</div>"
      ],
      "text/plain": [
       "                                                text    labels  Length  \\\n",
       "0                            i didnt feel humiliated   sadness      23   \n",
       "1  i can go from feeling so hopeless to so damned...   sadness     108   \n",
       "2   im grabbing a minute to post i feel greedy wrong     anger      48   \n",
       "3  i am ever feeling nostalgic about the fireplac...      love      92   \n",
       "4                               i am feeling grouchy     anger      20   \n",
       "5  ive been feeling a little burdened lately wasn...   sadness      65   \n",
       "6  ive been taking or milligrams or times recomme...  surprise     122   \n",
       "7  i feel as confused about life as a teenager or...      fear      73   \n",
       "8  i have been with petronas for years i feel tha...       joy      98   \n",
       "9                                i feel romantic too      love      19   \n",
       "\n",
       "   enc_labels                                         clean_text  Clean_Length  \n",
       "0           1                              didnt feel humiliated            21  \n",
       "1           1  go feeling hopeless damned hopeful around some...            60  \n",
       "2           2          im grabbing minute post feel greedy wrong            41  \n",
       "3           4  ever feeling nostalgic fireplace know still pr...            52  \n",
       "4           2                                    feeling grouchy            15  \n",
       "5           1   ive feeling little burdened lately wasnt sure wa            48  \n",
       "6           5  ive taking milligram time recommended amount i...            94  \n",
       "7           3     feel confused life teenager jaded year old man            46  \n",
       "8           0  petronas year feel petronas ha performed well ...            62  \n",
       "9           4                                      feel romantic            13  "
      ]
     },
     "execution_count": 23,
     "metadata": {},
     "output_type": "execute_result"
    }
   ],
   "source": [
    "train_df.head(10)"
   ]
  },
  {
   "cell_type": "markdown",
   "id": "a2b62569",
   "metadata": {
    "papermill": {
     "duration": 0.011141,
     "end_time": "2023-01-25T00:36:11.870966",
     "exception": false,
     "start_time": "2023-01-25T00:36:11.859825",
     "status": "completed"
    },
    "tags": []
   },
   "source": [
    "# Text Tokenizer"
   ]
  },
  {
   "cell_type": "code",
   "execution_count": 24,
   "id": "b1e2cb1b",
   "metadata": {
    "execution": {
     "iopub.execute_input": "2023-01-25T00:36:11.895581Z",
     "iopub.status.busy": "2023-01-25T00:36:11.894989Z",
     "iopub.status.idle": "2023-01-25T00:36:11.900833Z",
     "shell.execute_reply": "2023-01-25T00:36:11.899975Z"
    },
    "papermill": {
     "duration": 0.020179,
     "end_time": "2023-01-25T00:36:11.902813",
     "exception": false,
     "start_time": "2023-01-25T00:36:11.882634",
     "status": "completed"
    },
    "tags": []
   },
   "outputs": [],
   "source": [
    "X_train = train_df['clean_text']\n",
    "X_test = test_df['clean_text']\n",
    "y_train = train_df['enc_labels']\n",
    "y_test = test_df['enc_labels']\n",
    "y_val = val_df['enc_labels']"
   ]
  },
  {
   "cell_type": "code",
   "execution_count": 25,
   "id": "f99ef6ef",
   "metadata": {
    "execution": {
     "iopub.execute_input": "2023-01-25T00:36:11.926725Z",
     "iopub.status.busy": "2023-01-25T00:36:11.926456Z",
     "iopub.status.idle": "2023-01-25T00:36:12.390242Z",
     "shell.execute_reply": "2023-01-25T00:36:12.388361Z"
    },
    "papermill": {
     "duration": 0.478389,
     "end_time": "2023-01-25T00:36:12.392471",
     "exception": false,
     "start_time": "2023-01-25T00:36:11.914082",
     "status": "completed"
    },
    "tags": []
   },
   "outputs": [
    {
     "name": "stdout",
     "output_type": "stream",
     "text": [
      "13464\n"
     ]
    }
   ],
   "source": [
    "tokenizer = Tokenizer(oov_token='<oov>')\n",
    "tokenizer.fit_on_texts(X_train)\n",
    "\n",
    "X_train = tokenizer.texts_to_sequences(X_train)\n",
    "X_test = tokenizer.texts_to_sequences(X_test)\n",
    "X_val = tokenizer.texts_to_sequences(val_df['clean_text'])\n",
    "\n",
    "vocab_size = len(tokenizer.word_index) + 1\n",
    "print(vocab_size)"
   ]
  },
  {
   "cell_type": "code",
   "execution_count": 26,
   "id": "53619cc5",
   "metadata": {
    "execution": {
     "iopub.execute_input": "2023-01-25T00:36:12.418346Z",
     "iopub.status.busy": "2023-01-25T00:36:12.416771Z",
     "iopub.status.idle": "2023-01-25T00:36:12.475510Z",
     "shell.execute_reply": "2023-01-25T00:36:12.474532Z"
    },
    "papermill": {
     "duration": 0.073654,
     "end_time": "2023-01-25T00:36:12.477833",
     "exception": false,
     "start_time": "2023-01-25T00:36:12.404179",
     "status": "completed"
    },
    "tags": []
   },
   "outputs": [],
   "source": [
    "X_train = pad_sequences(X_train, padding='post', maxlen=128)\n",
    "X_test = pad_sequences(X_test, padding='post', maxlen=128)\n",
    "X_val = pad_sequences(X_val, padding='post', maxlen=128)"
   ]
  },
  {
   "cell_type": "code",
   "execution_count": 27,
   "id": "3aeafacc",
   "metadata": {
    "execution": {
     "iopub.execute_input": "2023-01-25T00:36:12.502891Z",
     "iopub.status.busy": "2023-01-25T00:36:12.502549Z",
     "iopub.status.idle": "2023-01-25T00:36:12.508123Z",
     "shell.execute_reply": "2023-01-25T00:36:12.507218Z"
    },
    "papermill": {
     "duration": 0.020337,
     "end_time": "2023-01-25T00:36:12.510292",
     "exception": false,
     "start_time": "2023-01-25T00:36:12.489955",
     "status": "completed"
    },
    "tags": []
   },
   "outputs": [],
   "source": [
    "OHE_y_test = to_categorical(y_test) # One Hot Encode apply\n",
    "OHE_y_train = to_categorical(y_train)\n",
    "OHE_y_val = to_categorical(y_val)"
   ]
  },
  {
   "cell_type": "markdown",
   "id": "288c836f",
   "metadata": {
    "papermill": {
     "duration": 0.011191,
     "end_time": "2023-01-25T00:36:12.532724",
     "exception": false,
     "start_time": "2023-01-25T00:36:12.521533",
     "status": "completed"
    },
    "tags": []
   },
   "source": [
    "# Model Building"
   ]
  },
  {
   "cell_type": "code",
   "execution_count": 28,
   "id": "70c1a054",
   "metadata": {
    "execution": {
     "iopub.execute_input": "2023-01-25T00:36:12.557091Z",
     "iopub.status.busy": "2023-01-25T00:36:12.556141Z",
     "iopub.status.idle": "2023-01-25T00:36:12.563064Z",
     "shell.execute_reply": "2023-01-25T00:36:12.562199Z"
    },
    "papermill": {
     "duration": 0.021172,
     "end_time": "2023-01-25T00:36:12.565063",
     "exception": false,
     "start_time": "2023-01-25T00:36:12.543891",
     "status": "completed"
    },
    "tags": []
   },
   "outputs": [],
   "source": [
    "from tensorflow.keras.layers import LSTM, Bidirectional, Dense, Embedding, Dropout, BatchNormalization\n",
    "from tensorflow.keras.models import Sequential\n",
    "from tensorflow.keras.optimizers import Adam\n",
    "from tensorflow.keras.callbacks import EarlyStopping, ReduceLROnPlateau, ModelCheckpoint, Callback"
   ]
  },
  {
   "cell_type": "code",
   "execution_count": 29,
   "id": "e636047d",
   "metadata": {
    "execution": {
     "iopub.execute_input": "2023-01-25T00:36:12.588934Z",
     "iopub.status.busy": "2023-01-25T00:36:12.588122Z",
     "iopub.status.idle": "2023-01-25T00:36:17.423065Z",
     "shell.execute_reply": "2023-01-25T00:36:17.422070Z"
    },
    "papermill": {
     "duration": 4.849564,
     "end_time": "2023-01-25T00:36:17.425680",
     "exception": false,
     "start_time": "2023-01-25T00:36:12.576116",
     "status": "completed"
    },
    "tags": []
   },
   "outputs": [
    {
     "name": "stderr",
     "output_type": "stream",
     "text": [
      "2023-01-25 00:36:12.900129: I tensorflow/stream_executor/cuda/cuda_gpu_executor.cc:937] successful NUMA node read from SysFS had negative value (-1), but there must be at least one NUMA node, so returning NUMA node zero\n",
      "2023-01-25 00:36:13.091391: I tensorflow/stream_executor/cuda/cuda_gpu_executor.cc:937] successful NUMA node read from SysFS had negative value (-1), but there must be at least one NUMA node, so returning NUMA node zero\n",
      "2023-01-25 00:36:13.092263: I tensorflow/stream_executor/cuda/cuda_gpu_executor.cc:937] successful NUMA node read from SysFS had negative value (-1), but there must be at least one NUMA node, so returning NUMA node zero\n",
      "2023-01-25 00:36:13.093685: I tensorflow/core/platform/cpu_feature_guard.cc:142] This TensorFlow binary is optimized with oneAPI Deep Neural Network Library (oneDNN) to use the following CPU instructions in performance-critical operations:  AVX2 AVX512F FMA\n",
      "To enable them in other operations, rebuild TensorFlow with the appropriate compiler flags.\n",
      "2023-01-25 00:36:13.094027: I tensorflow/stream_executor/cuda/cuda_gpu_executor.cc:937] successful NUMA node read from SysFS had negative value (-1), but there must be at least one NUMA node, so returning NUMA node zero\n",
      "2023-01-25 00:36:13.094740: I tensorflow/stream_executor/cuda/cuda_gpu_executor.cc:937] successful NUMA node read from SysFS had negative value (-1), but there must be at least one NUMA node, so returning NUMA node zero\n",
      "2023-01-25 00:36:13.095419: I tensorflow/stream_executor/cuda/cuda_gpu_executor.cc:937] successful NUMA node read from SysFS had negative value (-1), but there must be at least one NUMA node, so returning NUMA node zero\n",
      "2023-01-25 00:36:15.483470: I tensorflow/stream_executor/cuda/cuda_gpu_executor.cc:937] successful NUMA node read from SysFS had negative value (-1), but there must be at least one NUMA node, so returning NUMA node zero\n",
      "2023-01-25 00:36:15.484597: I tensorflow/stream_executor/cuda/cuda_gpu_executor.cc:937] successful NUMA node read from SysFS had negative value (-1), but there must be at least one NUMA node, so returning NUMA node zero\n",
      "2023-01-25 00:36:15.485516: I tensorflow/stream_executor/cuda/cuda_gpu_executor.cc:937] successful NUMA node read from SysFS had negative value (-1), but there must be at least one NUMA node, so returning NUMA node zero\n",
      "2023-01-25 00:36:15.486322: I tensorflow/core/common_runtime/gpu/gpu_device.cc:1510] Created device /job:localhost/replica:0/task:0/device:GPU:0 with 15401 MB memory:  -> device: 0, name: Tesla P100-PCIE-16GB, pci bus id: 0000:00:04.0, compute capability: 6.0\n"
     ]
    }
   ],
   "source": [
    "model = Sequential([\n",
    "    Embedding(vocab_size, 128, input_length=128, name='in_layer'),\n",
    "    BatchNormalization(),\n",
    "    Dropout(0.5),\n",
    "    Bidirectional(LSTM(512, return_sequences=True, name='Bi-LSTM-1')),\n",
    "    Bidirectional(LSTM(256, return_sequences=True, name='Bi-LSTM-2')),\n",
    "    Bidirectional(LSTM(128, name='Bi-LSTM-3')),\n",
    "    Dropout(0.5),\n",
    "    Dense(512, activation='relu', name='fc-1'),\n",
    "    Dense(6, activation='softmax', name='out_layer')\n",
    "])"
   ]
  },
  {
   "cell_type": "code",
   "execution_count": 30,
   "id": "fe7020ee",
   "metadata": {
    "execution": {
     "iopub.execute_input": "2023-01-25T00:36:17.451301Z",
     "iopub.status.busy": "2023-01-25T00:36:17.449765Z",
     "iopub.status.idle": "2023-01-25T00:36:17.457723Z",
     "shell.execute_reply": "2023-01-25T00:36:17.456870Z"
    },
    "papermill": {
     "duration": 0.022306,
     "end_time": "2023-01-25T00:36:17.459670",
     "exception": false,
     "start_time": "2023-01-25T00:36:17.437364",
     "status": "completed"
    },
    "tags": []
   },
   "outputs": [],
   "source": [
    "# # tensorboard = TensorBoard(log_dir = 'logs')\n",
    "checkpoint = ModelCheckpoint(\"model.h5\",monitor=\"val_accuracy\",save_best_only=True,mode=\"auto\",verbose=1)\n",
    "reduce_lr = ReduceLROnPlateau(monitor = 'val_accuracy', factor = 0.3, patience = 2, min_delta = 0.001, mode='auto',verbose=1)\n",
    "class callbackTarget(Callback):\n",
    "  def on_epoch_end(self, epoch, logs={}):\n",
    "    if(logs.get('val_accuracy') >= 0.92 and logs.get('accuracy') >= 0.92):\n",
    "      print('\\nVal_accuracy and accuracy has reached >= 92%!')\n",
    "      self.model.stop_training = True\n",
    "\n",
    "target = callbackTarget()"
   ]
  },
  {
   "cell_type": "code",
   "execution_count": 31,
   "id": "26aabd7b",
   "metadata": {
    "execution": {
     "iopub.execute_input": "2023-01-25T00:36:17.483252Z",
     "iopub.status.busy": "2023-01-25T00:36:17.482958Z",
     "iopub.status.idle": "2023-01-25T00:36:17.489727Z",
     "shell.execute_reply": "2023-01-25T00:36:17.488817Z"
    },
    "papermill": {
     "duration": 0.021138,
     "end_time": "2023-01-25T00:36:17.492046",
     "exception": false,
     "start_time": "2023-01-25T00:36:17.470908",
     "status": "completed"
    },
    "tags": []
   },
   "outputs": [
    {
     "name": "stdout",
     "output_type": "stream",
     "text": [
      "Model: \"sequential\"\n",
      "_________________________________________________________________\n",
      "Layer (type)                 Output Shape              Param #   \n",
      "=================================================================\n",
      "in_layer (Embedding)         (None, 128, 128)          1723392   \n",
      "_________________________________________________________________\n",
      "batch_normalization (BatchNo (None, 128, 128)          512       \n",
      "_________________________________________________________________\n",
      "dropout (Dropout)            (None, 128, 128)          0         \n",
      "_________________________________________________________________\n",
      "bidirectional (Bidirectional (None, 128, 1024)         2625536   \n",
      "_________________________________________________________________\n",
      "bidirectional_1 (Bidirection (None, 128, 512)          2623488   \n",
      "_________________________________________________________________\n",
      "bidirectional_2 (Bidirection (None, 256)               656384    \n",
      "_________________________________________________________________\n",
      "dropout_1 (Dropout)          (None, 256)               0         \n",
      "_________________________________________________________________\n",
      "fc-1 (Dense)                 (None, 512)               131584    \n",
      "_________________________________________________________________\n",
      "out_layer (Dense)            (None, 6)                 3078      \n",
      "=================================================================\n",
      "Total params: 7,763,974\n",
      "Trainable params: 7,763,718\n",
      "Non-trainable params: 256\n",
      "_________________________________________________________________\n"
     ]
    }
   ],
   "source": [
    "model.summary()"
   ]
  },
  {
   "cell_type": "code",
   "execution_count": 32,
   "id": "09e2ba81",
   "metadata": {
    "execution": {
     "iopub.execute_input": "2023-01-25T00:36:17.515743Z",
     "iopub.status.busy": "2023-01-25T00:36:17.515480Z",
     "iopub.status.idle": "2023-01-25T00:36:18.609265Z",
     "shell.execute_reply": "2023-01-25T00:36:18.608144Z"
    },
    "papermill": {
     "duration": 1.108351,
     "end_time": "2023-01-25T00:36:18.611664",
     "exception": false,
     "start_time": "2023-01-25T00:36:17.503313",
     "status": "completed"
    },
    "tags": []
   },
   "outputs": [
    {
     "data": {
      "image/png": "[encoded data removed]",
      "text/plain": [
       "<IPython.core.display.Image object>"
      ]
     },
     "execution_count": 32,
     "metadata": {},
     "output_type": "execute_result"
    }
   ],
   "source": [
    "tf.keras.utils.plot_model(model, to_file='model_plot.png', dpi=128, show_shapes=True, show_layer_names=True)"
   ]
  },
  {
   "cell_type": "code",
   "execution_count": 33,
   "id": "e43db77c",
   "metadata": {
    "execution": {
     "iopub.execute_input": "2023-01-25T00:36:18.640323Z",
     "iopub.status.busy": "2023-01-25T00:36:18.639982Z",
     "iopub.status.idle": "2023-01-25T00:38:18.210188Z",
     "shell.execute_reply": "2023-01-25T00:38:18.208929Z"
    },
    "papermill": {
     "duration": 119.586806,
     "end_time": "2023-01-25T00:38:18.212232",
     "exception": false,
     "start_time": "2023-01-25T00:36:18.625426",
     "status": "completed"
    },
    "tags": []
   },
   "outputs": [
    {
     "name": "stderr",
     "output_type": "stream",
     "text": [
      "2023-01-25 00:36:18.706809: I tensorflow/compiler/mlir/mlir_graph_optimization_pass.cc:185] None of the MLIR Optimization Passes are enabled (registered 2)\n"
     ]
    },
    {
     "name": "stdout",
     "output_type": "stream",
     "text": [
      "Epoch 1/200\n"
     ]
    },
    {
     "name": "stderr",
     "output_type": "stream",
     "text": [
      "2023-01-25 00:36:25.165009: I tensorflow/stream_executor/cuda/cuda_dnn.cc:369] Loaded cuDNN version 8005\n"
     ]
    },
    {
     "name": "stdout",
     "output_type": "stream",
     "text": [
      "125/125 [==============================] - 32s 187ms/step - loss: 1.1739 - accuracy: 0.5412 - val_loss: 1.3842 - val_accuracy: 0.6245\n",
      "\n",
      "Epoch 00001: val_accuracy improved from -inf to 0.62450, saving model to model.h5\n",
      "Epoch 2/200\n",
      "125/125 [==============================] - 22s 173ms/step - loss: 0.2841 - accuracy: 0.9031 - val_loss: 0.7882 - val_accuracy: 0.8170\n",
      "\n",
      "Epoch 00002: val_accuracy improved from 0.62450 to 0.81700, saving model to model.h5\n",
      "Epoch 3/200\n",
      "125/125 [==============================] - 22s 173ms/step - loss: 0.1406 - accuracy: 0.9439 - val_loss: 0.3459 - val_accuracy: 0.8800\n",
      "\n",
      "Epoch 00003: val_accuracy improved from 0.81700 to 0.88000, saving model to model.h5\n",
      "Epoch 4/200\n",
      "125/125 [==============================] - 22s 173ms/step - loss: 0.1190 - accuracy: 0.9519 - val_loss: 0.2550 - val_accuracy: 0.9070\n",
      "\n",
      "Epoch 00004: val_accuracy improved from 0.88000 to 0.90700, saving model to model.h5\n",
      "Epoch 5/200\n",
      "125/125 [==============================] - 22s 174ms/step - loss: 0.0931 - accuracy: 0.9626 - val_loss: 0.1741 - val_accuracy: 0.9260\n",
      "\n",
      "Epoch 00005: val_accuracy improved from 0.90700 to 0.92600, saving model to model.h5\n",
      "\n",
      "Val_accuracy and accuracy has reached >= 92%!\n"
     ]
    }
   ],
   "source": [
    "# Adam(learning_rate=0.0001)\n",
    "model.compile(optimizer='Adam',\n",
    "              loss='categorical_crossentropy',\n",
    "              metrics=['accuracy'])\n",
    "history = model.fit(X_train, OHE_y_train,\n",
    "                    epochs=200, \n",
    "                    verbose=1,\n",
    "                    validation_data=(X_test, OHE_y_test),\n",
    "                    callbacks = [checkpoint, reduce_lr, target],\n",
    "                    batch_size=128)"
   ]
  },
  {
   "cell_type": "markdown",
   "id": "7ff6070f",
   "metadata": {
    "papermill": {
     "duration": 0.045044,
     "end_time": "2023-01-25T00:38:18.303144",
     "exception": false,
     "start_time": "2023-01-25T00:38:18.258100",
     "status": "completed"
    },
    "tags": []
   },
   "source": [
    "# Evaluation"
   ]
  },
  {
   "cell_type": "code",
   "execution_count": 34,
   "id": "f1f5c62d",
   "metadata": {
    "execution": {
     "iopub.execute_input": "2023-01-25T00:38:18.396065Z",
     "iopub.status.busy": "2023-01-25T00:38:18.395000Z",
     "iopub.status.idle": "2023-01-25T00:38:46.514169Z",
     "shell.execute_reply": "2023-01-25T00:38:46.513109Z"
    },
    "papermill": {
     "duration": 28.168279,
     "end_time": "2023-01-25T00:38:46.516382",
     "exception": false,
     "start_time": "2023-01-25T00:38:18.348103",
     "status": "completed"
    },
    "tags": []
   },
   "outputs": [
    {
     "data": {
      "image/png": "[encoded data removed]",
      "text/plain": [
       "<Figure size 432x288 with 1 Axes>"
      ]
     },
     "metadata": {
      "needs_background": "light"
     },
     "output_type": "display_data"
    },
    {
     "data": {
      "image/png": "[encoded data removed]",
      "text/plain": [
       "<Figure size 432x288 with 1 Axes>"
      ]
     },
     "metadata": {
      "needs_background": "light"
     },
     "output_type": "display_data"
    }
   ],
   "source": [
    "plt.plot(history.history['loss'])\n",
    "plt.plot(history.history['val_loss'])\n",
    "plt.title('Model Loss')\n",
    "plt.ylabel('Loss')\n",
    "plt.xlabel('Epochs')\n",
    "plt.legend(['train', 'test'], loc = 'upper right')\n",
    "plt.show()\n",
    "\n",
    "plt.plot(history.history['accuracy'])\n",
    "plt.plot(history.history['val_accuracy'])\n",
    "plt.title('Model Accuracy')\n",
    "plt.ylabel('Accuracy')\n",
    "plt.xlabel('Epoch')\n",
    "plt.legend(['train', 'test'], loc='lower right')\n",
    "plt.show()"
   ]
  },
  {
   "cell_type": "code",
   "execution_count": 35,
   "id": "2cdeddff",
   "metadata": {
    "execution": {
     "iopub.execute_input": "2023-01-25T00:38:46.611891Z",
     "iopub.status.busy": "2023-01-25T00:38:46.610291Z",
     "iopub.status.idle": "2023-01-25T00:38:46.615873Z",
     "shell.execute_reply": "2023-01-25T00:38:46.615005Z"
    },
    "papermill": {
     "duration": 0.054611,
     "end_time": "2023-01-25T00:38:46.618162",
     "exception": false,
     "start_time": "2023-01-25T00:38:46.563551",
     "status": "completed"
    },
    "tags": []
   },
   "outputs": [],
   "source": [
    "# model.evaluate(X_val, OHE_y_val)"
   ]
  },
  {
   "cell_type": "code",
   "execution_count": 36,
   "id": "0c0216a6",
   "metadata": {
    "execution": {
     "iopub.execute_input": "2023-01-25T00:38:46.709961Z",
     "iopub.status.busy": "2023-01-25T00:38:46.709650Z",
     "iopub.status.idle": "2023-01-25T00:38:50.789339Z",
     "shell.execute_reply": "2023-01-25T00:38:50.788331Z"
    },
    "papermill": {
     "duration": 4.129141,
     "end_time": "2023-01-25T00:38:50.791841",
     "exception": false,
     "start_time": "2023-01-25T00:38:46.662700",
     "status": "completed"
    },
    "tags": []
   },
   "outputs": [],
   "source": [
    "# Model Evaluate with test df\n",
    "predict = model.predict(X_val)\n",
    "predict_class = np.argmax(predict, axis=1)\n",
    "predict_class = np.array(predict_class)"
   ]
  },
  {
   "cell_type": "code",
   "execution_count": 37,
   "id": "af1ec016",
   "metadata": {
    "execution": {
     "iopub.execute_input": "2023-01-25T00:38:50.884776Z",
     "iopub.status.busy": "2023-01-25T00:38:50.883872Z",
     "iopub.status.idle": "2023-01-25T00:38:50.897468Z",
     "shell.execute_reply": "2023-01-25T00:38:50.896181Z"
    },
    "papermill": {
     "duration": 0.061933,
     "end_time": "2023-01-25T00:38:50.899492",
     "exception": false,
     "start_time": "2023-01-25T00:38:50.837559",
     "status": "completed"
    },
    "tags": []
   },
   "outputs": [
    {
     "name": "stdout",
     "output_type": "stream",
     "text": [
      "              precision    recall  f1-score   support\n",
      "\n",
      "       anger       0.96      0.93      0.95       704\n",
      "        fear       0.95      0.96      0.96       550\n",
      "         joy       0.91      0.93      0.92       275\n",
      "        love       0.86      0.89      0.88       212\n",
      "     sadness       0.83      0.89      0.86       178\n",
      "    surprise       0.90      0.78      0.83        81\n",
      "\n",
      "    accuracy                           0.93      2000\n",
      "   macro avg       0.90      0.90      0.90      2000\n",
      "weighted avg       0.93      0.93      0.93      2000\n",
      "\n"
     ]
    }
   ],
   "source": [
    "from sklearn.metrics import classification_report\n",
    "print(classification_report(val_df[\"enc_labels\"], predict_class, target_names =[\"anger\", \"fear\", \"joy\", \"love\", \"sadness\", \"surprise\"]))"
   ]
  },
  {
   "cell_type": "code",
   "execution_count": 38,
   "id": "3490df7f",
   "metadata": {
    "execution": {
     "iopub.execute_input": "2023-01-25T00:38:50.990696Z",
     "iopub.status.busy": "2023-01-25T00:38:50.990362Z",
     "iopub.status.idle": "2023-01-25T00:38:50.996633Z",
     "shell.execute_reply": "2023-01-25T00:38:50.995622Z"
    },
    "papermill": {
     "duration": 0.05502,
     "end_time": "2023-01-25T00:38:50.999263",
     "exception": false,
     "start_time": "2023-01-25T00:38:50.944243",
     "status": "completed"
    },
    "tags": []
   },
   "outputs": [
    {
     "name": "stdout",
     "output_type": "stream",
     "text": [
      "['joy', 'sadness', 'anger', 'fear', 'love', 'surprise']\n"
     ]
    }
   ],
   "source": [
    "print(labels)\n",
    "def get_key(value):\n",
    "    dictionary={\n",
    "        \"joy\":0,\n",
    "        \"sadness\":1,\n",
    "        \"anger\":2,\n",
    "        \"fear\":3,\n",
    "        \"love\":4,\n",
    "        \"surprise\":5\n",
    "    }\n",
    "    for key,val in dictionary.items():\n",
    "          if (val==value):\n",
    "            return key"
   ]
  },
  {
   "cell_type": "code",
   "execution_count": 39,
   "id": "05d66122",
   "metadata": {
    "execution": {
     "iopub.execute_input": "2023-01-25T00:38:51.090933Z",
     "iopub.status.busy": "2023-01-25T00:38:51.090614Z",
     "iopub.status.idle": "2023-01-25T00:38:51.096193Z",
     "shell.execute_reply": "2023-01-25T00:38:51.095215Z"
    },
    "papermill": {
     "duration": 0.054412,
     "end_time": "2023-01-25T00:38:51.098244",
     "exception": false,
     "start_time": "2023-01-25T00:38:51.043832",
     "status": "completed"
    },
    "tags": []
   },
   "outputs": [],
   "source": [
    "def predict_test(sentence):\n",
    "  sentence_lst=[]\n",
    "  sentence_lst.append(sentence)\n",
    "  sentence_seq=tokenizer.texts_to_sequences(sentence_lst)\n",
    "  sentence_padded=pad_sequences(sentence_seq,maxlen=300,padding='post')\n",
    "  ans=get_key(np.argmax(model.predict(sentence_padded), axis=1))\n",
    "  print(\"The emotion predicted is\",ans)"
   ]
  },
  {
   "cell_type": "code",
   "execution_count": 40,
   "id": "c79cc45c",
   "metadata": {
    "execution": {
     "iopub.execute_input": "2023-01-25T00:38:51.190388Z",
     "iopub.status.busy": "2023-01-25T00:38:51.189546Z",
     "iopub.status.idle": "2023-01-25T00:38:53.123528Z",
     "shell.execute_reply": "2023-01-25T00:38:53.122306Z"
    },
    "papermill": {
     "duration": 1.98232,
     "end_time": "2023-01-25T00:38:53.125852",
     "exception": false,
     "start_time": "2023-01-25T00:38:51.143532",
     "status": "completed"
    },
    "tags": []
   },
   "outputs": [
    {
     "name": "stdout",
     "output_type": "stream",
     "text": [
      "The emotion predicted is love\n",
      "The emotion predicted is love\n",
      "The emotion predicted is anger\n",
      "The emotion predicted is joy\n",
      "The emotion predicted is sadness\n",
      "The emotion predicted is surprise\n"
     ]
    }
   ],
   "source": [
    "# predict(str(input('Enter a sentence : ')))\n",
    "test_love = \"i feel like a faithful servant\"\n",
    "test_anger = \"i am just feeling cranky and blue\"\n",
    "test_joy = \"i feel less keen about the army every day\"\n",
    "test_sadness = \"i feel dirty and ashamed for saying that\"\n",
    "test_fear = \" i spent a lot of time feeling overwhelmed with the amount of information he provided while reading the textbook\"\n",
    "test_love_2 = \"i sincerely feel will benefit any relationship whether it is romantic family work or socially oriented\"\n",
    "\n",
    "\n",
    "predict_test(test_love)\n",
    "predict_test(test_love_2)\n",
    "predict_test(test_anger)\n",
    "predict_test(test_joy)\n",
    "predict_test(test_sadness)\n",
    "predict_test(test_fear)"
   ]
  },
  {
   "cell_type": "code",
   "execution_count": 41,
   "id": "c62449c3",
   "metadata": {
    "execution": {
     "iopub.execute_input": "2023-01-25T00:38:53.219450Z",
     "iopub.status.busy": "2023-01-25T00:38:53.218025Z",
     "iopub.status.idle": "2023-01-25T00:38:53.223307Z",
     "shell.execute_reply": "2023-01-25T00:38:53.222349Z"
    },
    "papermill": {
     "duration": 0.053678,
     "end_time": "2023-01-25T00:38:53.225308",
     "exception": false,
     "start_time": "2023-01-25T00:38:53.171630",
     "status": "completed"
    },
    "tags": []
   },
   "outputs": [],
   "source": [
    "pd.options.display.max_colwidth = 300"
   ]
  },
  {
   "cell_type": "code",
   "execution_count": 42,
   "id": "390fc602",
   "metadata": {
    "execution": {
     "iopub.execute_input": "2023-01-25T00:38:53.316541Z",
     "iopub.status.busy": "2023-01-25T00:38:53.316230Z",
     "iopub.status.idle": "2023-01-25T00:38:53.324738Z",
     "shell.execute_reply": "2023-01-25T00:38:53.323389Z"
    },
    "papermill": {
     "duration": 0.056676,
     "end_time": "2023-01-25T00:38:53.326716",
     "exception": false,
     "start_time": "2023-01-25T00:38:53.270040",
     "status": "completed"
    },
    "tags": []
   },
   "outputs": [
    {
     "name": "stdout",
     "output_type": "stream",
     "text": [
      "2                                                                                                                                                                                                     i feel like a faithful servant\n",
      "18      i also loved that you could really feel the desperation in these sequences and i especially liked the emotion between knight and squire as theyve been together in a similar fashion to batman and robin for a long time now\n",
      "30                                                                                                             i feel like im caring about my body not in just an attempt to be the right size but to feel good and have a full life\n",
      "40                                                                    i sit the chicken preferably bone in chicken thighs skinless because i feel they have the most flavor in a crock pot so that it becomes tender and falls apart\n",
      "48                                           i see the starlight caress your hair no more feel the tender kisses we used to share i close my eyes and clearly my heart remembers a thousand good byes could never put out the embers\n",
      "                                                                                                                    ...                                                                                                             \n",
      "1955                                                                                                                          i sincerely feel will benefit any relationship whether it is romantic family work or socially oriented\n",
      "1956                                                                                                                                                            i like the feel of the game but im not very fond of the color scheme\n",
      "1972                                                                                                                                                                im feeling a little tender and mashed today and im doing my best\n",
      "1978                                                                                                                                                                     i can feel all supportive and jrock ish in school tommorrow\n",
      "1988                                                                                                                                                   i feel like i got to know her a bit and what i did get to know i really liked\n",
      "Name: text, Length: 178, dtype: object\n"
     ]
    }
   ],
   "source": [
    "print(val_df['text'][val_df['labels']=='love'])"
   ]
  }
 ],
 "metadata": {
  "kernelspec": {
   "display_name": "Python 3",
   "language": "python",
   "name": "python3"
  },
  "language_info": {
   "codemirror_mode": {
    "name": "ipython",
    "version": 3
   },
   "file_extension": ".py",
   "mimetype": "text/x-python",
   "name": "python",
   "nbconvert_exporter": "python",
   "pygments_lexer": "ipython3",
   "version": "3.7.12"
  },
  "papermill": {
   "default_parameters": {},
   "duration": 203.442368,
   "end_time": "2023-01-25T00:38:56.687577",
   "environment_variables": {},
   "exception": null,
   "input_path": "__notebook__.ipynb",
   "output_path": "__notebook__.ipynb",
   "parameters": {},
   "start_time": "2023-01-25T00:35:33.245209",
   "version": "2.3.4"
  }
 },
 "nbformat": 4,
 "nbformat_minor": 5
}
