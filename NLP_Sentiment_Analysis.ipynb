{
 "cells": [
  {
   "cell_type": "code",
   "execution_count": 1,
   "id": "4cf3d181",
   "metadata": {
    "_cell_guid": "b1076dfc-b9ad-4769-8c92-a6c4dae69d19",
    "_uuid": "8f2839f25d086af736a60e9eeb907d3b93b6e0e5",
    "execution": {
     "iopub.execute_input": "2023-01-24T17:04:43.964751Z",
     "iopub.status.busy": "2023-01-24T17:04:43.963946Z",
     "iopub.status.idle": "2023-01-24T17:04:54.962002Z",
     "shell.execute_reply": "2023-01-24T17:04:54.960808Z"
    },
    "papermill": {
     "duration": 11.012613,
     "end_time": "2023-01-24T17:04:54.964377",
     "exception": false,
     "start_time": "2023-01-24T17:04:43.951764",
     "status": "completed"
    },
    "tags": []
   },
   "outputs": [
    {
     "name": "stdout",
     "output_type": "stream",
     "text": [
      "Requirement already satisfied: textblob in /opt/conda/lib/python3.7/site-packages (0.17.1)\r\n",
      "Requirement already satisfied: nltk>=3.1 in /opt/conda/lib/python3.7/site-packages (from textblob) (3.7)\r\n",
      "Requirement already satisfied: joblib in /opt/conda/lib/python3.7/site-packages (from nltk>=3.1->textblob) (1.0.1)\r\n",
      "Requirement already satisfied: regex>=2021.8.3 in /opt/conda/lib/python3.7/site-packages (from nltk>=3.1->textblob) (2021.11.10)\r\n",
      "Requirement already satisfied: tqdm in /opt/conda/lib/python3.7/site-packages (from nltk>=3.1->textblob) (4.64.0)\r\n",
      "Requirement already satisfied: click in /opt/conda/lib/python3.7/site-packages (from nltk>=3.1->textblob) (8.0.4)\r\n",
      "Requirement already satisfied: importlib-metadata in /opt/conda/lib/python3.7/site-packages (from click->nltk>=3.1->textblob) (4.13.0)\r\n",
      "Requirement already satisfied: zipp>=0.5 in /opt/conda/lib/python3.7/site-packages (from importlib-metadata->click->nltk>=3.1->textblob) (3.8.0)\r\n",
      "Requirement already satisfied: typing-extensions>=3.6.4 in /opt/conda/lib/python3.7/site-packages (from importlib-metadata->click->nltk>=3.1->textblob) (4.1.1)\r\n",
      "\u001b[33mWARNING: Running pip as the 'root' user can result in broken permissions and conflicting behaviour with the system package manager. It is recommended to use a virtual environment instead: https://pip.pypa.io/warnings/venv\u001b[0m\u001b[33m\r\n",
      "\u001b[0mNote: you may need to restart the kernel to use updated packages.\n",
      "/kaggle/input/emotions-dataset-for-nlp/val.txt\n",
      "/kaggle/input/emotions-dataset-for-nlp/test.txt\n",
      "/kaggle/input/emotions-dataset-for-nlp/train.txt\n"
     ]
    }
   ],
   "source": [
    "# This Python 3 environment comes with many helpful analytics libraries installed\n",
    "# It is defined by the kaggle/python Docker image: https://github.com/kaggle/docker-python\n",
    "# For example, here's several helpful packages to load\n",
    "%pip install textblob\n",
    "import numpy as np # linear algebra\n",
    "import pandas as pd # data processing, CSV file I/O (e.g. pd.read_csv)\n",
    "\n",
    "# Input data files are available in the read-only \"../input/\" directory\n",
    "# For example, running this (by clicking run or pressing Shift+Enter) will list all files under the input directory\n",
    "\n",
    "import os\n",
    "for dirname, _, filenames in os.walk('/kaggle/input'):\n",
    "    for filename in filenames:\n",
    "        print(os.path.join(dirname, filename))\n",
    "\n",
    "# You can write up to 20GB to the current directory (/kaggle/working/) that gets preserved as output when you create a version using \"Save & Run All\" \n",
    "# You can also write temporary files to /kaggle/temp/, but they won't be saved outside of the current session"
   ]
  },
  {
   "cell_type": "code",
   "execution_count": 2,
   "id": "9229ffbb",
   "metadata": {
    "execution": {
     "iopub.execute_input": "2023-01-24T17:04:54.984961Z",
     "iopub.status.busy": "2023-01-24T17:04:54.984625Z",
     "iopub.status.idle": "2023-01-24T17:04:56.849738Z",
     "shell.execute_reply": "2023-01-24T17:04:56.848398Z"
    },
    "papermill": {
     "duration": 1.877986,
     "end_time": "2023-01-24T17:04:56.852254",
     "exception": false,
     "start_time": "2023-01-24T17:04:54.974268",
     "status": "completed"
    },
    "tags": []
   },
   "outputs": [],
   "source": [
    "!rm -rf ./logs/ \n",
    "!mkdir ./logs/"
   ]
  },
  {
   "cell_type": "markdown",
   "id": "9b0420e0",
   "metadata": {
    "papermill": {
     "duration": 0.00929,
     "end_time": "2023-01-24T17:04:56.872804",
     "exception": false,
     "start_time": "2023-01-24T17:04:56.863514",
     "status": "completed"
    },
    "tags": []
   },
   "source": [
    "# Ignore Error"
   ]
  },
  {
   "cell_type": "code",
   "execution_count": 3,
   "id": "5c51f992",
   "metadata": {
    "execution": {
     "iopub.execute_input": "2023-01-24T17:04:56.894369Z",
     "iopub.status.busy": "2023-01-24T17:04:56.893279Z",
     "iopub.status.idle": "2023-01-24T17:04:56.907855Z",
     "shell.execute_reply": "2023-01-24T17:04:56.906886Z"
    },
    "papermill": {
     "duration": 0.027617,
     "end_time": "2023-01-24T17:04:56.909920",
     "exception": false,
     "start_time": "2023-01-24T17:04:56.882303",
     "status": "completed"
    },
    "tags": []
   },
   "outputs": [],
   "source": [
    "import warnings\n",
    "warnings.filterwarnings('ignore')\n",
    "%config Completer.use_jedi = False # if autocompletion doesnot work in kaggle notebook "
   ]
  },
  {
   "cell_type": "markdown",
   "id": "b8bd72d2",
   "metadata": {
    "papermill": {
     "duration": 0.008958,
     "end_time": "2023-01-24T17:04:56.928265",
     "exception": false,
     "start_time": "2023-01-24T17:04:56.919307",
     "status": "completed"
    },
    "tags": []
   },
   "source": [
    "# Import Library"
   ]
  },
  {
   "cell_type": "code",
   "execution_count": 4,
   "id": "79a120cb",
   "metadata": {
    "execution": {
     "iopub.execute_input": "2023-01-24T17:04:56.948955Z",
     "iopub.status.busy": "2023-01-24T17:04:56.948094Z",
     "iopub.status.idle": "2023-01-24T17:05:03.854684Z",
     "shell.execute_reply": "2023-01-24T17:05:03.853666Z"
    },
    "papermill": {
     "duration": 6.919957,
     "end_time": "2023-01-24T17:05:03.857302",
     "exception": false,
     "start_time": "2023-01-24T17:04:56.937345",
     "status": "completed"
    },
    "tags": []
   },
   "outputs": [
    {
     "name": "stderr",
     "output_type": "stream",
     "text": [
      "[nltk_data] Downloading package wordnet to /usr/share/nltk_data...\n",
      "[nltk_data]   Package wordnet is already up-to-date!\n",
      "[nltk_data] Downloading package punkt to /usr/share/nltk_data...\n",
      "[nltk_data]   Package punkt is already up-to-date!\n",
      "[nltk_data] Downloading package stopwords to /usr/share/nltk_data...\n",
      "[nltk_data]   Package stopwords is already up-to-date!\n",
      "[nltk_data] Downloading package omw-1.4 to /usr/share/nltk_data...\n"
     ]
    }
   ],
   "source": [
    "import pandas as pd\n",
    "import matplotlib.pyplot as plt\n",
    "import seaborn as sns\n",
    "\n",
    "# import and download library for text processing\n",
    "import re\n",
    "import nltk\n",
    "from nltk.corpus import stopwords\n",
    "from nltk.tokenize import word_tokenize\n",
    "from nltk.stem import WordNetLemmatizer\n",
    "\n",
    "nltk.download('wordnet')\n",
    "nltk.download('punkt')\n",
    "nltk.download('stopwords')\n",
    "nltk.download('omw-1.4')\n",
    "\n",
    "lemmatizer = WordNetLemmatizer()\n",
    "stopwords = stopwords.words('english')\n",
    "\n",
    "from tensorflow.keras.preprocessing.text import Tokenizer\n",
    "from tensorflow.keras.preprocessing.sequence import pad_sequences\n",
    "from tensorflow.keras.utils import to_categorical\n",
    "import tensorflow as tf\n",
    "import random\n",
    "seed = 101\n",
    "random.seed(seed)\n",
    "np.random.seed(seed)\n",
    "tf.random.set_seed(seed)"
   ]
  },
  {
   "cell_type": "code",
   "execution_count": 5,
   "id": "5d0c7c53",
   "metadata": {
    "execution": {
     "iopub.execute_input": "2023-01-24T17:05:03.878379Z",
     "iopub.status.busy": "2023-01-24T17:05:03.877792Z",
     "iopub.status.idle": "2023-01-24T17:05:03.883029Z",
     "shell.execute_reply": "2023-01-24T17:05:03.881935Z"
    },
    "papermill": {
     "duration": 0.018522,
     "end_time": "2023-01-24T17:05:03.885506",
     "exception": false,
     "start_time": "2023-01-24T17:05:03.866984",
     "status": "completed"
    },
    "tags": []
   },
   "outputs": [],
   "source": [
    "path = '/kaggle/input/emotions-dataset-for-nlp/'\n",
    "train_path = path+'train.txt'\n",
    "test_path = path+'test.txt'\n",
    "val_path = path+'val.txt'"
   ]
  },
  {
   "cell_type": "code",
   "execution_count": 6,
   "id": "88e32268",
   "metadata": {
    "execution": {
     "iopub.execute_input": "2023-01-24T17:05:03.906335Z",
     "iopub.status.busy": "2023-01-24T17:05:03.905979Z",
     "iopub.status.idle": "2023-01-24T17:05:03.993953Z",
     "shell.execute_reply": "2023-01-24T17:05:03.993002Z"
    },
    "papermill": {
     "duration": 0.101363,
     "end_time": "2023-01-24T17:05:03.996464",
     "exception": false,
     "start_time": "2023-01-24T17:05:03.895101",
     "status": "completed"
    },
    "tags": []
   },
   "outputs": [],
   "source": [
    "train_df = pd.read_csv(train_path, sep=';', names=['text', 'labels'])\n",
    "test_df = pd.read_csv(test_path, sep=';', names=['text', 'labels'])\n",
    "val_df = pd.read_csv(val_path, sep=';', names=['text', 'labels'])\n",
    "full_df = pd.concat([train_df, test_df, val_df], axis=0)"
   ]
  },
  {
   "cell_type": "code",
   "execution_count": 7,
   "id": "e4bf8ec6",
   "metadata": {
    "execution": {
     "iopub.execute_input": "2023-01-24T17:05:04.018047Z",
     "iopub.status.busy": "2023-01-24T17:05:04.016542Z",
     "iopub.status.idle": "2023-01-24T17:05:04.023763Z",
     "shell.execute_reply": "2023-01-24T17:05:04.022899Z"
    },
    "papermill": {
     "duration": 0.019802,
     "end_time": "2023-01-24T17:05:04.025872",
     "exception": false,
     "start_time": "2023-01-24T17:05:04.006070",
     "status": "completed"
    },
    "tags": []
   },
   "outputs": [
    {
     "name": "stdout",
     "output_type": "stream",
     "text": [
      "Train text size 16000\n",
      "Test text size 2000\n",
      "Val text size 2000\n",
      "\n",
      "Total samples 20000\n"
     ]
    }
   ],
   "source": [
    "print(\"Train text size\", train_df.shape[0])\n",
    "print(\"Test text size\", test_df.shape[0])\n",
    "print(\"Val text size\", val_df.shape[0])\n",
    "print(\"\\nTotal samples\", (train_df.shape[0]+test_df.shape[0]+val_df.shape[0]))"
   ]
  },
  {
   "cell_type": "markdown",
   "id": "800fa6d5",
   "metadata": {
    "papermill": {
     "duration": 0.009049,
     "end_time": "2023-01-24T17:05:04.044177",
     "exception": false,
     "start_time": "2023-01-24T17:05:04.035128",
     "status": "completed"
    },
    "tags": []
   },
   "source": [
    "# Explanatory Data Analysis"
   ]
  },
  {
   "cell_type": "code",
   "execution_count": 8,
   "id": "c08f9a29",
   "metadata": {
    "execution": {
     "iopub.execute_input": "2023-01-24T17:05:04.064531Z",
     "iopub.status.busy": "2023-01-24T17:05:04.063823Z",
     "iopub.status.idle": "2023-01-24T17:05:04.069831Z",
     "shell.execute_reply": "2023-01-24T17:05:04.068808Z"
    },
    "papermill": {
     "duration": 0.018411,
     "end_time": "2023-01-24T17:05:04.071850",
     "exception": false,
     "start_time": "2023-01-24T17:05:04.053439",
     "status": "completed"
    },
    "tags": []
   },
   "outputs": [],
   "source": [
    "def describe_data(data_type,data,label):\n",
    "    print(data_type,\" DESCRIPTION\")\n",
    "    print(\"--------------------------\")\n",
    "    size=data.shape\n",
    "    null_values=data.isnull().sum().sum()\n",
    "    \n",
    "    \n",
    "    print(data_type,\" shape:\",size,\"\\n\")\n",
    "    print(data_type,\" contains:\",null_values,\" null values\\n\")\n",
    "    print(\"Label counts:\")  \n",
    "    print(data[label].value_counts())\n",
    "    print()\n",
    "    \n",
    "    print(\"*****\",data_type,\" label count plot ****\")\n",
    "    sns.countplot(\n",
    "        data=data,\n",
    "        x=label\n",
    "    )"
   ]
  },
  {
   "cell_type": "code",
   "execution_count": 9,
   "id": "92e6ba63",
   "metadata": {
    "execution": {
     "iopub.execute_input": "2023-01-24T17:05:04.092138Z",
     "iopub.status.busy": "2023-01-24T17:05:04.091338Z",
     "iopub.status.idle": "2023-01-24T17:05:04.333033Z",
     "shell.execute_reply": "2023-01-24T17:05:04.332036Z"
    },
    "papermill": {
     "duration": 0.254223,
     "end_time": "2023-01-24T17:05:04.335487",
     "exception": false,
     "start_time": "2023-01-24T17:05:04.081264",
     "status": "completed"
    },
    "tags": []
   },
   "outputs": [
    {
     "name": "stdout",
     "output_type": "stream",
     "text": [
      "Training Data  DESCRIPTION\n",
      "--------------------------\n",
      "Training Data  shape: (16000, 2) \n",
      "\n",
      "Training Data  contains: 0  null values\n",
      "\n",
      "Label counts:\n",
      "joy         5362\n",
      "sadness     4666\n",
      "anger       2159\n",
      "fear        1937\n",
      "love        1304\n",
      "surprise     572\n",
      "Name: labels, dtype: int64\n",
      "\n",
      "***** Training Data  label count plot ****\n"
     ]
    },
    {
     "data": {
      "image/png": "[encoded data removed]",
      "text/plain": [
       "<Figure size 432x288 with 1 Axes>"
      ]
     },
     "metadata": {
      "needs_background": "light"
     },
     "output_type": "display_data"
    }
   ],
   "source": [
    "describe_data('Training Data', train_df, 'labels')"
   ]
  },
  {
   "cell_type": "code",
   "execution_count": 10,
   "id": "de7181fb",
   "metadata": {
    "execution": {
     "iopub.execute_input": "2023-01-24T17:05:04.361450Z",
     "iopub.status.busy": "2023-01-24T17:05:04.361051Z",
     "iopub.status.idle": "2023-01-24T17:05:04.595668Z",
     "shell.execute_reply": "2023-01-24T17:05:04.594706Z"
    },
    "papermill": {
     "duration": 0.252601,
     "end_time": "2023-01-24T17:05:04.597829",
     "exception": false,
     "start_time": "2023-01-24T17:05:04.345228",
     "status": "completed"
    },
    "tags": []
   },
   "outputs": [
    {
     "name": "stdout",
     "output_type": "stream",
     "text": [
      "Test Data  DESCRIPTION\n",
      "--------------------------\n",
      "Test Data  shape: (2000, 2) \n",
      "\n",
      "Test Data  contains: 0  null values\n",
      "\n",
      "Label counts:\n",
      "joy         695\n",
      "sadness     581\n",
      "anger       275\n",
      "fear        224\n",
      "love        159\n",
      "surprise     66\n",
      "Name: labels, dtype: int64\n",
      "\n",
      "***** Test Data  label count plot ****\n"
     ]
    },
    {
     "data": {
      "image/png": "[encoded data removed]",
      "text/plain": [
       "<Figure size 432x288 with 1 Axes>"
      ]
     },
     "metadata": {
      "needs_background": "light"
     },
     "output_type": "display_data"
    }
   ],
   "source": [
    "describe_data('Test Data', test_df, 'labels')"
   ]
  },
  {
   "cell_type": "code",
   "execution_count": 11,
   "id": "91a5cdbb",
   "metadata": {
    "execution": {
     "iopub.execute_input": "2023-01-24T17:05:04.619044Z",
     "iopub.status.busy": "2023-01-24T17:05:04.618731Z",
     "iopub.status.idle": "2023-01-24T17:05:04.823770Z",
     "shell.execute_reply": "2023-01-24T17:05:04.822837Z"
    },
    "papermill": {
     "duration": 0.217884,
     "end_time": "2023-01-24T17:05:04.825817",
     "exception": false,
     "start_time": "2023-01-24T17:05:04.607933",
     "status": "completed"
    },
    "tags": []
   },
   "outputs": [
    {
     "name": "stdout",
     "output_type": "stream",
     "text": [
      "Val Data  DESCRIPTION\n",
      "--------------------------\n",
      "Val Data  shape: (2000, 2) \n",
      "\n",
      "Val Data  contains: 0  null values\n",
      "\n",
      "Label counts:\n",
      "joy         704\n",
      "sadness     550\n",
      "anger       275\n",
      "fear        212\n",
      "love        178\n",
      "surprise     81\n",
      "Name: labels, dtype: int64\n",
      "\n",
      "***** Val Data  label count plot ****\n"
     ]
    },
    {
     "data": {
      "image/png": "[encoded data removed]",
      "text/plain": [
       "<Figure size 432x288 with 1 Axes>"
      ]
     },
     "metadata": {
      "needs_background": "light"
     },
     "output_type": "display_data"
    }
   ],
   "source": [
    "describe_data('Val Data', val_df, 'labels')"
   ]
  },
  {
   "cell_type": "code",
   "execution_count": 12,
   "id": "ff82e3f0",
   "metadata": {
    "execution": {
     "iopub.execute_input": "2023-01-24T17:05:04.848037Z",
     "iopub.status.busy": "2023-01-24T17:05:04.847691Z",
     "iopub.status.idle": "2023-01-24T17:05:05.071753Z",
     "shell.execute_reply": "2023-01-24T17:05:05.070820Z"
    },
    "papermill": {
     "duration": 0.237547,
     "end_time": "2023-01-24T17:05:05.073934",
     "exception": false,
     "start_time": "2023-01-24T17:05:04.836387",
     "status": "completed"
    },
    "tags": []
   },
   "outputs": [
    {
     "name": "stdout",
     "output_type": "stream",
     "text": [
      "Full Data  DESCRIPTION\n",
      "--------------------------\n",
      "Full Data  shape: (20000, 2) \n",
      "\n",
      "Full Data  contains: 0  null values\n",
      "\n",
      "Label counts:\n",
      "joy         6761\n",
      "sadness     5797\n",
      "anger       2709\n",
      "fear        2373\n",
      "love        1641\n",
      "surprise     719\n",
      "Name: labels, dtype: int64\n",
      "\n",
      "***** Full Data  label count plot ****\n"
     ]
    },
    {
     "data": {
      "image/png": "[encoded data removed]",
      "text/plain": [
       "<Figure size 432x288 with 1 Axes>"
      ]
     },
     "metadata": {
      "needs_background": "light"
     },
     "output_type": "display_data"
    }
   ],
   "source": [
    "describe_data('Full Data', full_df, 'labels')"
   ]
  },
  {
   "cell_type": "code",
   "execution_count": 13,
   "id": "45cd99d0",
   "metadata": {
    "execution": {
     "iopub.execute_input": "2023-01-24T17:05:05.096987Z",
     "iopub.status.busy": "2023-01-24T17:05:05.096631Z",
     "iopub.status.idle": "2023-01-24T17:05:05.108667Z",
     "shell.execute_reply": "2023-01-24T17:05:05.107757Z"
    },
    "papermill": {
     "duration": 0.025985,
     "end_time": "2023-01-24T17:05:05.110737",
     "exception": false,
     "start_time": "2023-01-24T17:05:05.084752",
     "status": "completed"
    },
    "tags": []
   },
   "outputs": [],
   "source": [
    "train_df['Length'] = train_df.text.apply(lambda x:len(x))"
   ]
  },
  {
   "cell_type": "code",
   "execution_count": 14,
   "id": "858c5c5b",
   "metadata": {
    "execution": {
     "iopub.execute_input": "2023-01-24T17:05:05.133291Z",
     "iopub.status.busy": "2023-01-24T17:05:05.132942Z",
     "iopub.status.idle": "2023-01-24T17:05:05.481979Z",
     "shell.execute_reply": "2023-01-24T17:05:05.480840Z"
    },
    "papermill": {
     "duration": 0.362923,
     "end_time": "2023-01-24T17:05:05.484225",
     "exception": false,
     "start_time": "2023-01-24T17:05:05.121302",
     "status": "completed"
    },
    "tags": []
   },
   "outputs": [
    {
     "data": {
      "image/png": "[encoded data removed]",
      "text/plain": [
       "<Figure size 720x432 with 1 Axes>"
      ]
     },
     "metadata": {
      "needs_background": "light"
     },
     "output_type": "display_data"
    }
   ],
   "source": [
    "fig=plt.figure(figsize=(10,6))\n",
    "\n",
    "sns.kdeplot(\n",
    "    x=train_df['Length'],\n",
    "    hue=train_df[\"labels\"]\n",
    ")\n",
    "plt.show()"
   ]
  },
  {
   "cell_type": "code",
   "execution_count": 15,
   "id": "6261fa90",
   "metadata": {
    "execution": {
     "iopub.execute_input": "2023-01-24T17:05:05.508473Z",
     "iopub.status.busy": "2023-01-24T17:05:05.507700Z",
     "iopub.status.idle": "2023-01-24T17:05:05.514843Z",
     "shell.execute_reply": "2023-01-24T17:05:05.513923Z"
    },
    "papermill": {
     "duration": 0.021497,
     "end_time": "2023-01-24T17:05:05.517023",
     "exception": false,
     "start_time": "2023-01-24T17:05:05.495526",
     "status": "completed"
    },
    "tags": []
   },
   "outputs": [
    {
     "name": "stdout",
     "output_type": "stream",
     "text": [
      "300\n",
      "7\n"
     ]
    }
   ],
   "source": [
    "print(train_df.Length.max())\n",
    "print(train_df.Length.min())"
   ]
  },
  {
   "cell_type": "code",
   "execution_count": 16,
   "id": "d1bab6b4",
   "metadata": {
    "execution": {
     "iopub.execute_input": "2023-01-24T17:05:05.541347Z",
     "iopub.status.busy": "2023-01-24T17:05:05.540735Z",
     "iopub.status.idle": "2023-01-24T17:05:05.561412Z",
     "shell.execute_reply": "2023-01-24T17:05:05.560233Z"
    },
    "papermill": {
     "duration": 0.036037,
     "end_time": "2023-01-24T17:05:05.564357",
     "exception": false,
     "start_time": "2023-01-24T17:05:05.528320",
     "status": "completed"
    },
    "tags": []
   },
   "outputs": [
    {
     "data": {
      "text/html": [
       "<div>\n",
       "<style scoped>\n",
       "    .dataframe tbody tr th:only-of-type {\n",
       "        vertical-align: middle;\n",
       "    }\n",
       "\n",
       "    .dataframe tbody tr th {\n",
       "        vertical-align: top;\n",
       "    }\n",
       "\n",
       "    .dataframe thead th {\n",
       "        text-align: right;\n",
       "    }\n",
       "</style>\n",
       "<table border=\"1\" class=\"dataframe\">\n",
       "  <thead>\n",
       "    <tr style=\"text-align: right;\">\n",
       "      <th></th>\n",
       "      <th>Length</th>\n",
       "    </tr>\n",
       "  </thead>\n",
       "  <tbody>\n",
       "    <tr>\n",
       "      <th>count</th>\n",
       "      <td>16000.000000</td>\n",
       "    </tr>\n",
       "    <tr>\n",
       "      <th>mean</th>\n",
       "      <td>96.845812</td>\n",
       "    </tr>\n",
       "    <tr>\n",
       "      <th>std</th>\n",
       "      <td>55.904953</td>\n",
       "    </tr>\n",
       "    <tr>\n",
       "      <th>min</th>\n",
       "      <td>7.000000</td>\n",
       "    </tr>\n",
       "    <tr>\n",
       "      <th>25%</th>\n",
       "      <td>53.000000</td>\n",
       "    </tr>\n",
       "    <tr>\n",
       "      <th>50%</th>\n",
       "      <td>86.000000</td>\n",
       "    </tr>\n",
       "    <tr>\n",
       "      <th>75%</th>\n",
       "      <td>129.000000</td>\n",
       "    </tr>\n",
       "    <tr>\n",
       "      <th>max</th>\n",
       "      <td>300.000000</td>\n",
       "    </tr>\n",
       "  </tbody>\n",
       "</table>\n",
       "</div>"
      ],
      "text/plain": [
       "             Length\n",
       "count  16000.000000\n",
       "mean      96.845812\n",
       "std       55.904953\n",
       "min        7.000000\n",
       "25%       53.000000\n",
       "50%       86.000000\n",
       "75%      129.000000\n",
       "max      300.000000"
      ]
     },
     "execution_count": 16,
     "metadata": {},
     "output_type": "execute_result"
    }
   ],
   "source": [
    "train_df[['Length']].describe()"
   ]
  },
  {
   "cell_type": "markdown",
   "id": "d1ee60a7",
   "metadata": {
    "papermill": {
     "duration": 0.011228,
     "end_time": "2023-01-24T17:05:05.587547",
     "exception": false,
     "start_time": "2023-01-24T17:05:05.576319",
     "status": "completed"
    },
    "tags": []
   },
   "source": [
    "# Data Preparation"
   ]
  },
  {
   "cell_type": "code",
   "execution_count": 17,
   "id": "2f9eaf78",
   "metadata": {
    "execution": {
     "iopub.execute_input": "2023-01-24T17:05:05.613165Z",
     "iopub.status.busy": "2023-01-24T17:05:05.611422Z",
     "iopub.status.idle": "2023-01-24T17:05:05.617865Z",
     "shell.execute_reply": "2023-01-24T17:05:05.616938Z"
    },
    "papermill": {
     "duration": 0.021162,
     "end_time": "2023-01-24T17:05:05.620008",
     "exception": false,
     "start_time": "2023-01-24T17:05:05.598846",
     "status": "completed"
    },
    "tags": []
   },
   "outputs": [],
   "source": [
    "def label_encode(data,label):\n",
    "    labels=data[label].map(\n",
    "    {\n",
    "        \"joy\":0,\n",
    "        \"sadness\":1,\n",
    "        \"anger\":2,\n",
    "        \"fear\":3,\n",
    "        \"love\":4,\n",
    "        \"surprise\":5\n",
    "    }\n",
    "    )\n",
    "    return labels\n",
    "\n",
    "labels = ['joy', 'sadness', 'anger', 'fear', 'love', 'surprise']"
   ]
  },
  {
   "cell_type": "code",
   "execution_count": 18,
   "id": "38d7a65d",
   "metadata": {
    "execution": {
     "iopub.execute_input": "2023-01-24T17:05:05.645306Z",
     "iopub.status.busy": "2023-01-24T17:05:05.643718Z",
     "iopub.status.idle": "2023-01-24T17:05:05.654756Z",
     "shell.execute_reply": "2023-01-24T17:05:05.653903Z"
    },
    "papermill": {
     "duration": 0.025429,
     "end_time": "2023-01-24T17:05:05.656774",
     "exception": false,
     "start_time": "2023-01-24T17:05:05.631345",
     "status": "completed"
    },
    "tags": []
   },
   "outputs": [],
   "source": [
    "train_df['enc_labels'] = label_encode(train_df, 'labels')\n",
    "test_df['enc_labels'] = label_encode(test_df, 'labels')\n",
    "val_df['enc_labels'] = label_encode(val_df, 'labels')"
   ]
  },
  {
   "cell_type": "code",
   "execution_count": 19,
   "id": "d580fe70",
   "metadata": {
    "execution": {
     "iopub.execute_input": "2023-01-24T17:05:05.680735Z",
     "iopub.status.busy": "2023-01-24T17:05:05.680032Z",
     "iopub.status.idle": "2023-01-24T17:05:05.689850Z",
     "shell.execute_reply": "2023-01-24T17:05:05.688951Z"
    },
    "papermill": {
     "duration": 0.023866,
     "end_time": "2023-01-24T17:05:05.691801",
     "exception": false,
     "start_time": "2023-01-24T17:05:05.667935",
     "status": "completed"
    },
    "tags": []
   },
   "outputs": [
    {
     "data": {
      "text/html": [
       "<div>\n",
       "<style scoped>\n",
       "    .dataframe tbody tr th:only-of-type {\n",
       "        vertical-align: middle;\n",
       "    }\n",
       "\n",
       "    .dataframe tbody tr th {\n",
       "        vertical-align: top;\n",
       "    }\n",
       "\n",
       "    .dataframe thead th {\n",
       "        text-align: right;\n",
       "    }\n",
       "</style>\n",
       "<table border=\"1\" class=\"dataframe\">\n",
       "  <thead>\n",
       "    <tr style=\"text-align: right;\">\n",
       "      <th></th>\n",
       "      <th>text</th>\n",
       "      <th>labels</th>\n",
       "      <th>Length</th>\n",
       "      <th>enc_labels</th>\n",
       "    </tr>\n",
       "  </thead>\n",
       "  <tbody>\n",
       "    <tr>\n",
       "      <th>0</th>\n",
       "      <td>i didnt feel humiliated</td>\n",
       "      <td>sadness</td>\n",
       "      <td>23</td>\n",
       "      <td>1</td>\n",
       "    </tr>\n",
       "    <tr>\n",
       "      <th>1</th>\n",
       "      <td>i can go from feeling so hopeless to so damned...</td>\n",
       "      <td>sadness</td>\n",
       "      <td>108</td>\n",
       "      <td>1</td>\n",
       "    </tr>\n",
       "    <tr>\n",
       "      <th>2</th>\n",
       "      <td>im grabbing a minute to post i feel greedy wrong</td>\n",
       "      <td>anger</td>\n",
       "      <td>48</td>\n",
       "      <td>2</td>\n",
       "    </tr>\n",
       "    <tr>\n",
       "      <th>3</th>\n",
       "      <td>i am ever feeling nostalgic about the fireplac...</td>\n",
       "      <td>love</td>\n",
       "      <td>92</td>\n",
       "      <td>4</td>\n",
       "    </tr>\n",
       "    <tr>\n",
       "      <th>4</th>\n",
       "      <td>i am feeling grouchy</td>\n",
       "      <td>anger</td>\n",
       "      <td>20</td>\n",
       "      <td>2</td>\n",
       "    </tr>\n",
       "  </tbody>\n",
       "</table>\n",
       "</div>"
      ],
      "text/plain": [
       "                                                text   labels  Length  \\\n",
       "0                            i didnt feel humiliated  sadness      23   \n",
       "1  i can go from feeling so hopeless to so damned...  sadness     108   \n",
       "2   im grabbing a minute to post i feel greedy wrong    anger      48   \n",
       "3  i am ever feeling nostalgic about the fireplac...     love      92   \n",
       "4                               i am feeling grouchy    anger      20   \n",
       "\n",
       "   enc_labels  \n",
       "0           1  \n",
       "1           1  \n",
       "2           2  \n",
       "3           4  \n",
       "4           2  "
      ]
     },
     "execution_count": 19,
     "metadata": {},
     "output_type": "execute_result"
    }
   ],
   "source": [
    "train_df.head()"
   ]
  },
  {
   "cell_type": "markdown",
   "id": "9af6abb7",
   "metadata": {
    "papermill": {
     "duration": 0.011051,
     "end_time": "2023-01-24T17:05:05.714185",
     "exception": false,
     "start_time": "2023-01-24T17:05:05.703134",
     "status": "completed"
    },
    "tags": []
   },
   "source": [
    "# Text Preparation"
   ]
  },
  {
   "cell_type": "code",
   "execution_count": 20,
   "id": "9101b14a",
   "metadata": {
    "execution": {
     "iopub.execute_input": "2023-01-24T17:05:05.739882Z",
     "iopub.status.busy": "2023-01-24T17:05:05.738422Z",
     "iopub.status.idle": "2023-01-24T17:05:05.746644Z",
     "shell.execute_reply": "2023-01-24T17:05:05.745778Z"
    },
    "papermill": {
     "duration": 0.022859,
     "end_time": "2023-01-24T17:05:05.748577",
     "exception": false,
     "start_time": "2023-01-24T17:05:05.725718",
     "status": "completed"
    },
    "tags": []
   },
   "outputs": [],
   "source": [
    "def lower_text(text):\n",
    "    # lowercase the text \n",
    "    return text.lower()\n",
    "\n",
    "def remove_number(text):\n",
    "    # remove number with regex\n",
    "    num = re.compile(r'[-+]?[.\\d]*[\\d]+[:,.\\d]*')\n",
    "    return num.sub(r'', text)\n",
    "\n",
    "def remove_punct(text):\n",
    "    # remove punctuations\n",
    "    punctuations = '@#!?+&*[]-%.:/();$=><|{}^' + \"'`\" \n",
    "    for p in punctuations:\n",
    "        text = text.replace(p, f' {p} ')\n",
    "    return text\n",
    "\n",
    "def nltk_process(text):\n",
    "    list1 = word_tokenize(text)\n",
    "    text = ' '.join([lemmatizer.lemmatize(words) for words in list1])\n",
    "    list1 = word_tokenize(text)\n",
    "    text = \" \".join([word for word in list1 if word not in (stopwords)])\n",
    "    return text\n",
    "\n",
    "def data_preparation(text):\n",
    "    text = lower_text(text)\n",
    "    text = remove_number(text)\n",
    "    text = nltk_process(text)\n",
    "    text = remove_punct(text)\n",
    "  \n",
    "    return text"
   ]
  },
  {
   "cell_type": "code",
   "execution_count": 21,
   "id": "3decd705",
   "metadata": {
    "execution": {
     "iopub.execute_input": "2023-01-24T17:05:05.772096Z",
     "iopub.status.busy": "2023-01-24T17:05:05.771803Z",
     "iopub.status.idle": "2023-01-24T17:05:14.912107Z",
     "shell.execute_reply": "2023-01-24T17:05:14.911117Z"
    },
    "papermill": {
     "duration": 9.154686,
     "end_time": "2023-01-24T17:05:14.914525",
     "exception": false,
     "start_time": "2023-01-24T17:05:05.759839",
     "status": "completed"
    },
    "tags": []
   },
   "outputs": [],
   "source": [
    "train_df[\"clean_text\"] = train_df[\"text\"].apply(data_preparation)\n",
    "test_df[\"clean_text\"] = test_df[\"text\"].apply(data_preparation)\n",
    "val_df[\"clean_text\"] = val_df[\"text\"].apply(data_preparation)"
   ]
  },
  {
   "cell_type": "code",
   "execution_count": 22,
   "id": "27dfa6a7",
   "metadata": {
    "execution": {
     "iopub.execute_input": "2023-01-24T17:05:14.947961Z",
     "iopub.status.busy": "2023-01-24T17:05:14.947251Z",
     "iopub.status.idle": "2023-01-24T17:05:14.961607Z",
     "shell.execute_reply": "2023-01-24T17:05:14.960355Z"
    },
    "papermill": {
     "duration": 0.031903,
     "end_time": "2023-01-24T17:05:14.964704",
     "exception": false,
     "start_time": "2023-01-24T17:05:14.932801",
     "status": "completed"
    },
    "tags": []
   },
   "outputs": [],
   "source": [
    "train_df['Clean_Length'] = train_df['clean_text'].apply(lambda x:len(x))"
   ]
  },
  {
   "cell_type": "code",
   "execution_count": 23,
   "id": "dbd43d25",
   "metadata": {
    "execution": {
     "iopub.execute_input": "2023-01-24T17:05:14.993720Z",
     "iopub.status.busy": "2023-01-24T17:05:14.993336Z",
     "iopub.status.idle": "2023-01-24T17:05:15.007007Z",
     "shell.execute_reply": "2023-01-24T17:05:15.005963Z"
    },
    "papermill": {
     "duration": 0.03074,
     "end_time": "2023-01-24T17:05:15.009256",
     "exception": false,
     "start_time": "2023-01-24T17:05:14.978516",
     "status": "completed"
    },
    "tags": []
   },
   "outputs": [
    {
     "data": {
      "text/html": [
       "<div>\n",
       "<style scoped>\n",
       "    .dataframe tbody tr th:only-of-type {\n",
       "        vertical-align: middle;\n",
       "    }\n",
       "\n",
       "    .dataframe tbody tr th {\n",
       "        vertical-align: top;\n",
       "    }\n",
       "\n",
       "    .dataframe thead th {\n",
       "        text-align: right;\n",
       "    }\n",
       "</style>\n",
       "<table border=\"1\" class=\"dataframe\">\n",
       "  <thead>\n",
       "    <tr style=\"text-align: right;\">\n",
       "      <th></th>\n",
       "      <th>text</th>\n",
       "      <th>labels</th>\n",
       "      <th>Length</th>\n",
       "      <th>enc_labels</th>\n",
       "      <th>clean_text</th>\n",
       "      <th>Clean_Length</th>\n",
       "    </tr>\n",
       "  </thead>\n",
       "  <tbody>\n",
       "    <tr>\n",
       "      <th>0</th>\n",
       "      <td>i didnt feel humiliated</td>\n",
       "      <td>sadness</td>\n",
       "      <td>23</td>\n",
       "      <td>1</td>\n",
       "      <td>didnt feel humiliated</td>\n",
       "      <td>21</td>\n",
       "    </tr>\n",
       "    <tr>\n",
       "      <th>1</th>\n",
       "      <td>i can go from feeling so hopeless to so damned...</td>\n",
       "      <td>sadness</td>\n",
       "      <td>108</td>\n",
       "      <td>1</td>\n",
       "      <td>go feeling hopeless damned hopeful around some...</td>\n",
       "      <td>60</td>\n",
       "    </tr>\n",
       "    <tr>\n",
       "      <th>2</th>\n",
       "      <td>im grabbing a minute to post i feel greedy wrong</td>\n",
       "      <td>anger</td>\n",
       "      <td>48</td>\n",
       "      <td>2</td>\n",
       "      <td>im grabbing minute post feel greedy wrong</td>\n",
       "      <td>41</td>\n",
       "    </tr>\n",
       "    <tr>\n",
       "      <th>3</th>\n",
       "      <td>i am ever feeling nostalgic about the fireplac...</td>\n",
       "      <td>love</td>\n",
       "      <td>92</td>\n",
       "      <td>4</td>\n",
       "      <td>ever feeling nostalgic fireplace know still pr...</td>\n",
       "      <td>52</td>\n",
       "    </tr>\n",
       "    <tr>\n",
       "      <th>4</th>\n",
       "      <td>i am feeling grouchy</td>\n",
       "      <td>anger</td>\n",
       "      <td>20</td>\n",
       "      <td>2</td>\n",
       "      <td>feeling grouchy</td>\n",
       "      <td>15</td>\n",
       "    </tr>\n",
       "    <tr>\n",
       "      <th>5</th>\n",
       "      <td>ive been feeling a little burdened lately wasn...</td>\n",
       "      <td>sadness</td>\n",
       "      <td>65</td>\n",
       "      <td>1</td>\n",
       "      <td>ive feeling little burdened lately wasnt sure wa</td>\n",
       "      <td>48</td>\n",
       "    </tr>\n",
       "    <tr>\n",
       "      <th>6</th>\n",
       "      <td>ive been taking or milligrams or times recomme...</td>\n",
       "      <td>surprise</td>\n",
       "      <td>122</td>\n",
       "      <td>5</td>\n",
       "      <td>ive taking milligram time recommended amount i...</td>\n",
       "      <td>94</td>\n",
       "    </tr>\n",
       "    <tr>\n",
       "      <th>7</th>\n",
       "      <td>i feel as confused about life as a teenager or...</td>\n",
       "      <td>fear</td>\n",
       "      <td>73</td>\n",
       "      <td>3</td>\n",
       "      <td>feel confused life teenager jaded year old man</td>\n",
       "      <td>46</td>\n",
       "    </tr>\n",
       "    <tr>\n",
       "      <th>8</th>\n",
       "      <td>i have been with petronas for years i feel tha...</td>\n",
       "      <td>joy</td>\n",
       "      <td>98</td>\n",
       "      <td>0</td>\n",
       "      <td>petronas year feel petronas ha performed well ...</td>\n",
       "      <td>62</td>\n",
       "    </tr>\n",
       "    <tr>\n",
       "      <th>9</th>\n",
       "      <td>i feel romantic too</td>\n",
       "      <td>love</td>\n",
       "      <td>19</td>\n",
       "      <td>4</td>\n",
       "      <td>feel romantic</td>\n",
       "      <td>13</td>\n",
       "    </tr>\n",
       "  </tbody>\n",
       "</table>\n",
       "</div>"
      ],
      "text/plain": [
       "                                                text    labels  Length  \\\n",
       "0                            i didnt feel humiliated   sadness      23   \n",
       "1  i can go from feeling so hopeless to so damned...   sadness     108   \n",
       "2   im grabbing a minute to post i feel greedy wrong     anger      48   \n",
       "3  i am ever feeling nostalgic about the fireplac...      love      92   \n",
       "4                               i am feeling grouchy     anger      20   \n",
       "5  ive been feeling a little burdened lately wasn...   sadness      65   \n",
       "6  ive been taking or milligrams or times recomme...  surprise     122   \n",
       "7  i feel as confused about life as a teenager or...      fear      73   \n",
       "8  i have been with petronas for years i feel tha...       joy      98   \n",
       "9                                i feel romantic too      love      19   \n",
       "\n",
       "   enc_labels                                         clean_text  Clean_Length  \n",
       "0           1                              didnt feel humiliated            21  \n",
       "1           1  go feeling hopeless damned hopeful around some...            60  \n",
       "2           2          im grabbing minute post feel greedy wrong            41  \n",
       "3           4  ever feeling nostalgic fireplace know still pr...            52  \n",
       "4           2                                    feeling grouchy            15  \n",
       "5           1   ive feeling little burdened lately wasnt sure wa            48  \n",
       "6           5  ive taking milligram time recommended amount i...            94  \n",
       "7           3     feel confused life teenager jaded year old man            46  \n",
       "8           0  petronas year feel petronas ha performed well ...            62  \n",
       "9           4                                      feel romantic            13  "
      ]
     },
     "execution_count": 23,
     "metadata": {},
     "output_type": "execute_result"
    }
   ],
   "source": [
    "train_df.head(10)"
   ]
  },
  {
   "cell_type": "markdown",
   "id": "abaaa9f7",
   "metadata": {
    "papermill": {
     "duration": 0.011476,
     "end_time": "2023-01-24T17:05:15.032634",
     "exception": false,
     "start_time": "2023-01-24T17:05:15.021158",
     "status": "completed"
    },
    "tags": []
   },
   "source": [
    "# Text Tokenizer"
   ]
  },
  {
   "cell_type": "code",
   "execution_count": 24,
   "id": "63c96a3c",
   "metadata": {
    "execution": {
     "iopub.execute_input": "2023-01-24T17:05:15.062013Z",
     "iopub.status.busy": "2023-01-24T17:05:15.061631Z",
     "iopub.status.idle": "2023-01-24T17:05:15.067006Z",
     "shell.execute_reply": "2023-01-24T17:05:15.065959Z"
    },
    "papermill": {
     "duration": 0.022965,
     "end_time": "2023-01-24T17:05:15.069372",
     "exception": false,
     "start_time": "2023-01-24T17:05:15.046407",
     "status": "completed"
    },
    "tags": []
   },
   "outputs": [],
   "source": [
    "X_train = train_df['clean_text']\n",
    "X_test = test_df['clean_text']\n",
    "y_train = train_df['enc_labels']\n",
    "y_test = test_df['enc_labels']\n",
    "y_val = val_df['enc_labels']"
   ]
  },
  {
   "cell_type": "code",
   "execution_count": 25,
   "id": "030f822e",
   "metadata": {
    "execution": {
     "iopub.execute_input": "2023-01-24T17:05:15.095606Z",
     "iopub.status.busy": "2023-01-24T17:05:15.094846Z",
     "iopub.status.idle": "2023-01-24T17:05:15.564041Z",
     "shell.execute_reply": "2023-01-24T17:05:15.562608Z"
    },
    "papermill": {
     "duration": 0.484493,
     "end_time": "2023-01-24T17:05:15.566307",
     "exception": false,
     "start_time": "2023-01-24T17:05:15.081814",
     "status": "completed"
    },
    "tags": []
   },
   "outputs": [
    {
     "name": "stdout",
     "output_type": "stream",
     "text": [
      "13464\n"
     ]
    }
   ],
   "source": [
    "tokenizer = Tokenizer(oov_token='<oov>')\n",
    "tokenizer.fit_on_texts(X_train)\n",
    "\n",
    "X_train = tokenizer.texts_to_sequences(X_train)\n",
    "X_test = tokenizer.texts_to_sequences(X_test)\n",
    "X_val = tokenizer.texts_to_sequences(val_df['clean_text'])\n",
    "\n",
    "vocab_size = len(tokenizer.word_index) + 1\n",
    "print(vocab_size)"
   ]
  },
  {
   "cell_type": "code",
   "execution_count": 26,
   "id": "49add950",
   "metadata": {
    "execution": {
     "iopub.execute_input": "2023-01-24T17:05:15.591575Z",
     "iopub.status.busy": "2023-01-24T17:05:15.591251Z",
     "iopub.status.idle": "2023-01-24T17:05:15.650776Z",
     "shell.execute_reply": "2023-01-24T17:05:15.649846Z"
    },
    "papermill": {
     "duration": 0.074404,
     "end_time": "2023-01-24T17:05:15.652879",
     "exception": false,
     "start_time": "2023-01-24T17:05:15.578475",
     "status": "completed"
    },
    "tags": []
   },
   "outputs": [],
   "source": [
    "X_train = pad_sequences(X_train, padding='post', maxlen=128)\n",
    "X_test = pad_sequences(X_test, padding='post', maxlen=128)\n",
    "X_val = pad_sequences(X_val, padding='post', maxlen=128)"
   ]
  },
  {
   "cell_type": "code",
   "execution_count": 27,
   "id": "e4548da2",
   "metadata": {
    "execution": {
     "iopub.execute_input": "2023-01-24T17:05:15.677323Z",
     "iopub.status.busy": "2023-01-24T17:05:15.677032Z",
     "iopub.status.idle": "2023-01-24T17:05:15.682174Z",
     "shell.execute_reply": "2023-01-24T17:05:15.681294Z"
    },
    "papermill": {
     "duration": 0.019473,
     "end_time": "2023-01-24T17:05:15.684188",
     "exception": false,
     "start_time": "2023-01-24T17:05:15.664715",
     "status": "completed"
    },
    "tags": []
   },
   "outputs": [],
   "source": [
    "OHE_y_test = to_categorical(y_test) # One Hot Encode apply\n",
    "OHE_y_train = to_categorical(y_train)\n",
    "OHE_y_val = to_categorical(y_val)"
   ]
  },
  {
   "cell_type": "markdown",
   "id": "b663e0fb",
   "metadata": {
    "papermill": {
     "duration": 0.011089,
     "end_time": "2023-01-24T17:05:15.706476",
     "exception": false,
     "start_time": "2023-01-24T17:05:15.695387",
     "status": "completed"
    },
    "tags": []
   },
   "source": [
    "# Model Building"
   ]
  },
  {
   "cell_type": "code",
   "execution_count": 28,
   "id": "9ef2879b",
   "metadata": {
    "execution": {
     "iopub.execute_input": "2023-01-24T17:05:15.730571Z",
     "iopub.status.busy": "2023-01-24T17:05:15.730262Z",
     "iopub.status.idle": "2023-01-24T17:05:15.737368Z",
     "shell.execute_reply": "2023-01-24T17:05:15.736461Z"
    },
    "papermill": {
     "duration": 0.021615,
     "end_time": "2023-01-24T17:05:15.739358",
     "exception": false,
     "start_time": "2023-01-24T17:05:15.717743",
     "status": "completed"
    },
    "tags": []
   },
   "outputs": [],
   "source": [
    "from tensorflow.keras.layers import LSTM, Bidirectional, Dense, Embedding, Dropout, BatchNormalization\n",
    "from tensorflow.keras.models import Sequential\n",
    "from tensorflow.keras.optimizers import Adam\n",
    "from tensorflow.keras.callbacks import EarlyStopping, ReduceLROnPlateau, ModelCheckpoint, Callback"
   ]
  },
  {
   "cell_type": "code",
   "execution_count": 29,
   "id": "b6b195aa",
   "metadata": {
    "execution": {
     "iopub.execute_input": "2023-01-24T17:05:15.764371Z",
     "iopub.status.busy": "2023-01-24T17:05:15.763705Z",
     "iopub.status.idle": "2023-01-24T17:05:20.446653Z",
     "shell.execute_reply": "2023-01-24T17:05:20.445654Z"
    },
    "papermill": {
     "duration": 4.698329,
     "end_time": "2023-01-24T17:05:20.449120",
     "exception": false,
     "start_time": "2023-01-24T17:05:15.750791",
     "status": "completed"
    },
    "tags": []
   },
   "outputs": [
    {
     "name": "stderr",
     "output_type": "stream",
     "text": [
      "2023-01-24 17:05:16.069174: I tensorflow/stream_executor/cuda/cuda_gpu_executor.cc:937] successful NUMA node read from SysFS had negative value (-1), but there must be at least one NUMA node, so returning NUMA node zero\n",
      "2023-01-24 17:05:16.190348: I tensorflow/stream_executor/cuda/cuda_gpu_executor.cc:937] successful NUMA node read from SysFS had negative value (-1), but there must be at least one NUMA node, so returning NUMA node zero\n",
      "2023-01-24 17:05:16.191208: I tensorflow/stream_executor/cuda/cuda_gpu_executor.cc:937] successful NUMA node read from SysFS had negative value (-1), but there must be at least one NUMA node, so returning NUMA node zero\n",
      "2023-01-24 17:05:16.193026: I tensorflow/core/platform/cpu_feature_guard.cc:142] This TensorFlow binary is optimized with oneAPI Deep Neural Network Library (oneDNN) to use the following CPU instructions in performance-critical operations:  AVX2 AVX512F FMA\n",
      "To enable them in other operations, rebuild TensorFlow with the appropriate compiler flags.\n",
      "2023-01-24 17:05:16.193371: I tensorflow/stream_executor/cuda/cuda_gpu_executor.cc:937] successful NUMA node read from SysFS had negative value (-1), but there must be at least one NUMA node, so returning NUMA node zero\n",
      "2023-01-24 17:05:16.194083: I tensorflow/stream_executor/cuda/cuda_gpu_executor.cc:937] successful NUMA node read from SysFS had negative value (-1), but there must be at least one NUMA node, so returning NUMA node zero\n",
      "2023-01-24 17:05:16.194716: I tensorflow/stream_executor/cuda/cuda_gpu_executor.cc:937] successful NUMA node read from SysFS had negative value (-1), but there must be at least one NUMA node, so returning NUMA node zero\n",
      "2023-01-24 17:05:18.321519: I tensorflow/stream_executor/cuda/cuda_gpu_executor.cc:937] successful NUMA node read from SysFS had negative value (-1), but there must be at least one NUMA node, so returning NUMA node zero\n",
      "2023-01-24 17:05:18.322404: I tensorflow/stream_executor/cuda/cuda_gpu_executor.cc:937] successful NUMA node read from SysFS had negative value (-1), but there must be at least one NUMA node, so returning NUMA node zero\n",
      "2023-01-24 17:05:18.323101: I tensorflow/stream_executor/cuda/cuda_gpu_executor.cc:937] successful NUMA node read from SysFS had negative value (-1), but there must be at least one NUMA node, so returning NUMA node zero\n",
      "2023-01-24 17:05:18.323692: I tensorflow/core/common_runtime/gpu/gpu_device.cc:1510] Created device /job:localhost/replica:0/task:0/device:GPU:0 with 15401 MB memory:  -> device: 0, name: Tesla P100-PCIE-16GB, pci bus id: 0000:00:04.0, compute capability: 6.0\n"
     ]
    }
   ],
   "source": [
    "model = Sequential([\n",
    "    Embedding(vocab_size, 128, input_length=128, name='in_layer'),\n",
    "    BatchNormalization(),\n",
    "    Dropout(0.5),\n",
    "    Bidirectional(LSTM(512, return_sequences=True, name='Bi-LSTM-1')),\n",
    "    Bidirectional(LSTM(256, return_sequences=True, name='Bi-LSTM-2')),\n",
    "    Bidirectional(LSTM(128, name='Bi-LSTM-3')),\n",
    "    Dropout(0.5),\n",
    "    Dense(512, activation='relu', name='fc-1'),\n",
    "    Dense(6, activation='softmax', name='out_layer')\n",
    "])"
   ]
  },
  {
   "cell_type": "code",
   "execution_count": 30,
   "id": "942bdd70",
   "metadata": {
    "execution": {
     "iopub.execute_input": "2023-01-24T17:05:20.476993Z",
     "iopub.status.busy": "2023-01-24T17:05:20.475198Z",
     "iopub.status.idle": "2023-01-24T17:05:20.484496Z",
     "shell.execute_reply": "2023-01-24T17:05:20.483595Z"
    },
    "papermill": {
     "duration": 0.024763,
     "end_time": "2023-01-24T17:05:20.486644",
     "exception": false,
     "start_time": "2023-01-24T17:05:20.461881",
     "status": "completed"
    },
    "tags": []
   },
   "outputs": [],
   "source": [
    "# # tensorboard = TensorBoard(log_dir = 'logs')\n",
    "checkpoint = ModelCheckpoint(\"model.h5\",monitor=\"val_accuracy\",save_best_only=True,mode=\"auto\",verbose=1)\n",
    "reduce_lr = ReduceLROnPlateau(monitor = 'val_accuracy', factor = 0.3, patience = 2, min_delta = 0.001, mode='auto',verbose=1)\n",
    "class callbackTarget(Callback):\n",
    "  def on_epoch_end(self, epoch, logs={}):\n",
    "    if(logs.get('val_accuracy') >= 0.92 and logs.get('accuracy') >= 0.92):\n",
    "      print('\\nVal_accuracy and accuracy has reached >= 92%!')\n",
    "      self.model.stop_training = True\n",
    "\n",
    "target = callbackTarget()"
   ]
  },
  {
   "cell_type": "code",
   "execution_count": 31,
   "id": "06e5006f",
   "metadata": {
    "execution": {
     "iopub.execute_input": "2023-01-24T17:05:20.512879Z",
     "iopub.status.busy": "2023-01-24T17:05:20.511286Z",
     "iopub.status.idle": "2023-01-24T17:05:20.519566Z",
     "shell.execute_reply": "2023-01-24T17:05:20.518124Z"
    },
    "papermill": {
     "duration": 0.023169,
     "end_time": "2023-01-24T17:05:20.521693",
     "exception": false,
     "start_time": "2023-01-24T17:05:20.498524",
     "status": "completed"
    },
    "tags": []
   },
   "outputs": [
    {
     "name": "stdout",
     "output_type": "stream",
     "text": [
      "Model: \"sequential\"\n",
      "_________________________________________________________________\n",
      "Layer (type)                 Output Shape              Param #   \n",
      "=================================================================\n",
      "in_layer (Embedding)         (None, 128, 128)          1723392   \n",
      "_________________________________________________________________\n",
      "batch_normalization (BatchNo (None, 128, 128)          512       \n",
      "_________________________________________________________________\n",
      "dropout (Dropout)            (None, 128, 128)          0         \n",
      "_________________________________________________________________\n",
      "bidirectional (Bidirectional (None, 128, 1024)         2625536   \n",
      "_________________________________________________________________\n",
      "bidirectional_1 (Bidirection (None, 128, 512)          2623488   \n",
      "_________________________________________________________________\n",
      "bidirectional_2 (Bidirection (None, 256)               656384    \n",
      "_________________________________________________________________\n",
      "dropout_1 (Dropout)          (None, 256)               0         \n",
      "_________________________________________________________________\n",
      "fc-1 (Dense)                 (None, 512)               131584    \n",
      "_________________________________________________________________\n",
      "out_layer (Dense)            (None, 6)                 3078      \n",
      "=================================================================\n",
      "Total params: 7,763,974\n",
      "Trainable params: 7,763,718\n",
      "Non-trainable params: 256\n",
      "_________________________________________________________________\n"
     ]
    }
   ],
   "source": [
    "model.summary()"
   ]
  },
  {
   "cell_type": "code",
   "execution_count": 32,
   "id": "49a1c43f",
   "metadata": {
    "execution": {
     "iopub.execute_input": "2023-01-24T17:05:20.546796Z",
     "iopub.status.busy": "2023-01-24T17:05:20.546474Z",
     "iopub.status.idle": "2023-01-24T17:05:21.545099Z",
     "shell.execute_reply": "2023-01-24T17:05:21.543875Z"
    },
    "papermill": {
     "duration": 1.014505,
     "end_time": "2023-01-24T17:05:21.547869",
     "exception": false,
     "start_time": "2023-01-24T17:05:20.533364",
     "status": "completed"
    },
    "tags": []
   },
   "outputs": [
    {
     "data": {
      "image/png": "[encoded data removed]",
      "text/plain": [
       "<IPython.core.display.Image object>"
      ]
     },
     "execution_count": 32,
     "metadata": {},
     "output_type": "execute_result"
    }
   ],
   "source": [
    "tf.keras.utils.plot_model(model, to_file='model_plot.png', dpi=128, show_shapes=True, show_layer_names=True)"
   ]
  },
  {
   "cell_type": "code",
   "execution_count": 33,
   "id": "7108085b",
   "metadata": {
    "execution": {
     "iopub.execute_input": "2023-01-24T17:05:21.578214Z",
     "iopub.status.busy": "2023-01-24T17:05:21.577798Z",
     "iopub.status.idle": "2023-01-24T17:07:00.445071Z",
     "shell.execute_reply": "2023-01-24T17:07:00.443093Z"
    },
    "papermill": {
     "duration": 98.885459,
     "end_time": "2023-01-24T17:07:00.447663",
     "exception": false,
     "start_time": "2023-01-24T17:05:21.562204",
     "status": "completed"
    },
    "tags": []
   },
   "outputs": [
    {
     "name": "stderr",
     "output_type": "stream",
     "text": [
      "2023-01-24 17:05:21.647668: I tensorflow/compiler/mlir/mlir_graph_optimization_pass.cc:185] None of the MLIR Optimization Passes are enabled (registered 2)\n"
     ]
    },
    {
     "name": "stdout",
     "output_type": "stream",
     "text": [
      "Epoch 1/200\n"
     ]
    },
    {
     "name": "stderr",
     "output_type": "stream",
     "text": [
      "2023-01-24 17:05:28.281228: I tensorflow/stream_executor/cuda/cuda_dnn.cc:369] Loaded cuDNN version 8005\n"
     ]
    },
    {
     "name": "stdout",
     "output_type": "stream",
     "text": [
      "125/125 [==============================] - 32s 190ms/step - loss: 1.1670 - accuracy: 0.5453 - val_loss: 1.3105 - val_accuracy: 0.5995\n",
      "\n",
      "Epoch 00001: val_accuracy improved from -inf to 0.59950, saving model to model.h5\n",
      "Epoch 2/200\n",
      "125/125 [==============================] - 22s 176ms/step - loss: 0.2752 - accuracy: 0.9056 - val_loss: 0.7414 - val_accuracy: 0.8310\n",
      "\n",
      "Epoch 00002: val_accuracy improved from 0.59950 to 0.83100, saving model to model.h5\n",
      "Epoch 3/200\n",
      "125/125 [==============================] - 22s 176ms/step - loss: 0.1427 - accuracy: 0.9406 - val_loss: 0.3102 - val_accuracy: 0.9015\n",
      "\n",
      "Epoch 00003: val_accuracy improved from 0.83100 to 0.90150, saving model to model.h5\n",
      "Epoch 4/200\n",
      "125/125 [==============================] - 22s 176ms/step - loss: 0.1104 - accuracy: 0.9535 - val_loss: 0.1803 - val_accuracy: 0.9280\n",
      "\n",
      "Epoch 00004: val_accuracy improved from 0.90150 to 0.92800, saving model to model.h5\n",
      "\n",
      "Val_accuracy and accuracy has reached >= 92%!\n"
     ]
    }
   ],
   "source": [
    "# Adam(learning_rate=0.0001)\n",
    "model.compile(optimizer='Adam',\n",
    "              loss='categorical_crossentropy',\n",
    "              metrics=['accuracy'])\n",
    "history = model.fit(X_train, OHE_y_train,\n",
    "                    epochs=200, \n",
    "                    verbose=1,\n",
    "                    validation_data=(X_test, OHE_y_test),\n",
    "                    callbacks = [checkpoint, reduce_lr, target],\n",
    "                    batch_size=128)"
   ]
  },
  {
   "cell_type": "markdown",
   "id": "0b578ef7",
   "metadata": {
    "papermill": {
     "duration": 0.039854,
     "end_time": "2023-01-24T17:07:00.526951",
     "exception": false,
     "start_time": "2023-01-24T17:07:00.487097",
     "status": "completed"
    },
    "tags": []
   },
   "source": [
    "# Evaluation"
   ]
  },
  {
   "cell_type": "code",
   "execution_count": 34,
   "id": "e19ce4e0",
   "metadata": {
    "execution": {
     "iopub.execute_input": "2023-01-24T17:07:00.622065Z",
     "iopub.status.busy": "2023-01-24T17:07:00.621628Z",
     "iopub.status.idle": "2023-01-24T17:07:49.776898Z",
     "shell.execute_reply": "2023-01-24T17:07:49.775932Z"
    },
    "papermill": {
     "duration": 49.20587,
     "end_time": "2023-01-24T17:07:49.779183",
     "exception": false,
     "start_time": "2023-01-24T17:07:00.573313",
     "status": "completed"
    },
    "tags": []
   },
   "outputs": [
    {
     "data": {
      "image/png": "[encoded data removed]",
      "text/plain": [
       "<Figure size 432x288 with 1 Axes>"
      ]
     },
     "metadata": {
      "needs_background": "light"
     },
     "output_type": "display_data"
    },
    {
     "data": {
      "image/png": "[encoded data removed]",
      "text/plain": [
       "<Figure size 432x288 with 1 Axes>"
      ]
     },
     "metadata": {
      "needs_background": "light"
     },
     "output_type": "display_data"
    }
   ],
   "source": [
    "plt.plot(history.history['loss'])\n",
    "plt.plot(history.history['val_loss'])\n",
    "plt.title('Model Loss')\n",
    "plt.ylabel('Loss')\n",
    "plt.xlabel('Epochs')\n",
    "plt.legend(['train', 'test'], loc = 'upper right')\n",
    "plt.show()\n",
    "\n",
    "plt.plot(history.history['accuracy'])\n",
    "plt.plot(history.history['val_accuracy'])\n",
    "plt.title('Model Accuracy')\n",
    "plt.ylabel('Accuracy')\n",
    "plt.xlabel('Epoch')\n",
    "plt.legend(['train', 'test'], loc='lower right')\n",
    "plt.show()"
   ]
  },
  {
   "cell_type": "code",
   "execution_count": 35,
   "id": "20755751",
   "metadata": {
    "execution": {
     "iopub.execute_input": "2023-01-24T17:07:49.863149Z",
     "iopub.status.busy": "2023-01-24T17:07:49.862183Z",
     "iopub.status.idle": "2023-01-24T17:07:49.867067Z",
     "shell.execute_reply": "2023-01-24T17:07:49.865968Z"
    },
    "papermill": {
     "duration": 0.048391,
     "end_time": "2023-01-24T17:07:49.869204",
     "exception": false,
     "start_time": "2023-01-24T17:07:49.820813",
     "status": "completed"
    },
    "tags": []
   },
   "outputs": [],
   "source": [
    "# model.evaluate(X_val, OHE_y_val)"
   ]
  },
  {
   "cell_type": "code",
   "execution_count": 36,
   "id": "15346bfc",
   "metadata": {
    "execution": {
     "iopub.execute_input": "2023-01-24T17:07:49.949943Z",
     "iopub.status.busy": "2023-01-24T17:07:49.949565Z",
     "iopub.status.idle": "2023-01-24T17:07:54.358247Z",
     "shell.execute_reply": "2023-01-24T17:07:54.357131Z"
    },
    "papermill": {
     "duration": 4.452988,
     "end_time": "2023-01-24T17:07:54.361608",
     "exception": false,
     "start_time": "2023-01-24T17:07:49.908620",
     "status": "completed"
    },
    "tags": []
   },
   "outputs": [],
   "source": [
    "# Model Evaluate with test df\n",
    "predict = model.predict(X_val)\n",
    "predict_class = np.argmax(predict, axis=1)\n",
    "predict_class = np.array(predict_class)"
   ]
  },
  {
   "cell_type": "code",
   "execution_count": 37,
   "id": "0d53de61",
   "metadata": {
    "execution": {
     "iopub.execute_input": "2023-01-24T17:07:54.521673Z",
     "iopub.status.busy": "2023-01-24T17:07:54.521237Z",
     "iopub.status.idle": "2023-01-24T17:07:54.543561Z",
     "shell.execute_reply": "2023-01-24T17:07:54.542409Z"
    },
    "papermill": {
     "duration": 0.09409,
     "end_time": "2023-01-24T17:07:54.546687",
     "exception": false,
     "start_time": "2023-01-24T17:07:54.452597",
     "status": "completed"
    },
    "tags": []
   },
   "outputs": [
    {
     "name": "stdout",
     "output_type": "stream",
     "text": [
      "              precision    recall  f1-score   support\n",
      "\n",
      "       anger       0.96      0.94      0.95       704\n",
      "        fear       0.97      0.97      0.97       550\n",
      "         joy       0.89      0.94      0.92       275\n",
      "        love       0.89      0.86      0.88       212\n",
      "     sadness       0.82      0.93      0.87       178\n",
      "    surprise       0.95      0.73      0.83        81\n",
      "\n",
      "    accuracy                           0.93      2000\n",
      "   macro avg       0.91      0.89      0.90      2000\n",
      "weighted avg       0.93      0.93      0.93      2000\n",
      "\n"
     ]
    }
   ],
   "source": [
    "from sklearn.metrics import classification_report\n",
    "print(classification_report(val_df[\"enc_labels\"], predict_class, target_names =[\"anger\", \"fear\", \"joy\", \"love\", \"sadness\", \"surprise\"]))"
   ]
  },
  {
   "cell_type": "code",
   "execution_count": 38,
   "id": "1d166ffc",
   "metadata": {
    "execution": {
     "iopub.execute_input": "2023-01-24T17:07:54.691277Z",
     "iopub.status.busy": "2023-01-24T17:07:54.690805Z",
     "iopub.status.idle": "2023-01-24T17:07:54.701789Z",
     "shell.execute_reply": "2023-01-24T17:07:54.700824Z"
    },
    "papermill": {
     "duration": 0.083436,
     "end_time": "2023-01-24T17:07:54.704981",
     "exception": false,
     "start_time": "2023-01-24T17:07:54.621545",
     "status": "completed"
    },
    "tags": []
   },
   "outputs": [
    {
     "name": "stdout",
     "output_type": "stream",
     "text": [
      "['joy', 'sadness', 'anger', 'fear', 'love', 'surprise']\n"
     ]
    }
   ],
   "source": [
    "print(labels)\n",
    "def get_key(value):\n",
    "    dictionary={\n",
    "        \"joy\":0,\n",
    "        \"sadness\":1,\n",
    "        \"anger\":2,\n",
    "        \"fear\":3,\n",
    "        \"love\":4,\n",
    "        \"surprise\":5\n",
    "    }\n",
    "    for key,val in dictionary.items():\n",
    "          if (val==value):\n",
    "            return key"
   ]
  },
  {
   "cell_type": "code",
   "execution_count": 39,
   "id": "92fa9b9a",
   "metadata": {
    "execution": {
     "iopub.execute_input": "2023-01-24T17:07:54.823831Z",
     "iopub.status.busy": "2023-01-24T17:07:54.823430Z",
     "iopub.status.idle": "2023-01-24T17:07:54.830101Z",
     "shell.execute_reply": "2023-01-24T17:07:54.828969Z"
    },
    "papermill": {
     "duration": 0.058971,
     "end_time": "2023-01-24T17:07:54.832522",
     "exception": false,
     "start_time": "2023-01-24T17:07:54.773551",
     "status": "completed"
    },
    "tags": []
   },
   "outputs": [],
   "source": [
    "def predict_test(sentence):\n",
    "  sentence_lst=[]\n",
    "  sentence_lst.append(sentence)\n",
    "  sentence_seq=tokenizer.texts_to_sequences(sentence_lst)\n",
    "  sentence_padded=pad_sequences(sentence_seq,maxlen=300,padding='post')\n",
    "  ans=get_key(np.argmax(model.predict(sentence_padded), axis=1))\n",
    "  print(\"The emotion predicted is\",ans)"
   ]
  },
  {
   "cell_type": "code",
   "execution_count": 40,
   "id": "e58a3d37",
   "metadata": {
    "execution": {
     "iopub.execute_input": "2023-01-24T17:07:54.917036Z",
     "iopub.status.busy": "2023-01-24T17:07:54.916042Z",
     "iopub.status.idle": "2023-01-24T17:07:57.022677Z",
     "shell.execute_reply": "2023-01-24T17:07:57.021396Z"
    },
    "papermill": {
     "duration": 2.150732,
     "end_time": "2023-01-24T17:07:57.024961",
     "exception": false,
     "start_time": "2023-01-24T17:07:54.874229",
     "status": "completed"
    },
    "tags": []
   },
   "outputs": [
    {
     "name": "stdout",
     "output_type": "stream",
     "text": [
      "The emotion predicted is love\n",
      "The emotion predicted is love\n",
      "The emotion predicted is anger\n",
      "The emotion predicted is joy\n",
      "The emotion predicted is sadness\n",
      "The emotion predicted is fear\n"
     ]
    }
   ],
   "source": [
    "# predict(str(input('Enter a sentence : ')))\n",
    "test_love = \"i feel like a faithful servant\"\n",
    "test_anger = \"i am just feeling cranky and blue\"\n",
    "test_joy = \"i feel less keen about the army every day\"\n",
    "test_sadness = \"i feel dirty and ashamed for saying that\"\n",
    "test_fear = \" i spent a lot of time feeling overwhelmed with the amount of information he provided while reading the textbook\"\n",
    "test_love_2 = \"i sincerely feel will benefit any relationship whether it is romantic family work or socially oriented\"\n",
    "\n",
    "\n",
    "predict_test(test_love)\n",
    "predict_test(test_love_2)\n",
    "predict_test(test_anger)\n",
    "predict_test(test_joy)\n",
    "predict_test(test_sadness)\n",
    "predict_test(test_fear)"
   ]
  },
  {
   "cell_type": "code",
   "execution_count": 41,
   "id": "c7d39a3f",
   "metadata": {
    "execution": {
     "iopub.execute_input": "2023-01-24T17:07:57.113744Z",
     "iopub.status.busy": "2023-01-24T17:07:57.112740Z",
     "iopub.status.idle": "2023-01-24T17:07:57.118359Z",
     "shell.execute_reply": "2023-01-24T17:07:57.117251Z"
    },
    "papermill": {
     "duration": 0.051948,
     "end_time": "2023-01-24T17:07:57.120731",
     "exception": false,
     "start_time": "2023-01-24T17:07:57.068783",
     "status": "completed"
    },
    "tags": []
   },
   "outputs": [],
   "source": [
    "pd.options.display.max_colwidth = 300"
   ]
  },
  {
   "cell_type": "code",
   "execution_count": 42,
   "id": "34e59102",
   "metadata": {
    "execution": {
     "iopub.execute_input": "2023-01-24T17:07:57.207558Z",
     "iopub.status.busy": "2023-01-24T17:07:57.207205Z",
     "iopub.status.idle": "2023-01-24T17:07:57.215807Z",
     "shell.execute_reply": "2023-01-24T17:07:57.214712Z"
    },
    "papermill": {
     "duration": 0.054324,
     "end_time": "2023-01-24T17:07:57.217970",
     "exception": false,
     "start_time": "2023-01-24T17:07:57.163646",
     "status": "completed"
    },
    "tags": []
   },
   "outputs": [
    {
     "name": "stdout",
     "output_type": "stream",
     "text": [
      "2                                                                                                                                                                                                     i feel like a faithful servant\n",
      "18      i also loved that you could really feel the desperation in these sequences and i especially liked the emotion between knight and squire as theyve been together in a similar fashion to batman and robin for a long time now\n",
      "30                                                                                                             i feel like im caring about my body not in just an attempt to be the right size but to feel good and have a full life\n",
      "40                                                                    i sit the chicken preferably bone in chicken thighs skinless because i feel they have the most flavor in a crock pot so that it becomes tender and falls apart\n",
      "48                                           i see the starlight caress your hair no more feel the tender kisses we used to share i close my eyes and clearly my heart remembers a thousand good byes could never put out the embers\n",
      "                                                                                                                    ...                                                                                                             \n",
      "1955                                                                                                                          i sincerely feel will benefit any relationship whether it is romantic family work or socially oriented\n",
      "1956                                                                                                                                                            i like the feel of the game but im not very fond of the color scheme\n",
      "1972                                                                                                                                                                im feeling a little tender and mashed today and im doing my best\n",
      "1978                                                                                                                                                                     i can feel all supportive and jrock ish in school tommorrow\n",
      "1988                                                                                                                                                   i feel like i got to know her a bit and what i did get to know i really liked\n",
      "Name: text, Length: 178, dtype: object\n"
     ]
    }
   ],
   "source": [
    "print(val_df['text'][val_df['labels']=='love'])"
   ]
  }
 ],
 "metadata": {
  "kernelspec": {
   "display_name": "Python 3",
   "language": "python",
   "name": "python3"
  },
  "language_info": {
   "codemirror_mode": {
    "name": "ipython",
    "version": 3
   },
   "file_extension": ".py",
   "mimetype": "text/x-python",
   "name": "python",
   "nbconvert_exporter": "python",
   "pygments_lexer": "ipython3",
   "version": "3.7.12"
  },
  "papermill": {
   "default_parameters": {},
   "duration": 204.456044,
   "end_time": "2023-01-24T17:08:00.643275",
   "environment_variables": {},
   "exception": null,
   "input_path": "__notebook__.ipynb",
   "output_path": "__notebook__.ipynb",
   "parameters": {},
   "start_time": "2023-01-24T17:04:36.187231",
   "version": "2.3.4"
  }
 },
 "nbformat": 4,
 "nbformat_minor": 5
}
