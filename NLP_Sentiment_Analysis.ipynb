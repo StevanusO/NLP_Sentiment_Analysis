{
 "cells": [
  {
   "cell_type": "code",
   "execution_count": 1,
   "id": "a470e966",
   "metadata": {
    "_cell_guid": "b1076dfc-b9ad-4769-8c92-a6c4dae69d19",
    "_uuid": "8f2839f25d086af736a60e9eeb907d3b93b6e0e5",
    "execution": {
     "iopub.execute_input": "2023-01-24T08:42:11.024270Z",
     "iopub.status.busy": "2023-01-24T08:42:11.023576Z",
     "iopub.status.idle": "2023-01-24T08:42:22.211255Z",
     "shell.execute_reply": "2023-01-24T08:42:22.209663Z"
    },
    "papermill": {
     "duration": 11.201534,
     "end_time": "2023-01-24T08:42:22.213456",
     "exception": false,
     "start_time": "2023-01-24T08:42:11.011922",
     "status": "completed"
    },
    "tags": []
   },
   "outputs": [
    {
     "name": "stdout",
     "output_type": "stream",
     "text": [
      "Requirement already satisfied: textblob in /opt/conda/lib/python3.7/site-packages (0.17.1)\r\n",
      "Requirement already satisfied: nltk>=3.1 in /opt/conda/lib/python3.7/site-packages (from textblob) (3.7)\r\n",
      "Requirement already satisfied: regex>=2021.8.3 in /opt/conda/lib/python3.7/site-packages (from nltk>=3.1->textblob) (2021.11.10)\r\n",
      "Requirement already satisfied: click in /opt/conda/lib/python3.7/site-packages (from nltk>=3.1->textblob) (8.0.4)\r\n",
      "Requirement already satisfied: joblib in /opt/conda/lib/python3.7/site-packages (from nltk>=3.1->textblob) (1.0.1)\r\n",
      "Requirement already satisfied: tqdm in /opt/conda/lib/python3.7/site-packages (from nltk>=3.1->textblob) (4.64.0)\r\n",
      "Requirement already satisfied: importlib-metadata in /opt/conda/lib/python3.7/site-packages (from click->nltk>=3.1->textblob) (4.13.0)\r\n",
      "Requirement already satisfied: zipp>=0.5 in /opt/conda/lib/python3.7/site-packages (from importlib-metadata->click->nltk>=3.1->textblob) (3.8.0)\r\n",
      "Requirement already satisfied: typing-extensions>=3.6.4 in /opt/conda/lib/python3.7/site-packages (from importlib-metadata->click->nltk>=3.1->textblob) (4.1.1)\r\n",
      "\u001b[33mWARNING: Running pip as the 'root' user can result in broken permissions and conflicting behaviour with the system package manager. It is recommended to use a virtual environment instead: https://pip.pypa.io/warnings/venv\u001b[0m\u001b[33m\r\n",
      "\u001b[0mNote: you may need to restart the kernel to use updated packages.\n",
      "/kaggle/input/emotions-dataset-for-nlp/val.txt\n",
      "/kaggle/input/emotions-dataset-for-nlp/test.txt\n",
      "/kaggle/input/emotions-dataset-for-nlp/train.txt\n"
     ]
    }
   ],
   "source": [
    "# This Python 3 environment comes with many helpful analytics libraries installed\n",
    "# It is defined by the kaggle/python Docker image: https://github.com/kaggle/docker-python\n",
    "# For example, here's several helpful packages to load\n",
    "%pip install textblob\n",
    "import numpy as np # linear algebra\n",
    "import pandas as pd # data processing, CSV file I/O (e.g. pd.read_csv)\n",
    "\n",
    "# Input data files are available in the read-only \"../input/\" directory\n",
    "# For example, running this (by clicking run or pressing Shift+Enter) will list all files under the input directory\n",
    "\n",
    "import os\n",
    "for dirname, _, filenames in os.walk('/kaggle/input'):\n",
    "    for filename in filenames:\n",
    "        print(os.path.join(dirname, filename))\n",
    "\n",
    "# You can write up to 20GB to the current directory (/kaggle/working/) that gets preserved as output when you create a version using \"Save & Run All\" \n",
    "# You can also write temporary files to /kaggle/temp/, but they won't be saved outside of the current session"
   ]
  },
  {
   "cell_type": "code",
   "execution_count": 2,
   "id": "6ae5dd1d",
   "metadata": {
    "execution": {
     "iopub.execute_input": "2023-01-24T08:42:22.234543Z",
     "iopub.status.busy": "2023-01-24T08:42:22.233929Z",
     "iopub.status.idle": "2023-01-24T08:42:24.136620Z",
     "shell.execute_reply": "2023-01-24T08:42:24.135333Z"
    },
    "papermill": {
     "duration": 1.915675,
     "end_time": "2023-01-24T08:42:24.139107",
     "exception": false,
     "start_time": "2023-01-24T08:42:22.223432",
     "status": "completed"
    },
    "tags": []
   },
   "outputs": [],
   "source": [
    "!rm -rf ./logs/ \n",
    "!mkdir ./logs/"
   ]
  },
  {
   "cell_type": "markdown",
   "id": "14a3cc33",
   "metadata": {
    "papermill": {
     "duration": 0.009017,
     "end_time": "2023-01-24T08:42:24.159374",
     "exception": false,
     "start_time": "2023-01-24T08:42:24.150357",
     "status": "completed"
    },
    "tags": []
   },
   "source": [
    "# Ignore Error"
   ]
  },
  {
   "cell_type": "code",
   "execution_count": 3,
   "id": "5b8f387e",
   "metadata": {
    "execution": {
     "iopub.execute_input": "2023-01-24T08:42:24.180326Z",
     "iopub.status.busy": "2023-01-24T08:42:24.178794Z",
     "iopub.status.idle": "2023-01-24T08:42:24.193490Z",
     "shell.execute_reply": "2023-01-24T08:42:24.192623Z"
    },
    "papermill": {
     "duration": 0.02736,
     "end_time": "2023-01-24T08:42:24.195812",
     "exception": false,
     "start_time": "2023-01-24T08:42:24.168452",
     "status": "completed"
    },
    "tags": []
   },
   "outputs": [],
   "source": [
    "import warnings\n",
    "warnings.filterwarnings('ignore')\n",
    "%config Completer.use_jedi = False # if autocompletion doesnot work in kaggle notebook "
   ]
  },
  {
   "cell_type": "markdown",
   "id": "d6988cfa",
   "metadata": {
    "papermill": {
     "duration": 0.00892,
     "end_time": "2023-01-24T08:42:24.213811",
     "exception": false,
     "start_time": "2023-01-24T08:42:24.204891",
     "status": "completed"
    },
    "tags": []
   },
   "source": [
    "# Import Library"
   ]
  },
  {
   "cell_type": "code",
   "execution_count": 4,
   "id": "5800f84a",
   "metadata": {
    "execution": {
     "iopub.execute_input": "2023-01-24T08:42:24.233290Z",
     "iopub.status.busy": "2023-01-24T08:42:24.233024Z",
     "iopub.status.idle": "2023-01-24T08:42:31.433502Z",
     "shell.execute_reply": "2023-01-24T08:42:31.432521Z"
    },
    "papermill": {
     "duration": 7.213241,
     "end_time": "2023-01-24T08:42:31.436197",
     "exception": false,
     "start_time": "2023-01-24T08:42:24.222956",
     "status": "completed"
    },
    "tags": []
   },
   "outputs": [
    {
     "name": "stderr",
     "output_type": "stream",
     "text": [
      "[nltk_data] Downloading package wordnet to /usr/share/nltk_data...\n",
      "[nltk_data]   Package wordnet is already up-to-date!\n",
      "[nltk_data] Downloading package punkt to /usr/share/nltk_data...\n",
      "[nltk_data]   Package punkt is already up-to-date!\n",
      "[nltk_data] Downloading package stopwords to /usr/share/nltk_data...\n",
      "[nltk_data]   Package stopwords is already up-to-date!\n",
      "[nltk_data] Downloading package omw-1.4 to /usr/share/nltk_data...\n"
     ]
    }
   ],
   "source": [
    "import pandas as pd\n",
    "import matplotlib.pyplot as plt\n",
    "import seaborn as sns\n",
    "\n",
    "# import and download library for text processing\n",
    "import re\n",
    "import nltk\n",
    "from nltk.corpus import stopwords\n",
    "from nltk.tokenize import word_tokenize\n",
    "from nltk.stem import WordNetLemmatizer\n",
    "\n",
    "nltk.download('wordnet')\n",
    "nltk.download('punkt')\n",
    "nltk.download('stopwords')\n",
    "nltk.download('omw-1.4')\n",
    "\n",
    "lemmatizer = WordNetLemmatizer()\n",
    "stopwords = stopwords.words('english')\n",
    "\n",
    "from tensorflow.keras.preprocessing.text import Tokenizer\n",
    "from tensorflow.keras.preprocessing.sequence import pad_sequences\n",
    "from tensorflow.keras.utils import to_categorical\n",
    "import tensorflow as tf\n",
    "import random\n",
    "seed = 101\n",
    "random.seed(seed)\n",
    "np.random.seed(seed)\n",
    "tf.random.set_seed(seed)"
   ]
  },
  {
   "cell_type": "code",
   "execution_count": 5,
   "id": "a33a39ec",
   "metadata": {
    "execution": {
     "iopub.execute_input": "2023-01-24T08:42:31.457999Z",
     "iopub.status.busy": "2023-01-24T08:42:31.456269Z",
     "iopub.status.idle": "2023-01-24T08:42:31.462417Z",
     "shell.execute_reply": "2023-01-24T08:42:31.461385Z"
    },
    "papermill": {
     "duration": 0.018451,
     "end_time": "2023-01-24T08:42:31.464464",
     "exception": false,
     "start_time": "2023-01-24T08:42:31.446013",
     "status": "completed"
    },
    "tags": []
   },
   "outputs": [],
   "source": [
    "path = '/kaggle/input/emotions-dataset-for-nlp/'\n",
    "train_path = path+'train.txt'\n",
    "test_path = path+'test.txt'\n",
    "val_path = path+'val.txt'"
   ]
  },
  {
   "cell_type": "code",
   "execution_count": 6,
   "id": "d9ffe16f",
   "metadata": {
    "execution": {
     "iopub.execute_input": "2023-01-24T08:42:31.485049Z",
     "iopub.status.busy": "2023-01-24T08:42:31.483628Z",
     "iopub.status.idle": "2023-01-24T08:42:31.560150Z",
     "shell.execute_reply": "2023-01-24T08:42:31.559029Z"
    },
    "papermill": {
     "duration": 0.088715,
     "end_time": "2023-01-24T08:42:31.562297",
     "exception": false,
     "start_time": "2023-01-24T08:42:31.473582",
     "status": "completed"
    },
    "tags": []
   },
   "outputs": [],
   "source": [
    "train_df = pd.read_csv(train_path, sep=';', names=['text', 'labels'])\n",
    "test_df = pd.read_csv(test_path, sep=';', names=['text', 'labels'])\n",
    "val_df = pd.read_csv(val_path, sep=';', names=['text', 'labels'])\n",
    "full_df = pd.concat([train_df, test_df, val_df], axis=0)"
   ]
  },
  {
   "cell_type": "code",
   "execution_count": 7,
   "id": "24240d97",
   "metadata": {
    "execution": {
     "iopub.execute_input": "2023-01-24T08:42:31.583760Z",
     "iopub.status.busy": "2023-01-24T08:42:31.582204Z",
     "iopub.status.idle": "2023-01-24T08:42:31.589920Z",
     "shell.execute_reply": "2023-01-24T08:42:31.588766Z"
    },
    "papermill": {
     "duration": 0.019894,
     "end_time": "2023-01-24T08:42:31.591936",
     "exception": false,
     "start_time": "2023-01-24T08:42:31.572042",
     "status": "completed"
    },
    "tags": []
   },
   "outputs": [
    {
     "name": "stdout",
     "output_type": "stream",
     "text": [
      "Train text size 16000\n",
      "Test text size 2000\n",
      "Val text size 2000\n",
      "\n",
      "Total samples 20000\n"
     ]
    }
   ],
   "source": [
    "print(\"Train text size\", train_df.shape[0])\n",
    "print(\"Test text size\", test_df.shape[0])\n",
    "print(\"Val text size\", val_df.shape[0])\n",
    "print(\"\\nTotal samples\", (train_df.shape[0]+test_df.shape[0]+val_df.shape[0]))"
   ]
  },
  {
   "cell_type": "markdown",
   "id": "f9bcff47",
   "metadata": {
    "papermill": {
     "duration": 0.009245,
     "end_time": "2023-01-24T08:42:31.610789",
     "exception": false,
     "start_time": "2023-01-24T08:42:31.601544",
     "status": "completed"
    },
    "tags": []
   },
   "source": [
    "# Explanatory Data Analysis"
   ]
  },
  {
   "cell_type": "code",
   "execution_count": 8,
   "id": "4e42960a",
   "metadata": {
    "execution": {
     "iopub.execute_input": "2023-01-24T08:42:31.632210Z",
     "iopub.status.busy": "2023-01-24T08:42:31.630767Z",
     "iopub.status.idle": "2023-01-24T08:42:31.637379Z",
     "shell.execute_reply": "2023-01-24T08:42:31.636522Z"
    },
    "papermill": {
     "duration": 0.018927,
     "end_time": "2023-01-24T08:42:31.639306",
     "exception": false,
     "start_time": "2023-01-24T08:42:31.620379",
     "status": "completed"
    },
    "tags": []
   },
   "outputs": [],
   "source": [
    "def describe_data(data_type,data,label):\n",
    "    print(data_type,\" DESCRIPTION\")\n",
    "    print(\"--------------------------\")\n",
    "    size=data.shape\n",
    "    null_values=data.isnull().sum().sum()\n",
    "    \n",
    "    \n",
    "    print(data_type,\" shape:\",size,\"\\n\")\n",
    "    print(data_type,\" contains:\",null_values,\" null values\\n\")\n",
    "    print(\"Label counts:\")  \n",
    "    print(data[label].value_counts())\n",
    "    print()\n",
    "    \n",
    "    print(\"*****\",data_type,\" label count plot ****\")\n",
    "    sns.countplot(\n",
    "        data=data,\n",
    "        x=label\n",
    "    )"
   ]
  },
  {
   "cell_type": "code",
   "execution_count": 9,
   "id": "ff28073c",
   "metadata": {
    "execution": {
     "iopub.execute_input": "2023-01-24T08:42:31.663080Z",
     "iopub.status.busy": "2023-01-24T08:42:31.662820Z",
     "iopub.status.idle": "2023-01-24T08:42:31.905996Z",
     "shell.execute_reply": "2023-01-24T08:42:31.905062Z"
    },
    "papermill": {
     "duration": 0.255392,
     "end_time": "2023-01-24T08:42:31.907965",
     "exception": false,
     "start_time": "2023-01-24T08:42:31.652573",
     "status": "completed"
    },
    "tags": []
   },
   "outputs": [
    {
     "name": "stdout",
     "output_type": "stream",
     "text": [
      "Training Data  DESCRIPTION\n",
      "--------------------------\n",
      "Training Data  shape: (16000, 2) \n",
      "\n",
      "Training Data  contains: 0  null values\n",
      "\n",
      "Label counts:\n",
      "joy         5362\n",
      "sadness     4666\n",
      "anger       2159\n",
      "fear        1937\n",
      "love        1304\n",
      "surprise     572\n",
      "Name: labels, dtype: int64\n",
      "\n",
      "***** Training Data  label count plot ****\n"
     ]
    },
    {
     "data": {
      "image/png": "[encoded data removed]",
      "text/plain": [
       "<Figure size 432x288 with 1 Axes>"
      ]
     },
     "metadata": {
      "needs_background": "light"
     },
     "output_type": "display_data"
    }
   ],
   "source": [
    "describe_data('Training Data', train_df, 'labels')"
   ]
  },
  {
   "cell_type": "code",
   "execution_count": 10,
   "id": "3a40cfb5",
   "metadata": {
    "execution": {
     "iopub.execute_input": "2023-01-24T08:42:31.929255Z",
     "iopub.status.busy": "2023-01-24T08:42:31.928426Z",
     "iopub.status.idle": "2023-01-24T08:42:32.174717Z",
     "shell.execute_reply": "2023-01-24T08:42:32.173638Z"
    },
    "papermill": {
     "duration": 0.258892,
     "end_time": "2023-01-24T08:42:32.176690",
     "exception": false,
     "start_time": "2023-01-24T08:42:31.917798",
     "status": "completed"
    },
    "tags": []
   },
   "outputs": [
    {
     "name": "stdout",
     "output_type": "stream",
     "text": [
      "Test Data  DESCRIPTION\n",
      "--------------------------\n",
      "Test Data  shape: (2000, 2) \n",
      "\n",
      "Test Data  contains: 0  null values\n",
      "\n",
      "Label counts:\n",
      "joy         695\n",
      "sadness     581\n",
      "anger       275\n",
      "fear        224\n",
      "love        159\n",
      "surprise     66\n",
      "Name: labels, dtype: int64\n",
      "\n",
      "***** Test Data  label count plot ****\n"
     ]
    },
    {
     "data": {
      "image/png": "[encoded data removed]",
      "text/plain": [
       "<Figure size 432x288 with 1 Axes>"
      ]
     },
     "metadata": {
      "needs_background": "light"
     },
     "output_type": "display_data"
    }
   ],
   "source": [
    "describe_data('Test Data', test_df, 'labels')"
   ]
  },
  {
   "cell_type": "code",
   "execution_count": 11,
   "id": "7f209e25",
   "metadata": {
    "execution": {
     "iopub.execute_input": "2023-01-24T08:42:32.199847Z",
     "iopub.status.busy": "2023-01-24T08:42:32.198939Z",
     "iopub.status.idle": "2023-01-24T08:42:32.404533Z",
     "shell.execute_reply": "2023-01-24T08:42:32.403631Z"
    },
    "papermill": {
     "duration": 0.219797,
     "end_time": "2023-01-24T08:42:32.406572",
     "exception": false,
     "start_time": "2023-01-24T08:42:32.186775",
     "status": "completed"
    },
    "tags": []
   },
   "outputs": [
    {
     "name": "stdout",
     "output_type": "stream",
     "text": [
      "Val Data  DESCRIPTION\n",
      "--------------------------\n",
      "Val Data  shape: (2000, 2) \n",
      "\n",
      "Val Data  contains: 0  null values\n",
      "\n",
      "Label counts:\n",
      "joy         704\n",
      "sadness     550\n",
      "anger       275\n",
      "fear        212\n",
      "love        178\n",
      "surprise     81\n",
      "Name: labels, dtype: int64\n",
      "\n",
      "***** Val Data  label count plot ****\n"
     ]
    },
    {
     "data": {
      "image/png": "[encoded data removed]",
      "text/plain": [
       "<Figure size 432x288 with 1 Axes>"
      ]
     },
     "metadata": {
      "needs_background": "light"
     },
     "output_type": "display_data"
    }
   ],
   "source": [
    "describe_data('Val Data', val_df, 'labels')"
   ]
  },
  {
   "cell_type": "code",
   "execution_count": 12,
   "id": "90bc6c80",
   "metadata": {
    "execution": {
     "iopub.execute_input": "2023-01-24T08:42:32.428086Z",
     "iopub.status.busy": "2023-01-24T08:42:32.427800Z",
     "iopub.status.idle": "2023-01-24T08:42:32.642503Z",
     "shell.execute_reply": "2023-01-24T08:42:32.641491Z"
    },
    "papermill": {
     "duration": 0.227576,
     "end_time": "2023-01-24T08:42:32.644452",
     "exception": false,
     "start_time": "2023-01-24T08:42:32.416876",
     "status": "completed"
    },
    "tags": []
   },
   "outputs": [
    {
     "name": "stdout",
     "output_type": "stream",
     "text": [
      "Full Data  DESCRIPTION\n",
      "--------------------------\n",
      "Full Data  shape: (20000, 2) \n",
      "\n",
      "Full Data  contains: 0  null values\n",
      "\n",
      "Label counts:\n",
      "joy         6761\n",
      "sadness     5797\n",
      "anger       2709\n",
      "fear        2373\n",
      "love        1641\n",
      "surprise     719\n",
      "Name: labels, dtype: int64\n",
      "\n",
      "***** Full Data  label count plot ****\n"
     ]
    },
    {
     "data": {
      "image/png": "[encoded data removed]",
      "text/plain": [
       "<Figure size 432x288 with 1 Axes>"
      ]
     },
     "metadata": {
      "needs_background": "light"
     },
     "output_type": "display_data"
    }
   ],
   "source": [
    "describe_data('Full Data', full_df, 'labels')"
   ]
  },
  {
   "cell_type": "code",
   "execution_count": 13,
   "id": "4d78f188",
   "metadata": {
    "execution": {
     "iopub.execute_input": "2023-01-24T08:42:32.667584Z",
     "iopub.status.busy": "2023-01-24T08:42:32.666897Z",
     "iopub.status.idle": "2023-01-24T08:42:32.678255Z",
     "shell.execute_reply": "2023-01-24T08:42:32.677640Z"
    },
    "papermill": {
     "duration": 0.025021,
     "end_time": "2023-01-24T08:42:32.680136",
     "exception": false,
     "start_time": "2023-01-24T08:42:32.655115",
     "status": "completed"
    },
    "tags": []
   },
   "outputs": [],
   "source": [
    "train_df['Length'] = train_df.text.apply(lambda x:len(x))"
   ]
  },
  {
   "cell_type": "code",
   "execution_count": 14,
   "id": "a71eadff",
   "metadata": {
    "execution": {
     "iopub.execute_input": "2023-01-24T08:42:32.703175Z",
     "iopub.status.busy": "2023-01-24T08:42:32.701743Z",
     "iopub.status.idle": "2023-01-24T08:42:33.032290Z",
     "shell.execute_reply": "2023-01-24T08:42:33.031384Z"
    },
    "papermill": {
     "duration": 0.344063,
     "end_time": "2023-01-24T08:42:33.034479",
     "exception": false,
     "start_time": "2023-01-24T08:42:32.690416",
     "status": "completed"
    },
    "tags": []
   },
   "outputs": [
    {
     "data": {
      "image/png": "[encoded data removed]",
      "text/plain": [
       "<Figure size 720x432 with 1 Axes>"
      ]
     },
     "metadata": {
      "needs_background": "light"
     },
     "output_type": "display_data"
    }
   ],
   "source": [
    "fig=plt.figure(figsize=(10,6))\n",
    "\n",
    "sns.kdeplot(\n",
    "    x=train_df['Length'],\n",
    "    hue=train_df[\"labels\"]\n",
    ")\n",
    "plt.show()"
   ]
  },
  {
   "cell_type": "code",
   "execution_count": 15,
   "id": "b8b766d3",
   "metadata": {
    "execution": {
     "iopub.execute_input": "2023-01-24T08:42:33.059616Z",
     "iopub.status.busy": "2023-01-24T08:42:33.057955Z",
     "iopub.status.idle": "2023-01-24T08:42:33.064795Z",
     "shell.execute_reply": "2023-01-24T08:42:33.063449Z"
    },
    "papermill": {
     "duration": 0.020946,
     "end_time": "2023-01-24T08:42:33.066774",
     "exception": false,
     "start_time": "2023-01-24T08:42:33.045828",
     "status": "completed"
    },
    "tags": []
   },
   "outputs": [
    {
     "name": "stdout",
     "output_type": "stream",
     "text": [
      "300\n",
      "7\n"
     ]
    }
   ],
   "source": [
    "print(train_df.Length.max())\n",
    "print(train_df.Length.min())"
   ]
  },
  {
   "cell_type": "code",
   "execution_count": 16,
   "id": "ae44e153",
   "metadata": {
    "execution": {
     "iopub.execute_input": "2023-01-24T08:42:33.090779Z",
     "iopub.status.busy": "2023-01-24T08:42:33.090124Z",
     "iopub.status.idle": "2023-01-24T08:42:33.107640Z",
     "shell.execute_reply": "2023-01-24T08:42:33.106637Z"
    },
    "papermill": {
     "duration": 0.031896,
     "end_time": "2023-01-24T08:42:33.109648",
     "exception": false,
     "start_time": "2023-01-24T08:42:33.077752",
     "status": "completed"
    },
    "tags": []
   },
   "outputs": [
    {
     "data": {
      "text/html": [
       "<div>\n",
       "<style scoped>\n",
       "    .dataframe tbody tr th:only-of-type {\n",
       "        vertical-align: middle;\n",
       "    }\n",
       "\n",
       "    .dataframe tbody tr th {\n",
       "        vertical-align: top;\n",
       "    }\n",
       "\n",
       "    .dataframe thead th {\n",
       "        text-align: right;\n",
       "    }\n",
       "</style>\n",
       "<table border=\"1\" class=\"dataframe\">\n",
       "  <thead>\n",
       "    <tr style=\"text-align: right;\">\n",
       "      <th></th>\n",
       "      <th>Length</th>\n",
       "    </tr>\n",
       "  </thead>\n",
       "  <tbody>\n",
       "    <tr>\n",
       "      <th>count</th>\n",
       "      <td>16000.000000</td>\n",
       "    </tr>\n",
       "    <tr>\n",
       "      <th>mean</th>\n",
       "      <td>96.845812</td>\n",
       "    </tr>\n",
       "    <tr>\n",
       "      <th>std</th>\n",
       "      <td>55.904953</td>\n",
       "    </tr>\n",
       "    <tr>\n",
       "      <th>min</th>\n",
       "      <td>7.000000</td>\n",
       "    </tr>\n",
       "    <tr>\n",
       "      <th>25%</th>\n",
       "      <td>53.000000</td>\n",
       "    </tr>\n",
       "    <tr>\n",
       "      <th>50%</th>\n",
       "      <td>86.000000</td>\n",
       "    </tr>\n",
       "    <tr>\n",
       "      <th>75%</th>\n",
       "      <td>129.000000</td>\n",
       "    </tr>\n",
       "    <tr>\n",
       "      <th>max</th>\n",
       "      <td>300.000000</td>\n",
       "    </tr>\n",
       "  </tbody>\n",
       "</table>\n",
       "</div>"
      ],
      "text/plain": [
       "             Length\n",
       "count  16000.000000\n",
       "mean      96.845812\n",
       "std       55.904953\n",
       "min        7.000000\n",
       "25%       53.000000\n",
       "50%       86.000000\n",
       "75%      129.000000\n",
       "max      300.000000"
      ]
     },
     "execution_count": 16,
     "metadata": {},
     "output_type": "execute_result"
    }
   ],
   "source": [
    "train_df[['Length']].describe()"
   ]
  },
  {
   "cell_type": "markdown",
   "id": "65ff3e22",
   "metadata": {
    "papermill": {
     "duration": 0.010894,
     "end_time": "2023-01-24T08:42:33.131880",
     "exception": false,
     "start_time": "2023-01-24T08:42:33.120986",
     "status": "completed"
    },
    "tags": []
   },
   "source": [
    "# Data Preparation"
   ]
  },
  {
   "cell_type": "code",
   "execution_count": 17,
   "id": "4894bbb9",
   "metadata": {
    "execution": {
     "iopub.execute_input": "2023-01-24T08:42:33.156036Z",
     "iopub.status.busy": "2023-01-24T08:42:33.155250Z",
     "iopub.status.idle": "2023-01-24T08:42:33.160626Z",
     "shell.execute_reply": "2023-01-24T08:42:33.159770Z"
    },
    "papermill": {
     "duration": 0.019608,
     "end_time": "2023-01-24T08:42:33.162509",
     "exception": false,
     "start_time": "2023-01-24T08:42:33.142901",
     "status": "completed"
    },
    "tags": []
   },
   "outputs": [],
   "source": [
    "def label_encode(data,label):\n",
    "    labels=data[label].map(\n",
    "    {\n",
    "        \"joy\":0,\n",
    "        \"sadness\":1,\n",
    "        \"anger\":2,\n",
    "        \"fear\":3,\n",
    "        \"love\":4,\n",
    "        \"surprise\":5\n",
    "    }\n",
    "    )\n",
    "    return labels\n",
    "\n",
    "labels = ['joy', 'sadness', 'anger', 'fear', 'love', 'surprise']"
   ]
  },
  {
   "cell_type": "code",
   "execution_count": 18,
   "id": "d580fb61",
   "metadata": {
    "execution": {
     "iopub.execute_input": "2023-01-24T08:42:33.186235Z",
     "iopub.status.busy": "2023-01-24T08:42:33.185390Z",
     "iopub.status.idle": "2023-01-24T08:42:33.193989Z",
     "shell.execute_reply": "2023-01-24T08:42:33.193116Z"
    },
    "papermill": {
     "duration": 0.022381,
     "end_time": "2023-01-24T08:42:33.195852",
     "exception": false,
     "start_time": "2023-01-24T08:42:33.173471",
     "status": "completed"
    },
    "tags": []
   },
   "outputs": [],
   "source": [
    "train_df['enc_labels'] = label_encode(train_df, 'labels')\n",
    "test_df['enc_labels'] = label_encode(test_df, 'labels')\n",
    "val_df['enc_labels'] = label_encode(val_df, 'labels')"
   ]
  },
  {
   "cell_type": "code",
   "execution_count": 19,
   "id": "3eaf6853",
   "metadata": {
    "execution": {
     "iopub.execute_input": "2023-01-24T08:42:33.220397Z",
     "iopub.status.busy": "2023-01-24T08:42:33.219015Z",
     "iopub.status.idle": "2023-01-24T08:42:33.228783Z",
     "shell.execute_reply": "2023-01-24T08:42:33.227841Z"
    },
    "papermill": {
     "duration": 0.023585,
     "end_time": "2023-01-24T08:42:33.230758",
     "exception": false,
     "start_time": "2023-01-24T08:42:33.207173",
     "status": "completed"
    },
    "tags": []
   },
   "outputs": [
    {
     "data": {
      "text/html": [
       "<div>\n",
       "<style scoped>\n",
       "    .dataframe tbody tr th:only-of-type {\n",
       "        vertical-align: middle;\n",
       "    }\n",
       "\n",
       "    .dataframe tbody tr th {\n",
       "        vertical-align: top;\n",
       "    }\n",
       "\n",
       "    .dataframe thead th {\n",
       "        text-align: right;\n",
       "    }\n",
       "</style>\n",
       "<table border=\"1\" class=\"dataframe\">\n",
       "  <thead>\n",
       "    <tr style=\"text-align: right;\">\n",
       "      <th></th>\n",
       "      <th>text</th>\n",
       "      <th>labels</th>\n",
       "      <th>Length</th>\n",
       "      <th>enc_labels</th>\n",
       "    </tr>\n",
       "  </thead>\n",
       "  <tbody>\n",
       "    <tr>\n",
       "      <th>0</th>\n",
       "      <td>i didnt feel humiliated</td>\n",
       "      <td>sadness</td>\n",
       "      <td>23</td>\n",
       "      <td>1</td>\n",
       "    </tr>\n",
       "    <tr>\n",
       "      <th>1</th>\n",
       "      <td>i can go from feeling so hopeless to so damned...</td>\n",
       "      <td>sadness</td>\n",
       "      <td>108</td>\n",
       "      <td>1</td>\n",
       "    </tr>\n",
       "    <tr>\n",
       "      <th>2</th>\n",
       "      <td>im grabbing a minute to post i feel greedy wrong</td>\n",
       "      <td>anger</td>\n",
       "      <td>48</td>\n",
       "      <td>2</td>\n",
       "    </tr>\n",
       "    <tr>\n",
       "      <th>3</th>\n",
       "      <td>i am ever feeling nostalgic about the fireplac...</td>\n",
       "      <td>love</td>\n",
       "      <td>92</td>\n",
       "      <td>4</td>\n",
       "    </tr>\n",
       "    <tr>\n",
       "      <th>4</th>\n",
       "      <td>i am feeling grouchy</td>\n",
       "      <td>anger</td>\n",
       "      <td>20</td>\n",
       "      <td>2</td>\n",
       "    </tr>\n",
       "  </tbody>\n",
       "</table>\n",
       "</div>"
      ],
      "text/plain": [
       "                                                text   labels  Length  \\\n",
       "0                            i didnt feel humiliated  sadness      23   \n",
       "1  i can go from feeling so hopeless to so damned...  sadness     108   \n",
       "2   im grabbing a minute to post i feel greedy wrong    anger      48   \n",
       "3  i am ever feeling nostalgic about the fireplac...     love      92   \n",
       "4                               i am feeling grouchy    anger      20   \n",
       "\n",
       "   enc_labels  \n",
       "0           1  \n",
       "1           1  \n",
       "2           2  \n",
       "3           4  \n",
       "4           2  "
      ]
     },
     "execution_count": 19,
     "metadata": {},
     "output_type": "execute_result"
    }
   ],
   "source": [
    "train_df.head()"
   ]
  },
  {
   "cell_type": "markdown",
   "id": "fe6e8364",
   "metadata": {
    "papermill": {
     "duration": 0.011033,
     "end_time": "2023-01-24T08:42:33.253036",
     "exception": false,
     "start_time": "2023-01-24T08:42:33.242003",
     "status": "completed"
    },
    "tags": []
   },
   "source": [
    "# Text Preparation"
   ]
  },
  {
   "cell_type": "code",
   "execution_count": 20,
   "id": "4a6737ed",
   "metadata": {
    "execution": {
     "iopub.execute_input": "2023-01-24T08:42:33.277126Z",
     "iopub.status.busy": "2023-01-24T08:42:33.276303Z",
     "iopub.status.idle": "2023-01-24T08:42:33.284201Z",
     "shell.execute_reply": "2023-01-24T08:42:33.283374Z"
    },
    "papermill": {
     "duration": 0.02186,
     "end_time": "2023-01-24T08:42:33.286143",
     "exception": false,
     "start_time": "2023-01-24T08:42:33.264283",
     "status": "completed"
    },
    "tags": []
   },
   "outputs": [],
   "source": [
    "def lower_text(text):\n",
    "    # lowercase the text \n",
    "    return text.lower()\n",
    "\n",
    "def remove_number(text):\n",
    "    # remove number with regex\n",
    "    num = re.compile(r'[-+]?[.\\d]*[\\d]+[:,.\\d]*')\n",
    "    return num.sub(r'', text)\n",
    "\n",
    "def remove_punct(text):\n",
    "    # remove punctuations\n",
    "    punctuations = '@#!?+&*[]-%.:/();$=><|{}^' + \"'`\" \n",
    "    for p in punctuations:\n",
    "        text = text.replace(p, f' {p} ')\n",
    "    return text\n",
    "\n",
    "def nltk_process(text):\n",
    "    list1 = word_tokenize(text)\n",
    "    text = ' '.join([lemmatizer.lemmatize(words) for words in list1])\n",
    "    list1 = word_tokenize(text)\n",
    "    text = \" \".join([word for word in list1 if word not in (stopwords)])\n",
    "    return text\n",
    "\n",
    "def data_preparation(text):\n",
    "    text = lower_text(text)\n",
    "    text = remove_number(text)\n",
    "    text = nltk_process(text)\n",
    "    text = remove_punct(text)\n",
    "  \n",
    "    return text"
   ]
  },
  {
   "cell_type": "code",
   "execution_count": 21,
   "id": "f5ca1193",
   "metadata": {
    "execution": {
     "iopub.execute_input": "2023-01-24T08:42:33.310811Z",
     "iopub.status.busy": "2023-01-24T08:42:33.309354Z",
     "iopub.status.idle": "2023-01-24T08:42:42.356014Z",
     "shell.execute_reply": "2023-01-24T08:42:42.354976Z"
    },
    "papermill": {
     "duration": 9.061463,
     "end_time": "2023-01-24T08:42:42.358878",
     "exception": false,
     "start_time": "2023-01-24T08:42:33.297415",
     "status": "completed"
    },
    "tags": []
   },
   "outputs": [],
   "source": [
    "train_df[\"clean_text\"] = train_df[\"text\"].apply(data_preparation)\n",
    "test_df[\"clean_text\"] = test_df[\"text\"].apply(data_preparation)\n",
    "val_df[\"clean_text\"] = val_df[\"text\"].apply(data_preparation)"
   ]
  },
  {
   "cell_type": "code",
   "execution_count": 22,
   "id": "f97dbc3c",
   "metadata": {
    "execution": {
     "iopub.execute_input": "2023-01-24T08:42:42.384185Z",
     "iopub.status.busy": "2023-01-24T08:42:42.383882Z",
     "iopub.status.idle": "2023-01-24T08:42:42.396212Z",
     "shell.execute_reply": "2023-01-24T08:42:42.395178Z"
    },
    "papermill": {
     "duration": 0.026919,
     "end_time": "2023-01-24T08:42:42.398339",
     "exception": false,
     "start_time": "2023-01-24T08:42:42.371420",
     "status": "completed"
    },
    "tags": []
   },
   "outputs": [],
   "source": [
    "train_df['Clean_Length'] = train_df['clean_text'].apply(lambda x:len(x))"
   ]
  },
  {
   "cell_type": "code",
   "execution_count": 23,
   "id": "70730214",
   "metadata": {
    "execution": {
     "iopub.execute_input": "2023-01-24T08:42:42.422357Z",
     "iopub.status.busy": "2023-01-24T08:42:42.422085Z",
     "iopub.status.idle": "2023-01-24T08:42:42.433836Z",
     "shell.execute_reply": "2023-01-24T08:42:42.432965Z"
    },
    "papermill": {
     "duration": 0.026162,
     "end_time": "2023-01-24T08:42:42.435783",
     "exception": false,
     "start_time": "2023-01-24T08:42:42.409621",
     "status": "completed"
    },
    "tags": []
   },
   "outputs": [
    {
     "data": {
      "text/html": [
       "<div>\n",
       "<style scoped>\n",
       "    .dataframe tbody tr th:only-of-type {\n",
       "        vertical-align: middle;\n",
       "    }\n",
       "\n",
       "    .dataframe tbody tr th {\n",
       "        vertical-align: top;\n",
       "    }\n",
       "\n",
       "    .dataframe thead th {\n",
       "        text-align: right;\n",
       "    }\n",
       "</style>\n",
       "<table border=\"1\" class=\"dataframe\">\n",
       "  <thead>\n",
       "    <tr style=\"text-align: right;\">\n",
       "      <th></th>\n",
       "      <th>text</th>\n",
       "      <th>labels</th>\n",
       "      <th>Length</th>\n",
       "      <th>enc_labels</th>\n",
       "      <th>clean_text</th>\n",
       "      <th>Clean_Length</th>\n",
       "    </tr>\n",
       "  </thead>\n",
       "  <tbody>\n",
       "    <tr>\n",
       "      <th>0</th>\n",
       "      <td>i didnt feel humiliated</td>\n",
       "      <td>sadness</td>\n",
       "      <td>23</td>\n",
       "      <td>1</td>\n",
       "      <td>didnt feel humiliated</td>\n",
       "      <td>21</td>\n",
       "    </tr>\n",
       "    <tr>\n",
       "      <th>1</th>\n",
       "      <td>i can go from feeling so hopeless to so damned...</td>\n",
       "      <td>sadness</td>\n",
       "      <td>108</td>\n",
       "      <td>1</td>\n",
       "      <td>go feeling hopeless damned hopeful around some...</td>\n",
       "      <td>60</td>\n",
       "    </tr>\n",
       "    <tr>\n",
       "      <th>2</th>\n",
       "      <td>im grabbing a minute to post i feel greedy wrong</td>\n",
       "      <td>anger</td>\n",
       "      <td>48</td>\n",
       "      <td>2</td>\n",
       "      <td>im grabbing minute post feel greedy wrong</td>\n",
       "      <td>41</td>\n",
       "    </tr>\n",
       "    <tr>\n",
       "      <th>3</th>\n",
       "      <td>i am ever feeling nostalgic about the fireplac...</td>\n",
       "      <td>love</td>\n",
       "      <td>92</td>\n",
       "      <td>4</td>\n",
       "      <td>ever feeling nostalgic fireplace know still pr...</td>\n",
       "      <td>52</td>\n",
       "    </tr>\n",
       "    <tr>\n",
       "      <th>4</th>\n",
       "      <td>i am feeling grouchy</td>\n",
       "      <td>anger</td>\n",
       "      <td>20</td>\n",
       "      <td>2</td>\n",
       "      <td>feeling grouchy</td>\n",
       "      <td>15</td>\n",
       "    </tr>\n",
       "    <tr>\n",
       "      <th>5</th>\n",
       "      <td>ive been feeling a little burdened lately wasn...</td>\n",
       "      <td>sadness</td>\n",
       "      <td>65</td>\n",
       "      <td>1</td>\n",
       "      <td>ive feeling little burdened lately wasnt sure wa</td>\n",
       "      <td>48</td>\n",
       "    </tr>\n",
       "    <tr>\n",
       "      <th>6</th>\n",
       "      <td>ive been taking or milligrams or times recomme...</td>\n",
       "      <td>surprise</td>\n",
       "      <td>122</td>\n",
       "      <td>5</td>\n",
       "      <td>ive taking milligram time recommended amount i...</td>\n",
       "      <td>94</td>\n",
       "    </tr>\n",
       "    <tr>\n",
       "      <th>7</th>\n",
       "      <td>i feel as confused about life as a teenager or...</td>\n",
       "      <td>fear</td>\n",
       "      <td>73</td>\n",
       "      <td>3</td>\n",
       "      <td>feel confused life teenager jaded year old man</td>\n",
       "      <td>46</td>\n",
       "    </tr>\n",
       "    <tr>\n",
       "      <th>8</th>\n",
       "      <td>i have been with petronas for years i feel tha...</td>\n",
       "      <td>joy</td>\n",
       "      <td>98</td>\n",
       "      <td>0</td>\n",
       "      <td>petronas year feel petronas ha performed well ...</td>\n",
       "      <td>62</td>\n",
       "    </tr>\n",
       "    <tr>\n",
       "      <th>9</th>\n",
       "      <td>i feel romantic too</td>\n",
       "      <td>love</td>\n",
       "      <td>19</td>\n",
       "      <td>4</td>\n",
       "      <td>feel romantic</td>\n",
       "      <td>13</td>\n",
       "    </tr>\n",
       "  </tbody>\n",
       "</table>\n",
       "</div>"
      ],
      "text/plain": [
       "                                                text    labels  Length  \\\n",
       "0                            i didnt feel humiliated   sadness      23   \n",
       "1  i can go from feeling so hopeless to so damned...   sadness     108   \n",
       "2   im grabbing a minute to post i feel greedy wrong     anger      48   \n",
       "3  i am ever feeling nostalgic about the fireplac...      love      92   \n",
       "4                               i am feeling grouchy     anger      20   \n",
       "5  ive been feeling a little burdened lately wasn...   sadness      65   \n",
       "6  ive been taking or milligrams or times recomme...  surprise     122   \n",
       "7  i feel as confused about life as a teenager or...      fear      73   \n",
       "8  i have been with petronas for years i feel tha...       joy      98   \n",
       "9                                i feel romantic too      love      19   \n",
       "\n",
       "   enc_labels                                         clean_text  Clean_Length  \n",
       "0           1                              didnt feel humiliated            21  \n",
       "1           1  go feeling hopeless damned hopeful around some...            60  \n",
       "2           2          im grabbing minute post feel greedy wrong            41  \n",
       "3           4  ever feeling nostalgic fireplace know still pr...            52  \n",
       "4           2                                    feeling grouchy            15  \n",
       "5           1   ive feeling little burdened lately wasnt sure wa            48  \n",
       "6           5  ive taking milligram time recommended amount i...            94  \n",
       "7           3     feel confused life teenager jaded year old man            46  \n",
       "8           0  petronas year feel petronas ha performed well ...            62  \n",
       "9           4                                      feel romantic            13  "
      ]
     },
     "execution_count": 23,
     "metadata": {},
     "output_type": "execute_result"
    }
   ],
   "source": [
    "train_df.head(10)"
   ]
  },
  {
   "cell_type": "markdown",
   "id": "7260baa4",
   "metadata": {
    "papermill": {
     "duration": 0.011442,
     "end_time": "2023-01-24T08:42:42.458678",
     "exception": false,
     "start_time": "2023-01-24T08:42:42.447236",
     "status": "completed"
    },
    "tags": []
   },
   "source": [
    "# Text Tokenizer"
   ]
  },
  {
   "cell_type": "code",
   "execution_count": 24,
   "id": "4d9f5ede",
   "metadata": {
    "execution": {
     "iopub.execute_input": "2023-01-24T08:42:42.483160Z",
     "iopub.status.busy": "2023-01-24T08:42:42.482540Z",
     "iopub.status.idle": "2023-01-24T08:42:42.487421Z",
     "shell.execute_reply": "2023-01-24T08:42:42.486544Z"
    },
    "papermill": {
     "duration": 0.01897,
     "end_time": "2023-01-24T08:42:42.489295",
     "exception": false,
     "start_time": "2023-01-24T08:42:42.470325",
     "status": "completed"
    },
    "tags": []
   },
   "outputs": [],
   "source": [
    "X_train = train_df['clean_text']\n",
    "X_test = test_df['clean_text']\n",
    "y_train = train_df['enc_labels']\n",
    "y_test = test_df['enc_labels']\n",
    "y_val = val_df['enc_labels']"
   ]
  },
  {
   "cell_type": "code",
   "execution_count": 25,
   "id": "d639d48d",
   "metadata": {
    "execution": {
     "iopub.execute_input": "2023-01-24T08:42:42.513647Z",
     "iopub.status.busy": "2023-01-24T08:42:42.512939Z",
     "iopub.status.idle": "2023-01-24T08:42:42.971736Z",
     "shell.execute_reply": "2023-01-24T08:42:42.970102Z"
    },
    "papermill": {
     "duration": 0.473527,
     "end_time": "2023-01-24T08:42:42.974097",
     "exception": false,
     "start_time": "2023-01-24T08:42:42.500570",
     "status": "completed"
    },
    "tags": []
   },
   "outputs": [
    {
     "name": "stdout",
     "output_type": "stream",
     "text": [
      "13464\n"
     ]
    }
   ],
   "source": [
    "tokenizer = Tokenizer(oov_token='<oov>')\n",
    "tokenizer.fit_on_texts(X_train)\n",
    "\n",
    "X_train = tokenizer.texts_to_sequences(X_train)\n",
    "X_test = tokenizer.texts_to_sequences(X_test)\n",
    "X_val = tokenizer.texts_to_sequences(val_df['clean_text'])\n",
    "\n",
    "vocab_size = len(tokenizer.word_index) + 1\n",
    "print(vocab_size)"
   ]
  },
  {
   "cell_type": "code",
   "execution_count": 26,
   "id": "02277a8c",
   "metadata": {
    "execution": {
     "iopub.execute_input": "2023-01-24T08:42:42.999457Z",
     "iopub.status.busy": "2023-01-24T08:42:42.998482Z",
     "iopub.status.idle": "2023-01-24T08:42:43.056410Z",
     "shell.execute_reply": "2023-01-24T08:42:43.055541Z"
    },
    "papermill": {
     "duration": 0.072427,
     "end_time": "2023-01-24T08:42:43.058430",
     "exception": false,
     "start_time": "2023-01-24T08:42:42.986003",
     "status": "completed"
    },
    "tags": []
   },
   "outputs": [],
   "source": [
    "X_train = pad_sequences(X_train, padding='post', maxlen=128)\n",
    "X_test = pad_sequences(X_test, padding='post', maxlen=128)\n",
    "X_val = pad_sequences(X_val, padding='post', maxlen=128)"
   ]
  },
  {
   "cell_type": "code",
   "execution_count": 27,
   "id": "2a61f428",
   "metadata": {
    "execution": {
     "iopub.execute_input": "2023-01-24T08:42:43.082502Z",
     "iopub.status.busy": "2023-01-24T08:42:43.082225Z",
     "iopub.status.idle": "2023-01-24T08:42:43.088461Z",
     "shell.execute_reply": "2023-01-24T08:42:43.087618Z"
    },
    "papermill": {
     "duration": 0.020673,
     "end_time": "2023-01-24T08:42:43.090520",
     "exception": false,
     "start_time": "2023-01-24T08:42:43.069847",
     "status": "completed"
    },
    "tags": []
   },
   "outputs": [],
   "source": [
    "OHE_y_test = to_categorical(y_test) # One Hot Encode apply\n",
    "OHE_y_train = to_categorical(y_train)\n",
    "OHE_y_val = to_categorical(y_val)"
   ]
  },
  {
   "cell_type": "markdown",
   "id": "f762d7bc",
   "metadata": {
    "papermill": {
     "duration": 0.011112,
     "end_time": "2023-01-24T08:42:43.112944",
     "exception": false,
     "start_time": "2023-01-24T08:42:43.101832",
     "status": "completed"
    },
    "tags": []
   },
   "source": [
    "# Model Building"
   ]
  },
  {
   "cell_type": "code",
   "execution_count": 28,
   "id": "e3b7a960",
   "metadata": {
    "execution": {
     "iopub.execute_input": "2023-01-24T08:42:43.136624Z",
     "iopub.status.busy": "2023-01-24T08:42:43.136354Z",
     "iopub.status.idle": "2023-01-24T08:42:43.142941Z",
     "shell.execute_reply": "2023-01-24T08:42:43.142094Z"
    },
    "papermill": {
     "duration": 0.020626,
     "end_time": "2023-01-24T08:42:43.144819",
     "exception": false,
     "start_time": "2023-01-24T08:42:43.124193",
     "status": "completed"
    },
    "tags": []
   },
   "outputs": [],
   "source": [
    "from tensorflow.keras.layers import LSTM, Bidirectional, Dense, Embedding, Dropout, BatchNormalization\n",
    "from tensorflow.keras.models import Sequential\n",
    "from tensorflow.keras.optimizers import Adam\n",
    "from tensorflow.keras.callbacks import EarlyStopping, ReduceLROnPlateau, ModelCheckpoint, Callback"
   ]
  },
  {
   "cell_type": "code",
   "execution_count": 29,
   "id": "b77322b2",
   "metadata": {
    "execution": {
     "iopub.execute_input": "2023-01-24T08:42:43.168551Z",
     "iopub.status.busy": "2023-01-24T08:42:43.168294Z",
     "iopub.status.idle": "2023-01-24T08:42:48.395865Z",
     "shell.execute_reply": "2023-01-24T08:42:48.394930Z"
    },
    "papermill": {
     "duration": 5.24213,
     "end_time": "2023-01-24T08:42:48.398271",
     "exception": false,
     "start_time": "2023-01-24T08:42:43.156141",
     "status": "completed"
    },
    "tags": []
   },
   "outputs": [
    {
     "name": "stderr",
     "output_type": "stream",
     "text": [
      "2023-01-24 08:42:43.469661: I tensorflow/stream_executor/cuda/cuda_gpu_executor.cc:937] successful NUMA node read from SysFS had negative value (-1), but there must be at least one NUMA node, so returning NUMA node zero\n",
      "2023-01-24 08:42:43.745380: I tensorflow/stream_executor/cuda/cuda_gpu_executor.cc:937] successful NUMA node read from SysFS had negative value (-1), but there must be at least one NUMA node, so returning NUMA node zero\n",
      "2023-01-24 08:42:43.746225: I tensorflow/stream_executor/cuda/cuda_gpu_executor.cc:937] successful NUMA node read from SysFS had negative value (-1), but there must be at least one NUMA node, so returning NUMA node zero\n",
      "2023-01-24 08:42:43.747896: I tensorflow/core/platform/cpu_feature_guard.cc:142] This TensorFlow binary is optimized with oneAPI Deep Neural Network Library (oneDNN) to use the following CPU instructions in performance-critical operations:  AVX2 AVX512F FMA\n",
      "To enable them in other operations, rebuild TensorFlow with the appropriate compiler flags.\n",
      "2023-01-24 08:42:43.748229: I tensorflow/stream_executor/cuda/cuda_gpu_executor.cc:937] successful NUMA node read from SysFS had negative value (-1), but there must be at least one NUMA node, so returning NUMA node zero\n",
      "2023-01-24 08:42:43.748973: I tensorflow/stream_executor/cuda/cuda_gpu_executor.cc:937] successful NUMA node read from SysFS had negative value (-1), but there must be at least one NUMA node, so returning NUMA node zero\n",
      "2023-01-24 08:42:43.749622: I tensorflow/stream_executor/cuda/cuda_gpu_executor.cc:937] successful NUMA node read from SysFS had negative value (-1), but there must be at least one NUMA node, so returning NUMA node zero\n",
      "2023-01-24 08:42:45.924818: I tensorflow/stream_executor/cuda/cuda_gpu_executor.cc:937] successful NUMA node read from SysFS had negative value (-1), but there must be at least one NUMA node, so returning NUMA node zero\n",
      "2023-01-24 08:42:45.925630: I tensorflow/stream_executor/cuda/cuda_gpu_executor.cc:937] successful NUMA node read from SysFS had negative value (-1), but there must be at least one NUMA node, so returning NUMA node zero\n",
      "2023-01-24 08:42:45.926334: I tensorflow/stream_executor/cuda/cuda_gpu_executor.cc:937] successful NUMA node read from SysFS had negative value (-1), but there must be at least one NUMA node, so returning NUMA node zero\n",
      "2023-01-24 08:42:45.926966: I tensorflow/core/common_runtime/gpu/gpu_device.cc:1510] Created device /job:localhost/replica:0/task:0/device:GPU:0 with 15401 MB memory:  -> device: 0, name: Tesla P100-PCIE-16GB, pci bus id: 0000:00:04.0, compute capability: 6.0\n"
     ]
    }
   ],
   "source": [
    "model = Sequential([\n",
    "    Embedding(vocab_size, 128, input_length=128, name='in_layer'),\n",
    "    BatchNormalization(),\n",
    "    Dropout(0.5),\n",
    "    Bidirectional(LSTM(512, return_sequences=True, name='Bi-LSTM-2')),\n",
    "    Bidirectional(LSTM(256, return_sequences=True, name='Bi-LSTM-2')),\n",
    "    Bidirectional(LSTM(128, name='Bi-LSTM-3')),\n",
    "    Dropout(0.5),\n",
    "    Dense(512, activation='relu', name='fc-1'),\n",
    "    Dense(6, activation='softmax', name='out_layer')\n",
    "])"
   ]
  },
  {
   "cell_type": "code",
   "execution_count": 30,
   "id": "a0fcec4f",
   "metadata": {
    "execution": {
     "iopub.execute_input": "2023-01-24T08:42:48.423196Z",
     "iopub.status.busy": "2023-01-24T08:42:48.422900Z",
     "iopub.status.idle": "2023-01-24T08:42:48.431103Z",
     "shell.execute_reply": "2023-01-24T08:42:48.430262Z"
    },
    "papermill": {
     "duration": 0.022767,
     "end_time": "2023-01-24T08:42:48.433182",
     "exception": false,
     "start_time": "2023-01-24T08:42:48.410415",
     "status": "completed"
    },
    "tags": []
   },
   "outputs": [],
   "source": [
    "# # tensorboard = TensorBoard(log_dir = 'logs')\n",
    "checkpoint = ModelCheckpoint(\"model.h5\",monitor=\"val_accuracy\",save_best_only=True,mode=\"auto\",verbose=1)\n",
    "reduce_lr = ReduceLROnPlateau(monitor = 'val_accuracy', factor = 0.3, patience = 2, min_delta = 0.001, mode='auto',verbose=1)\n",
    "class callbackTarget(Callback):\n",
    "  def on_epoch_end(self, epoch, logs={}):\n",
    "    if(logs.get('val_accuracy') >= 0.92 and logs.get('accuracy') >= 0.92):\n",
    "      print('\\nVal_accuracy and accuracy has reached >= 92%!')\n",
    "      self.model.stop_training = True\n",
    "\n",
    "target = callbackTarget()"
   ]
  },
  {
   "cell_type": "code",
   "execution_count": 31,
   "id": "6754d214",
   "metadata": {
    "execution": {
     "iopub.execute_input": "2023-01-24T08:42:48.457747Z",
     "iopub.status.busy": "2023-01-24T08:42:48.456849Z",
     "iopub.status.idle": "2023-01-24T08:42:48.464042Z",
     "shell.execute_reply": "2023-01-24T08:42:48.463014Z"
    },
    "papermill": {
     "duration": 0.022892,
     "end_time": "2023-01-24T08:42:48.467440",
     "exception": false,
     "start_time": "2023-01-24T08:42:48.444548",
     "status": "completed"
    },
    "tags": []
   },
   "outputs": [
    {
     "name": "stdout",
     "output_type": "stream",
     "text": [
      "Model: \"sequential\"\n",
      "_________________________________________________________________\n",
      "Layer (type)                 Output Shape              Param #   \n",
      "=================================================================\n",
      "in_layer (Embedding)         (None, 128, 128)          1723392   \n",
      "_________________________________________________________________\n",
      "batch_normalization (BatchNo (None, 128, 128)          512       \n",
      "_________________________________________________________________\n",
      "dropout (Dropout)            (None, 128, 128)          0         \n",
      "_________________________________________________________________\n",
      "bidirectional (Bidirectional (None, 128, 1024)         2625536   \n",
      "_________________________________________________________________\n",
      "bidirectional_1 (Bidirection (None, 128, 512)          2623488   \n",
      "_________________________________________________________________\n",
      "bidirectional_2 (Bidirection (None, 256)               656384    \n",
      "_________________________________________________________________\n",
      "dropout_1 (Dropout)          (None, 256)               0         \n",
      "_________________________________________________________________\n",
      "fc-1 (Dense)                 (None, 512)               131584    \n",
      "_________________________________________________________________\n",
      "out_layer (Dense)            (None, 6)                 3078      \n",
      "=================================================================\n",
      "Total params: 7,763,974\n",
      "Trainable params: 7,763,718\n",
      "Non-trainable params: 256\n",
      "_________________________________________________________________\n"
     ]
    }
   ],
   "source": [
    "model.summary()"
   ]
  },
  {
   "cell_type": "code",
   "execution_count": 32,
   "id": "bbffca47",
   "metadata": {
    "execution": {
     "iopub.execute_input": "2023-01-24T08:42:48.493057Z",
     "iopub.status.busy": "2023-01-24T08:42:48.492785Z",
     "iopub.status.idle": "2023-01-24T08:42:49.532971Z",
     "shell.execute_reply": "2023-01-24T08:42:49.531747Z"
    },
    "papermill": {
     "duration": 1.055605,
     "end_time": "2023-01-24T08:42:49.536040",
     "exception": false,
     "start_time": "2023-01-24T08:42:48.480435",
     "status": "completed"
    },
    "tags": []
   },
   "outputs": [
    {
     "data": {
      "image/png": "[encoded data removed]",
      "text/plain": [
       "<IPython.core.display.Image object>"
      ]
     },
     "execution_count": 32,
     "metadata": {},
     "output_type": "execute_result"
    }
   ],
   "source": [
    "tf.keras.utils.plot_model(model, to_file='model_plot.png', dpi=128, show_shapes=True, show_layer_names=True)"
   ]
  },
  {
   "cell_type": "code",
   "execution_count": 33,
   "id": "d11878a4",
   "metadata": {
    "execution": {
     "iopub.execute_input": "2023-01-24T08:42:49.565154Z",
     "iopub.status.busy": "2023-01-24T08:42:49.564811Z",
     "iopub.status.idle": "2023-01-24T08:44:48.502050Z",
     "shell.execute_reply": "2023-01-24T08:44:48.500440Z"
    },
    "papermill": {
     "duration": 118.956,
     "end_time": "2023-01-24T08:44:48.506111",
     "exception": false,
     "start_time": "2023-01-24T08:42:49.550111",
     "status": "completed"
    },
    "tags": []
   },
   "outputs": [
    {
     "name": "stderr",
     "output_type": "stream",
     "text": [
      "2023-01-24 08:42:49.628784: I tensorflow/compiler/mlir/mlir_graph_optimization_pass.cc:185] None of the MLIR Optimization Passes are enabled (registered 2)\n"
     ]
    },
    {
     "name": "stdout",
     "output_type": "stream",
     "text": [
      "Epoch 1/200\n"
     ]
    },
    {
     "name": "stderr",
     "output_type": "stream",
     "text": [
      "2023-01-24 08:42:55.865723: I tensorflow/stream_executor/cuda/cuda_dnn.cc:369] Loaded cuDNN version 8005\n"
     ]
    },
    {
     "name": "stdout",
     "output_type": "stream",
     "text": [
      "125/125 [==============================] - 31s 189ms/step - loss: 1.1703 - accuracy: 0.5443 - val_loss: 1.2373 - val_accuracy: 0.6065\n",
      "\n",
      "Epoch 00001: val_accuracy improved from -inf to 0.60650, saving model to model.h5\n",
      "Epoch 2/200\n",
      "125/125 [==============================] - 22s 173ms/step - loss: 0.2725 - accuracy: 0.9054 - val_loss: 1.1440 - val_accuracy: 0.4995\n",
      "\n",
      "Epoch 00002: val_accuracy did not improve from 0.60650\n",
      "Epoch 3/200\n",
      "125/125 [==============================] - 22s 173ms/step - loss: 0.1513 - accuracy: 0.9392 - val_loss: 0.3850 - val_accuracy: 0.8805\n",
      "\n",
      "Epoch 00003: val_accuracy improved from 0.60650 to 0.88050, saving model to model.h5\n",
      "Epoch 4/200\n",
      "125/125 [==============================] - 22s 173ms/step - loss: 0.1152 - accuracy: 0.9526 - val_loss: 0.1959 - val_accuracy: 0.9195\n",
      "\n",
      "Epoch 00004: val_accuracy improved from 0.88050 to 0.91950, saving model to model.h5\n",
      "Epoch 5/200\n",
      "125/125 [==============================] - 22s 173ms/step - loss: 0.0793 - accuracy: 0.9662 - val_loss: 0.1771 - val_accuracy: 0.9330\n",
      "\n",
      "Epoch 00005: val_accuracy improved from 0.91950 to 0.93300, saving model to model.h5\n",
      "\n",
      "Val_accuracy and accuracy has reached >= 92%!\n"
     ]
    }
   ],
   "source": [
    "# Adam(learning_rate=0.0001)\n",
    "model.compile(optimizer='Adam',\n",
    "              loss='categorical_crossentropy',\n",
    "              metrics=['accuracy'])\n",
    "history = model.fit(X_train, OHE_y_train,\n",
    "                    epochs=200, \n",
    "                    verbose=1,\n",
    "                    validation_data=(X_test, OHE_y_test),\n",
    "                    callbacks = [checkpoint, reduce_lr, target],\n",
    "                    batch_size=128)"
   ]
  },
  {
   "cell_type": "markdown",
   "id": "bbd19930",
   "metadata": {
    "papermill": {
     "duration": 0.078561,
     "end_time": "2023-01-24T08:44:48.658130",
     "exception": false,
     "start_time": "2023-01-24T08:44:48.579569",
     "status": "completed"
    },
    "tags": []
   },
   "source": [
    "# Evaluation"
   ]
  },
  {
   "cell_type": "code",
   "execution_count": 34,
   "id": "b1085453",
   "metadata": {
    "execution": {
     "iopub.execute_input": "2023-01-24T08:44:48.756164Z",
     "iopub.status.busy": "2023-01-24T08:44:48.755815Z",
     "iopub.status.idle": "2023-01-24T08:45:17.378605Z",
     "shell.execute_reply": "2023-01-24T08:45:17.377659Z"
    },
    "papermill": {
     "duration": 28.672705,
     "end_time": "2023-01-24T08:45:17.380823",
     "exception": false,
     "start_time": "2023-01-24T08:44:48.708118",
     "status": "completed"
    },
    "tags": []
   },
   "outputs": [
    {
     "data": {
      "image/png": "[encoded data removed]",
      "text/plain": [
       "<Figure size 432x288 with 1 Axes>"
      ]
     },
     "metadata": {
      "needs_background": "light"
     },
     "output_type": "display_data"
    },
    {
     "data": {
      "image/png": "[encoded data removed]",
      "text/plain": [
       "<Figure size 432x288 with 1 Axes>"
      ]
     },
     "metadata": {
      "needs_background": "light"
     },
     "output_type": "display_data"
    }
   ],
   "source": [
    "plt.plot(history.history['loss'])\n",
    "plt.plot(history.history['val_loss'])\n",
    "plt.title('Model Loss')\n",
    "plt.ylabel('Loss')\n",
    "plt.xlabel('Epochs')\n",
    "plt.legend(['train', 'test'], loc = 'upper right')\n",
    "plt.show()\n",
    "\n",
    "plt.plot(history.history['accuracy'])\n",
    "plt.plot(history.history['val_accuracy'])\n",
    "plt.title('Model Accuracy')\n",
    "plt.ylabel('Accuracy')\n",
    "plt.xlabel('Epoch')\n",
    "plt.legend(['train', 'test'], loc='lower right')\n",
    "plt.show()"
   ]
  },
  {
   "cell_type": "code",
   "execution_count": 35,
   "id": "39355528",
   "metadata": {
    "execution": {
     "iopub.execute_input": "2023-01-24T08:45:17.474829Z",
     "iopub.status.busy": "2023-01-24T08:45:17.474498Z",
     "iopub.status.idle": "2023-01-24T08:45:17.478192Z",
     "shell.execute_reply": "2023-01-24T08:45:17.477281Z"
    },
    "papermill": {
     "duration": 0.053105,
     "end_time": "2023-01-24T08:45:17.480407",
     "exception": false,
     "start_time": "2023-01-24T08:45:17.427302",
     "status": "completed"
    },
    "tags": []
   },
   "outputs": [],
   "source": [
    "# model.evaluate(X_val, OHE_y_val)"
   ]
  },
  {
   "cell_type": "code",
   "execution_count": 36,
   "id": "c82eedc9",
   "metadata": {
    "execution": {
     "iopub.execute_input": "2023-01-24T08:45:17.572469Z",
     "iopub.status.busy": "2023-01-24T08:45:17.572192Z",
     "iopub.status.idle": "2023-01-24T08:45:21.890679Z",
     "shell.execute_reply": "2023-01-24T08:45:21.889462Z"
    },
    "papermill": {
     "duration": 4.367387,
     "end_time": "2023-01-24T08:45:21.893130",
     "exception": false,
     "start_time": "2023-01-24T08:45:17.525743",
     "status": "completed"
    },
    "tags": []
   },
   "outputs": [],
   "source": [
    "# Model Evaluate with test df\n",
    "predict = model.predict(X_val)\n",
    "predict_class = np.argmax(predict, axis=1)\n",
    "predict_class = np.array(predict_class)"
   ]
  },
  {
   "cell_type": "code",
   "execution_count": 37,
   "id": "f0655714",
   "metadata": {
    "execution": {
     "iopub.execute_input": "2023-01-24T08:45:21.989295Z",
     "iopub.status.busy": "2023-01-24T08:45:21.988957Z",
     "iopub.status.idle": "2023-01-24T08:45:22.004209Z",
     "shell.execute_reply": "2023-01-24T08:45:22.002882Z"
    },
    "papermill": {
     "duration": 0.06909,
     "end_time": "2023-01-24T08:45:22.010111",
     "exception": false,
     "start_time": "2023-01-24T08:45:21.941021",
     "status": "completed"
    },
    "tags": []
   },
   "outputs": [
    {
     "name": "stdout",
     "output_type": "stream",
     "text": [
      "              precision    recall  f1-score   support\n",
      "\n",
      "       anger       0.95      0.95      0.95       704\n",
      "        fear       0.98      0.96      0.97       550\n",
      "         joy       0.91      0.96      0.93       275\n",
      "        love       0.86      0.90      0.88       212\n",
      "     sadness       0.87      0.87      0.87       178\n",
      "    surprise       0.86      0.79      0.83        81\n",
      "\n",
      "    accuracy                           0.93      2000\n",
      "   macro avg       0.91      0.90      0.90      2000\n",
      "weighted avg       0.93      0.93      0.93      2000\n",
      "\n"
     ]
    }
   ],
   "source": [
    "from sklearn.metrics import classification_report\n",
    "print(classification_report(val_df[\"enc_labels\"], predict_class, target_names =[\"anger\", \"fear\", \"joy\", \"love\", \"sadness\", \"surprise\"]))"
   ]
  },
  {
   "cell_type": "code",
   "execution_count": 38,
   "id": "fc847dc8",
   "metadata": {
    "execution": {
     "iopub.execute_input": "2023-01-24T08:45:22.113094Z",
     "iopub.status.busy": "2023-01-24T08:45:22.112766Z",
     "iopub.status.idle": "2023-01-24T08:45:22.118888Z",
     "shell.execute_reply": "2023-01-24T08:45:22.117896Z"
    },
    "papermill": {
     "duration": 0.057972,
     "end_time": "2023-01-24T08:45:22.121976",
     "exception": false,
     "start_time": "2023-01-24T08:45:22.064004",
     "status": "completed"
    },
    "tags": []
   },
   "outputs": [
    {
     "name": "stdout",
     "output_type": "stream",
     "text": [
      "['joy', 'sadness', 'anger', 'fear', 'love', 'surprise']\n"
     ]
    }
   ],
   "source": [
    "print(labels)\n",
    "def get_key(value):\n",
    "    dictionary={\n",
    "        \"joy\":0,\n",
    "        \"sadness\":1,\n",
    "        \"anger\":2,\n",
    "        \"fear\":3,\n",
    "        \"love\":4,\n",
    "        \"surprise\":5\n",
    "    }\n",
    "    for key,val in dictionary.items():\n",
    "          if (val==value):\n",
    "            return key"
   ]
  },
  {
   "cell_type": "code",
   "execution_count": 39,
   "id": "5776fec7",
   "metadata": {
    "execution": {
     "iopub.execute_input": "2023-01-24T08:45:22.218872Z",
     "iopub.status.busy": "2023-01-24T08:45:22.218008Z",
     "iopub.status.idle": "2023-01-24T08:45:22.224042Z",
     "shell.execute_reply": "2023-01-24T08:45:22.223171Z"
    },
    "papermill": {
     "duration": 0.055657,
     "end_time": "2023-01-24T08:45:22.226009",
     "exception": false,
     "start_time": "2023-01-24T08:45:22.170352",
     "status": "completed"
    },
    "tags": []
   },
   "outputs": [],
   "source": [
    "def predict_test(sentence):\n",
    "  sentence_lst=[]\n",
    "  sentence_lst.append(sentence)\n",
    "  sentence_seq=tokenizer.texts_to_sequences(sentence_lst)\n",
    "  sentence_padded=pad_sequences(sentence_seq,maxlen=300,padding='post')\n",
    "  ans=get_key(np.argmax(model.predict(sentence_padded), axis=1))\n",
    "  print(\"The emotion predicted is\",ans)"
   ]
  },
  {
   "cell_type": "code",
   "execution_count": 40,
   "id": "04f59ae4",
   "metadata": {
    "execution": {
     "iopub.execute_input": "2023-01-24T08:45:22.319194Z",
     "iopub.status.busy": "2023-01-24T08:45:22.318920Z",
     "iopub.status.idle": "2023-01-24T08:45:24.232441Z",
     "shell.execute_reply": "2023-01-24T08:45:24.230759Z"
    },
    "papermill": {
     "duration": 1.962482,
     "end_time": "2023-01-24T08:45:24.234761",
     "exception": false,
     "start_time": "2023-01-24T08:45:22.272279",
     "status": "completed"
    },
    "tags": []
   },
   "outputs": [
    {
     "name": "stdout",
     "output_type": "stream",
     "text": [
      "The emotion predicted is love\n",
      "The emotion predicted is love\n",
      "The emotion predicted is anger\n",
      "The emotion predicted is joy\n",
      "The emotion predicted is sadness\n",
      "The emotion predicted is fear\n"
     ]
    }
   ],
   "source": [
    "# predict(str(input('Enter a sentence : ')))\n",
    "test_love = \"i feel like a faithful servant\"\n",
    "test_anger = \"i am just feeling cranky and blue\"\n",
    "test_joy = \"i feel less keen about the army every day\"\n",
    "test_sadness = \"i feel dirty and ashamed for saying that\"\n",
    "test_fear = \" i spent a lot of time feeling overwhelmed with the amount of information he provided while reading the textbook\"\n",
    "test_love_2 = \"i sincerely feel will benefit any relationship whether it is romantic family work or socially oriented\"\n",
    "\n",
    "\n",
    "predict_test(test_love)\n",
    "predict_test(test_love_2)\n",
    "predict_test(test_anger)\n",
    "predict_test(test_joy)\n",
    "predict_test(test_sadness)\n",
    "predict_test(test_fear)"
   ]
  },
  {
   "cell_type": "code",
   "execution_count": 41,
   "id": "e4b0f920",
   "metadata": {
    "execution": {
     "iopub.execute_input": "2023-01-24T08:45:24.328823Z",
     "iopub.status.busy": "2023-01-24T08:45:24.327938Z",
     "iopub.status.idle": "2023-01-24T08:45:24.332825Z",
     "shell.execute_reply": "2023-01-24T08:45:24.331898Z"
    },
    "papermill": {
     "duration": 0.053648,
     "end_time": "2023-01-24T08:45:24.334746",
     "exception": false,
     "start_time": "2023-01-24T08:45:24.281098",
     "status": "completed"
    },
    "tags": []
   },
   "outputs": [],
   "source": [
    "pd.options.display.max_colwidth = 300"
   ]
  },
  {
   "cell_type": "code",
   "execution_count": 42,
   "id": "a0b8c1c0",
   "metadata": {
    "execution": {
     "iopub.execute_input": "2023-01-24T08:45:24.427452Z",
     "iopub.status.busy": "2023-01-24T08:45:24.427165Z",
     "iopub.status.idle": "2023-01-24T08:45:24.435371Z",
     "shell.execute_reply": "2023-01-24T08:45:24.434350Z"
    },
    "papermill": {
     "duration": 0.05784,
     "end_time": "2023-01-24T08:45:24.438434",
     "exception": false,
     "start_time": "2023-01-24T08:45:24.380594",
     "status": "completed"
    },
    "tags": []
   },
   "outputs": [
    {
     "name": "stdout",
     "output_type": "stream",
     "text": [
      "2                                                                                                                                                                                                     i feel like a faithful servant\n",
      "18      i also loved that you could really feel the desperation in these sequences and i especially liked the emotion between knight and squire as theyve been together in a similar fashion to batman and robin for a long time now\n",
      "30                                                                                                             i feel like im caring about my body not in just an attempt to be the right size but to feel good and have a full life\n",
      "40                                                                    i sit the chicken preferably bone in chicken thighs skinless because i feel they have the most flavor in a crock pot so that it becomes tender and falls apart\n",
      "48                                           i see the starlight caress your hair no more feel the tender kisses we used to share i close my eyes and clearly my heart remembers a thousand good byes could never put out the embers\n",
      "                                                                                                                    ...                                                                                                             \n",
      "1955                                                                                                                          i sincerely feel will benefit any relationship whether it is romantic family work or socially oriented\n",
      "1956                                                                                                                                                            i like the feel of the game but im not very fond of the color scheme\n",
      "1972                                                                                                                                                                im feeling a little tender and mashed today and im doing my best\n",
      "1978                                                                                                                                                                     i can feel all supportive and jrock ish in school tommorrow\n",
      "1988                                                                                                                                                   i feel like i got to know her a bit and what i did get to know i really liked\n",
      "Name: text, Length: 178, dtype: object\n"
     ]
    }
   ],
   "source": [
    "print(val_df['text'][val_df['labels']=='love'])"
   ]
  }
 ],
 "metadata": {
  "kernelspec": {
   "display_name": "Python 3",
   "language": "python",
   "name": "python3"
  },
  "language_info": {
   "codemirror_mode": {
    "name": "ipython",
    "version": 3
   },
   "file_extension": ".py",
   "mimetype": "text/x-python",
   "name": "python",
   "nbconvert_exporter": "python",
   "pygments_lexer": "ipython3",
   "version": "3.7.12"
  },
  "papermill": {
   "default_parameters": {},
   "duration": 204.29643,
   "end_time": "2023-01-24T08:45:27.829695",
   "environment_variables": {},
   "exception": null,
   "input_path": "__notebook__.ipynb",
   "output_path": "__notebook__.ipynb",
   "parameters": {},
   "start_time": "2023-01-24T08:42:03.533265",
   "version": "2.3.4"
  }
 },
 "nbformat": 4,
 "nbformat_minor": 5
}
