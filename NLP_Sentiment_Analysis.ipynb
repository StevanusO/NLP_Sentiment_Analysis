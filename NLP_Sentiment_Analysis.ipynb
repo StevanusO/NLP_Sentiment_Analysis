{
 "cells": [
  {
   "cell_type": "code",
   "execution_count": 1,
   "id": "a5ad3546",
   "metadata": {
    "_cell_guid": "b1076dfc-b9ad-4769-8c92-a6c4dae69d19",
    "_uuid": "8f2839f25d086af736a60e9eeb907d3b93b6e0e5",
    "execution": {
     "iopub.execute_input": "2023-01-24T17:26:34.382667Z",
     "iopub.status.busy": "2023-01-24T17:26:34.381621Z",
     "iopub.status.idle": "2023-01-24T17:26:44.807381Z",
     "shell.execute_reply": "2023-01-24T17:26:44.806008Z"
    },
    "papermill": {
     "duration": 10.439955,
     "end_time": "2023-01-24T17:26:44.809779",
     "exception": false,
     "start_time": "2023-01-24T17:26:34.369824",
     "status": "completed"
    },
    "tags": []
   },
   "outputs": [
    {
     "name": "stdout",
     "output_type": "stream",
     "text": [
      "Requirement already satisfied: textblob in /opt/conda/lib/python3.7/site-packages (0.17.1)\r\n",
      "Requirement already satisfied: nltk>=3.1 in /opt/conda/lib/python3.7/site-packages (from textblob) (3.7)\r\n",
      "Requirement already satisfied: joblib in /opt/conda/lib/python3.7/site-packages (from nltk>=3.1->textblob) (1.0.1)\r\n",
      "Requirement already satisfied: regex>=2021.8.3 in /opt/conda/lib/python3.7/site-packages (from nltk>=3.1->textblob) (2021.11.10)\r\n",
      "Requirement already satisfied: click in /opt/conda/lib/python3.7/site-packages (from nltk>=3.1->textblob) (8.0.4)\r\n",
      "Requirement already satisfied: tqdm in /opt/conda/lib/python3.7/site-packages (from nltk>=3.1->textblob) (4.64.0)\r\n",
      "Requirement already satisfied: importlib-metadata in /opt/conda/lib/python3.7/site-packages (from click->nltk>=3.1->textblob) (4.13.0)\r\n",
      "Requirement already satisfied: typing-extensions>=3.6.4 in /opt/conda/lib/python3.7/site-packages (from importlib-metadata->click->nltk>=3.1->textblob) (4.1.1)\r\n",
      "Requirement already satisfied: zipp>=0.5 in /opt/conda/lib/python3.7/site-packages (from importlib-metadata->click->nltk>=3.1->textblob) (3.8.0)\r\n",
      "\u001b[33mWARNING: Running pip as the 'root' user can result in broken permissions and conflicting behaviour with the system package manager. It is recommended to use a virtual environment instead: https://pip.pypa.io/warnings/venv\u001b[0m\u001b[33m\r\n",
      "\u001b[0mNote: you may need to restart the kernel to use updated packages.\n",
      "/kaggle/input/emotions-dataset-for-nlp/val.txt\n",
      "/kaggle/input/emotions-dataset-for-nlp/test.txt\n",
      "/kaggle/input/emotions-dataset-for-nlp/train.txt\n"
     ]
    }
   ],
   "source": [
    "# This Python 3 environment comes with many helpful analytics libraries installed\n",
    "# It is defined by the kaggle/python Docker image: https://github.com/kaggle/docker-python\n",
    "# For example, here's several helpful packages to load\n",
    "%pip install textblob\n",
    "import numpy as np # linear algebra\n",
    "import pandas as pd # data processing, CSV file I/O (e.g. pd.read_csv)\n",
    "\n",
    "# Input data files are available in the read-only \"../input/\" directory\n",
    "# For example, running this (by clicking run or pressing Shift+Enter) will list all files under the input directory\n",
    "\n",
    "import os\n",
    "for dirname, _, filenames in os.walk('/kaggle/input'):\n",
    "    for filename in filenames:\n",
    "        print(os.path.join(dirname, filename))\n",
    "\n",
    "# You can write up to 20GB to the current directory (/kaggle/working/) that gets preserved as output when you create a version using \"Save & Run All\" \n",
    "# You can also write temporary files to /kaggle/temp/, but they won't be saved outside of the current session"
   ]
  },
  {
   "cell_type": "code",
   "execution_count": 2,
   "id": "2f09dc77",
   "metadata": {
    "execution": {
     "iopub.execute_input": "2023-01-24T17:26:44.830087Z",
     "iopub.status.busy": "2023-01-24T17:26:44.829758Z",
     "iopub.status.idle": "2023-01-24T17:26:46.748040Z",
     "shell.execute_reply": "2023-01-24T17:26:46.746738Z"
    },
    "papermill": {
     "duration": 1.931376,
     "end_time": "2023-01-24T17:26:46.750801",
     "exception": false,
     "start_time": "2023-01-24T17:26:44.819425",
     "status": "completed"
    },
    "tags": []
   },
   "outputs": [],
   "source": [
    "!rm -rf ./logs/ \n",
    "!mkdir ./logs/"
   ]
  },
  {
   "cell_type": "markdown",
   "id": "dce5d13f",
   "metadata": {
    "papermill": {
     "duration": 0.009849,
     "end_time": "2023-01-24T17:26:46.771756",
     "exception": false,
     "start_time": "2023-01-24T17:26:46.761907",
     "status": "completed"
    },
    "tags": []
   },
   "source": [
    "# Ignore Error"
   ]
  },
  {
   "cell_type": "code",
   "execution_count": 3,
   "id": "6a41b56e",
   "metadata": {
    "execution": {
     "iopub.execute_input": "2023-01-24T17:26:46.791603Z",
     "iopub.status.busy": "2023-01-24T17:26:46.791270Z",
     "iopub.status.idle": "2023-01-24T17:26:46.805533Z",
     "shell.execute_reply": "2023-01-24T17:26:46.804676Z"
    },
    "papermill": {
     "duration": 0.026636,
     "end_time": "2023-01-24T17:26:46.807593",
     "exception": false,
     "start_time": "2023-01-24T17:26:46.780957",
     "status": "completed"
    },
    "tags": []
   },
   "outputs": [],
   "source": [
    "import warnings\n",
    "warnings.filterwarnings('ignore')\n",
    "%config Completer.use_jedi = False # if autocompletion doesnot work in kaggle notebook "
   ]
  },
  {
   "cell_type": "markdown",
   "id": "f49a3e47",
   "metadata": {
    "papermill": {
     "duration": 0.008906,
     "end_time": "2023-01-24T17:26:46.825567",
     "exception": false,
     "start_time": "2023-01-24T17:26:46.816661",
     "status": "completed"
    },
    "tags": []
   },
   "source": [
    "# Import Library"
   ]
  },
  {
   "cell_type": "code",
   "execution_count": 4,
   "id": "7c883fc8",
   "metadata": {
    "execution": {
     "iopub.execute_input": "2023-01-24T17:26:46.845051Z",
     "iopub.status.busy": "2023-01-24T17:26:46.844746Z",
     "iopub.status.idle": "2023-01-24T17:26:54.022992Z",
     "shell.execute_reply": "2023-01-24T17:26:54.021795Z"
    },
    "papermill": {
     "duration": 7.191532,
     "end_time": "2023-01-24T17:26:54.026227",
     "exception": false,
     "start_time": "2023-01-24T17:26:46.834695",
     "status": "completed"
    },
    "tags": []
   },
   "outputs": [
    {
     "name": "stderr",
     "output_type": "stream",
     "text": [
      "[nltk_data] Downloading package wordnet to /usr/share/nltk_data...\n",
      "[nltk_data]   Package wordnet is already up-to-date!\n",
      "[nltk_data] Downloading package punkt to /usr/share/nltk_data...\n",
      "[nltk_data]   Package punkt is already up-to-date!\n",
      "[nltk_data] Downloading package stopwords to /usr/share/nltk_data...\n",
      "[nltk_data]   Package stopwords is already up-to-date!\n",
      "[nltk_data] Downloading package omw-1.4 to /usr/share/nltk_data...\n"
     ]
    }
   ],
   "source": [
    "import pandas as pd\n",
    "import matplotlib.pyplot as plt\n",
    "import seaborn as sns\n",
    "\n",
    "# import and download library for text processing\n",
    "import re\n",
    "import nltk\n",
    "from nltk.corpus import stopwords\n",
    "from nltk.tokenize import word_tokenize\n",
    "from nltk.stem import WordNetLemmatizer\n",
    "\n",
    "nltk.download('wordnet')\n",
    "nltk.download('punkt')\n",
    "nltk.download('stopwords')\n",
    "nltk.download('omw-1.4')\n",
    "\n",
    "lemmatizer = WordNetLemmatizer()\n",
    "stopwords = stopwords.words('english')\n",
    "\n",
    "from tensorflow.keras.preprocessing.text import Tokenizer\n",
    "from tensorflow.keras.preprocessing.sequence import pad_sequences\n",
    "from tensorflow.keras.utils import to_categorical\n",
    "import tensorflow as tf\n",
    "import random\n",
    "seed = 101\n",
    "random.seed(seed)\n",
    "np.random.seed(seed)\n",
    "tf.random.set_seed(seed)"
   ]
  },
  {
   "cell_type": "code",
   "execution_count": 5,
   "id": "39d413fa",
   "metadata": {
    "execution": {
     "iopub.execute_input": "2023-01-24T17:26:54.050013Z",
     "iopub.status.busy": "2023-01-24T17:26:54.049328Z",
     "iopub.status.idle": "2023-01-24T17:26:54.054833Z",
     "shell.execute_reply": "2023-01-24T17:26:54.053691Z"
    },
    "papermill": {
     "duration": 0.019385,
     "end_time": "2023-01-24T17:26:54.057187",
     "exception": false,
     "start_time": "2023-01-24T17:26:54.037802",
     "status": "completed"
    },
    "tags": []
   },
   "outputs": [],
   "source": [
    "path = '/kaggle/input/emotions-dataset-for-nlp/'\n",
    "train_path = path+'train.txt'\n",
    "test_path = path+'test.txt'\n",
    "val_path = path+'val.txt'"
   ]
  },
  {
   "cell_type": "code",
   "execution_count": 6,
   "id": "e37d2810",
   "metadata": {
    "execution": {
     "iopub.execute_input": "2023-01-24T17:26:54.078716Z",
     "iopub.status.busy": "2023-01-24T17:26:54.078415Z",
     "iopub.status.idle": "2023-01-24T17:26:54.158297Z",
     "shell.execute_reply": "2023-01-24T17:26:54.157300Z"
    },
    "papermill": {
     "duration": 0.093106,
     "end_time": "2023-01-24T17:26:54.160524",
     "exception": false,
     "start_time": "2023-01-24T17:26:54.067418",
     "status": "completed"
    },
    "tags": []
   },
   "outputs": [],
   "source": [
    "train_df = pd.read_csv(train_path, sep=';', names=['text', 'labels'])\n",
    "test_df = pd.read_csv(test_path, sep=';', names=['text', 'labels'])\n",
    "val_df = pd.read_csv(val_path, sep=';', names=['text', 'labels'])\n",
    "full_df = pd.concat([train_df, test_df, val_df], axis=0)"
   ]
  },
  {
   "cell_type": "code",
   "execution_count": 7,
   "id": "9c67347c",
   "metadata": {
    "execution": {
     "iopub.execute_input": "2023-01-24T17:26:54.182002Z",
     "iopub.status.busy": "2023-01-24T17:26:54.181700Z",
     "iopub.status.idle": "2023-01-24T17:26:54.187590Z",
     "shell.execute_reply": "2023-01-24T17:26:54.186502Z"
    },
    "papermill": {
     "duration": 0.020317,
     "end_time": "2023-01-24T17:26:54.191132",
     "exception": false,
     "start_time": "2023-01-24T17:26:54.170815",
     "status": "completed"
    },
    "tags": []
   },
   "outputs": [
    {
     "name": "stdout",
     "output_type": "stream",
     "text": [
      "Train text size 16000\n",
      "Test text size 2000\n",
      "Val text size 2000\n",
      "\n",
      "Total samples 20000\n"
     ]
    }
   ],
   "source": [
    "print(\"Train text size\", train_df.shape[0])\n",
    "print(\"Test text size\", test_df.shape[0])\n",
    "print(\"Val text size\", val_df.shape[0])\n",
    "print(\"\\nTotal samples\", (train_df.shape[0]+test_df.shape[0]+val_df.shape[0]))"
   ]
  },
  {
   "cell_type": "markdown",
   "id": "1dfa9a52",
   "metadata": {
    "papermill": {
     "duration": 0.009509,
     "end_time": "2023-01-24T17:26:54.210319",
     "exception": false,
     "start_time": "2023-01-24T17:26:54.200810",
     "status": "completed"
    },
    "tags": []
   },
   "source": [
    "# Explanatory Data Analysis"
   ]
  },
  {
   "cell_type": "code",
   "execution_count": 8,
   "id": "491ad0d3",
   "metadata": {
    "execution": {
     "iopub.execute_input": "2023-01-24T17:26:54.230859Z",
     "iopub.status.busy": "2023-01-24T17:26:54.230578Z",
     "iopub.status.idle": "2023-01-24T17:26:54.236898Z",
     "shell.execute_reply": "2023-01-24T17:26:54.235949Z"
    },
    "papermill": {
     "duration": 0.019011,
     "end_time": "2023-01-24T17:26:54.239028",
     "exception": false,
     "start_time": "2023-01-24T17:26:54.220017",
     "status": "completed"
    },
    "tags": []
   },
   "outputs": [],
   "source": [
    "def describe_data(data_type,data,label):\n",
    "    print(data_type,\" DESCRIPTION\")\n",
    "    print(\"--------------------------\")\n",
    "    size=data.shape\n",
    "    null_values=data.isnull().sum().sum()\n",
    "    \n",
    "    \n",
    "    print(data_type,\" shape:\",size,\"\\n\")\n",
    "    print(data_type,\" contains:\",null_values,\" null values\\n\")\n",
    "    print(\"Label counts:\")  \n",
    "    print(data[label].value_counts())\n",
    "    print()\n",
    "    \n",
    "    print(\"*****\",data_type,\" label count plot ****\")\n",
    "    sns.countplot(\n",
    "        data=data,\n",
    "        x=label\n",
    "    )"
   ]
  },
  {
   "cell_type": "code",
   "execution_count": 9,
   "id": "e097682c",
   "metadata": {
    "execution": {
     "iopub.execute_input": "2023-01-24T17:26:54.260296Z",
     "iopub.status.busy": "2023-01-24T17:26:54.259512Z",
     "iopub.status.idle": "2023-01-24T17:26:54.503746Z",
     "shell.execute_reply": "2023-01-24T17:26:54.503106Z"
    },
    "papermill": {
     "duration": 0.256816,
     "end_time": "2023-01-24T17:26:54.505613",
     "exception": false,
     "start_time": "2023-01-24T17:26:54.248797",
     "status": "completed"
    },
    "tags": []
   },
   "outputs": [
    {
     "name": "stdout",
     "output_type": "stream",
     "text": [
      "Training Data  DESCRIPTION\n",
      "--------------------------\n",
      "Training Data  shape: (16000, 2) \n",
      "\n",
      "Training Data  contains: 0  null values\n",
      "\n",
      "Label counts:\n",
      "joy         5362\n",
      "sadness     4666\n",
      "anger       2159\n",
      "fear        1937\n",
      "love        1304\n",
      "surprise     572\n",
      "Name: labels, dtype: int64\n",
      "\n",
      "***** Training Data  label count plot ****\n"
     ]
    },
    {
     "data": {
      "image/png": "[encoded data removed]",
      "text/plain": [
       "<Figure size 432x288 with 1 Axes>"
      ]
     },
     "metadata": {
      "needs_background": "light"
     },
     "output_type": "display_data"
    }
   ],
   "source": [
    "describe_data('Training Data', train_df, 'labels')"
   ]
  },
  {
   "cell_type": "code",
   "execution_count": 10,
   "id": "5652f733",
   "metadata": {
    "execution": {
     "iopub.execute_input": "2023-01-24T17:26:54.526079Z",
     "iopub.status.busy": "2023-01-24T17:26:54.525793Z",
     "iopub.status.idle": "2023-01-24T17:26:54.727754Z",
     "shell.execute_reply": "2023-01-24T17:26:54.726848Z"
    },
    "papermill": {
     "duration": 0.214596,
     "end_time": "2023-01-24T17:26:54.729853",
     "exception": false,
     "start_time": "2023-01-24T17:26:54.515257",
     "status": "completed"
    },
    "tags": []
   },
   "outputs": [
    {
     "name": "stdout",
     "output_type": "stream",
     "text": [
      "Test Data  DESCRIPTION\n",
      "--------------------------\n",
      "Test Data  shape: (2000, 2) \n",
      "\n",
      "Test Data  contains: 0  null values\n",
      "\n",
      "Label counts:\n",
      "joy         695\n",
      "sadness     581\n",
      "anger       275\n",
      "fear        224\n",
      "love        159\n",
      "surprise     66\n",
      "Name: labels, dtype: int64\n",
      "\n",
      "***** Test Data  label count plot ****\n"
     ]
    },
    {
     "data": {
      "image/png": "[encoded data removed]",
      "text/plain": [
       "<Figure size 432x288 with 1 Axes>"
      ]
     },
     "metadata": {
      "needs_background": "light"
     },
     "output_type": "display_data"
    }
   ],
   "source": [
    "describe_data('Test Data', test_df, 'labels')"
   ]
  },
  {
   "cell_type": "code",
   "execution_count": 11,
   "id": "810a28a4",
   "metadata": {
    "execution": {
     "iopub.execute_input": "2023-01-24T17:26:54.751684Z",
     "iopub.status.busy": "2023-01-24T17:26:54.750748Z",
     "iopub.status.idle": "2023-01-24T17:26:54.968918Z",
     "shell.execute_reply": "2023-01-24T17:26:54.967876Z"
    },
    "papermill": {
     "duration": 0.231154,
     "end_time": "2023-01-24T17:26:54.971043",
     "exception": false,
     "start_time": "2023-01-24T17:26:54.739889",
     "status": "completed"
    },
    "tags": []
   },
   "outputs": [
    {
     "name": "stdout",
     "output_type": "stream",
     "text": [
      "Val Data  DESCRIPTION\n",
      "--------------------------\n",
      "Val Data  shape: (2000, 2) \n",
      "\n",
      "Val Data  contains: 0  null values\n",
      "\n",
      "Label counts:\n",
      "joy         704\n",
      "sadness     550\n",
      "anger       275\n",
      "fear        212\n",
      "love        178\n",
      "surprise     81\n",
      "Name: labels, dtype: int64\n",
      "\n",
      "***** Val Data  label count plot ****\n"
     ]
    },
    {
     "data": {
      "image/png": "[encoded data removed]",
      "text/plain": [
       "<Figure size 432x288 with 1 Axes>"
      ]
     },
     "metadata": {
      "needs_background": "light"
     },
     "output_type": "display_data"
    }
   ],
   "source": [
    "describe_data('Val Data', val_df, 'labels')"
   ]
  },
  {
   "cell_type": "code",
   "execution_count": 12,
   "id": "88015a0c",
   "metadata": {
    "execution": {
     "iopub.execute_input": "2023-01-24T17:26:54.993762Z",
     "iopub.status.busy": "2023-01-24T17:26:54.992184Z",
     "iopub.status.idle": "2023-01-24T17:26:55.203585Z",
     "shell.execute_reply": "2023-01-24T17:26:55.202938Z"
    },
    "papermill": {
     "duration": 0.224109,
     "end_time": "2023-01-24T17:26:55.205401",
     "exception": false,
     "start_time": "2023-01-24T17:26:54.981292",
     "status": "completed"
    },
    "tags": []
   },
   "outputs": [
    {
     "name": "stdout",
     "output_type": "stream",
     "text": [
      "Full Data  DESCRIPTION\n",
      "--------------------------\n",
      "Full Data  shape: (20000, 2) \n",
      "\n",
      "Full Data  contains: 0  null values\n",
      "\n",
      "Label counts:\n",
      "joy         6761\n",
      "sadness     5797\n",
      "anger       2709\n",
      "fear        2373\n",
      "love        1641\n",
      "surprise     719\n",
      "Name: labels, dtype: int64\n",
      "\n",
      "***** Full Data  label count plot ****\n"
     ]
    },
    {
     "data": {
      "image/png": "[encoded data removed]",
      "text/plain": [
       "<Figure size 432x288 with 1 Axes>"
      ]
     },
     "metadata": {
      "needs_background": "light"
     },
     "output_type": "display_data"
    }
   ],
   "source": [
    "describe_data('Full Data', full_df, 'labels')"
   ]
  },
  {
   "cell_type": "code",
   "execution_count": 13,
   "id": "172b5747",
   "metadata": {
    "execution": {
     "iopub.execute_input": "2023-01-24T17:26:55.227561Z",
     "iopub.status.busy": "2023-01-24T17:26:55.226857Z",
     "iopub.status.idle": "2023-01-24T17:26:55.238417Z",
     "shell.execute_reply": "2023-01-24T17:26:55.237805Z"
    },
    "papermill": {
     "duration": 0.024406,
     "end_time": "2023-01-24T17:26:55.240224",
     "exception": false,
     "start_time": "2023-01-24T17:26:55.215818",
     "status": "completed"
    },
    "tags": []
   },
   "outputs": [],
   "source": [
    "train_df['Length'] = train_df.text.apply(lambda x:len(x))"
   ]
  },
  {
   "cell_type": "code",
   "execution_count": 14,
   "id": "00844197",
   "metadata": {
    "execution": {
     "iopub.execute_input": "2023-01-24T17:26:55.261731Z",
     "iopub.status.busy": "2023-01-24T17:26:55.261105Z",
     "iopub.status.idle": "2023-01-24T17:26:55.584364Z",
     "shell.execute_reply": "2023-01-24T17:26:55.583413Z"
    },
    "papermill": {
     "duration": 0.3365,
     "end_time": "2023-01-24T17:26:55.586787",
     "exception": false,
     "start_time": "2023-01-24T17:26:55.250287",
     "status": "completed"
    },
    "tags": []
   },
   "outputs": [
    {
     "data": {
      "image/png": "[encoded data removed]",
      "text/plain": [
       "<Figure size 720x432 with 1 Axes>"
      ]
     },
     "metadata": {
      "needs_background": "light"
     },
     "output_type": "display_data"
    }
   ],
   "source": [
    "fig=plt.figure(figsize=(10,6))\n",
    "\n",
    "sns.kdeplot(\n",
    "    x=train_df['Length'],\n",
    "    hue=train_df[\"labels\"]\n",
    ")\n",
    "plt.show()"
   ]
  },
  {
   "cell_type": "code",
   "execution_count": 15,
   "id": "4c20d08d",
   "metadata": {
    "execution": {
     "iopub.execute_input": "2023-01-24T17:26:55.610548Z",
     "iopub.status.busy": "2023-01-24T17:26:55.609682Z",
     "iopub.status.idle": "2023-01-24T17:26:55.615916Z",
     "shell.execute_reply": "2023-01-24T17:26:55.614865Z"
    },
    "papermill": {
     "duration": 0.020689,
     "end_time": "2023-01-24T17:26:55.618491",
     "exception": false,
     "start_time": "2023-01-24T17:26:55.597802",
     "status": "completed"
    },
    "tags": []
   },
   "outputs": [
    {
     "name": "stdout",
     "output_type": "stream",
     "text": [
      "300\n",
      "7\n"
     ]
    }
   ],
   "source": [
    "print(train_df.Length.max())\n",
    "print(train_df.Length.min())"
   ]
  },
  {
   "cell_type": "code",
   "execution_count": 16,
   "id": "85d3dad8",
   "metadata": {
    "execution": {
     "iopub.execute_input": "2023-01-24T17:26:55.641724Z",
     "iopub.status.busy": "2023-01-24T17:26:55.640818Z",
     "iopub.status.idle": "2023-01-24T17:26:55.658947Z",
     "shell.execute_reply": "2023-01-24T17:26:55.657916Z"
    },
    "papermill": {
     "duration": 0.03162,
     "end_time": "2023-01-24T17:26:55.660858",
     "exception": false,
     "start_time": "2023-01-24T17:26:55.629238",
     "status": "completed"
    },
    "tags": []
   },
   "outputs": [
    {
     "data": {
      "text/html": [
       "<div>\n",
       "<style scoped>\n",
       "    .dataframe tbody tr th:only-of-type {\n",
       "        vertical-align: middle;\n",
       "    }\n",
       "\n",
       "    .dataframe tbody tr th {\n",
       "        vertical-align: top;\n",
       "    }\n",
       "\n",
       "    .dataframe thead th {\n",
       "        text-align: right;\n",
       "    }\n",
       "</style>\n",
       "<table border=\"1\" class=\"dataframe\">\n",
       "  <thead>\n",
       "    <tr style=\"text-align: right;\">\n",
       "      <th></th>\n",
       "      <th>Length</th>\n",
       "    </tr>\n",
       "  </thead>\n",
       "  <tbody>\n",
       "    <tr>\n",
       "      <th>count</th>\n",
       "      <td>16000.000000</td>\n",
       "    </tr>\n",
       "    <tr>\n",
       "      <th>mean</th>\n",
       "      <td>96.845812</td>\n",
       "    </tr>\n",
       "    <tr>\n",
       "      <th>std</th>\n",
       "      <td>55.904953</td>\n",
       "    </tr>\n",
       "    <tr>\n",
       "      <th>min</th>\n",
       "      <td>7.000000</td>\n",
       "    </tr>\n",
       "    <tr>\n",
       "      <th>25%</th>\n",
       "      <td>53.000000</td>\n",
       "    </tr>\n",
       "    <tr>\n",
       "      <th>50%</th>\n",
       "      <td>86.000000</td>\n",
       "    </tr>\n",
       "    <tr>\n",
       "      <th>75%</th>\n",
       "      <td>129.000000</td>\n",
       "    </tr>\n",
       "    <tr>\n",
       "      <th>max</th>\n",
       "      <td>300.000000</td>\n",
       "    </tr>\n",
       "  </tbody>\n",
       "</table>\n",
       "</div>"
      ],
      "text/plain": [
       "             Length\n",
       "count  16000.000000\n",
       "mean      96.845812\n",
       "std       55.904953\n",
       "min        7.000000\n",
       "25%       53.000000\n",
       "50%       86.000000\n",
       "75%      129.000000\n",
       "max      300.000000"
      ]
     },
     "execution_count": 16,
     "metadata": {},
     "output_type": "execute_result"
    }
   ],
   "source": [
    "train_df[['Length']].describe()"
   ]
  },
  {
   "cell_type": "markdown",
   "id": "6a5c886d",
   "metadata": {
    "papermill": {
     "duration": 0.010734,
     "end_time": "2023-01-24T17:26:55.682514",
     "exception": false,
     "start_time": "2023-01-24T17:26:55.671780",
     "status": "completed"
    },
    "tags": []
   },
   "source": [
    "# Data Preparation"
   ]
  },
  {
   "cell_type": "code",
   "execution_count": 17,
   "id": "d45e2b96",
   "metadata": {
    "execution": {
     "iopub.execute_input": "2023-01-24T17:26:55.706026Z",
     "iopub.status.busy": "2023-01-24T17:26:55.705211Z",
     "iopub.status.idle": "2023-01-24T17:26:55.711534Z",
     "shell.execute_reply": "2023-01-24T17:26:55.710710Z"
    },
    "papermill": {
     "duration": 0.020064,
     "end_time": "2023-01-24T17:26:55.713479",
     "exception": false,
     "start_time": "2023-01-24T17:26:55.693415",
     "status": "completed"
    },
    "tags": []
   },
   "outputs": [],
   "source": [
    "def label_encode(data,label):\n",
    "    labels=data[label].map(\n",
    "    {\n",
    "        \"joy\":0,\n",
    "        \"sadness\":1,\n",
    "        \"anger\":2,\n",
    "        \"fear\":3,\n",
    "        \"love\":4,\n",
    "        \"surprise\":5\n",
    "    }\n",
    "    )\n",
    "    return labels\n",
    "\n",
    "labels = ['joy', 'sadness', 'anger', 'fear', 'love', 'surprise']"
   ]
  },
  {
   "cell_type": "code",
   "execution_count": 18,
   "id": "8500c459",
   "metadata": {
    "execution": {
     "iopub.execute_input": "2023-01-24T17:26:55.736747Z",
     "iopub.status.busy": "2023-01-24T17:26:55.735871Z",
     "iopub.status.idle": "2023-01-24T17:26:55.744779Z",
     "shell.execute_reply": "2023-01-24T17:26:55.743963Z"
    },
    "papermill": {
     "duration": 0.022458,
     "end_time": "2023-01-24T17:26:55.746719",
     "exception": false,
     "start_time": "2023-01-24T17:26:55.724261",
     "status": "completed"
    },
    "tags": []
   },
   "outputs": [],
   "source": [
    "train_df['enc_labels'] = label_encode(train_df, 'labels')\n",
    "test_df['enc_labels'] = label_encode(test_df, 'labels')\n",
    "val_df['enc_labels'] = label_encode(val_df, 'labels')"
   ]
  },
  {
   "cell_type": "code",
   "execution_count": 19,
   "id": "4056bd18",
   "metadata": {
    "execution": {
     "iopub.execute_input": "2023-01-24T17:26:55.770024Z",
     "iopub.status.busy": "2023-01-24T17:26:55.769214Z",
     "iopub.status.idle": "2023-01-24T17:26:55.778700Z",
     "shell.execute_reply": "2023-01-24T17:26:55.777733Z"
    },
    "papermill": {
     "duration": 0.023154,
     "end_time": "2023-01-24T17:26:55.780679",
     "exception": false,
     "start_time": "2023-01-24T17:26:55.757525",
     "status": "completed"
    },
    "tags": []
   },
   "outputs": [
    {
     "data": {
      "text/html": [
       "<div>\n",
       "<style scoped>\n",
       "    .dataframe tbody tr th:only-of-type {\n",
       "        vertical-align: middle;\n",
       "    }\n",
       "\n",
       "    .dataframe tbody tr th {\n",
       "        vertical-align: top;\n",
       "    }\n",
       "\n",
       "    .dataframe thead th {\n",
       "        text-align: right;\n",
       "    }\n",
       "</style>\n",
       "<table border=\"1\" class=\"dataframe\">\n",
       "  <thead>\n",
       "    <tr style=\"text-align: right;\">\n",
       "      <th></th>\n",
       "      <th>text</th>\n",
       "      <th>labels</th>\n",
       "      <th>Length</th>\n",
       "      <th>enc_labels</th>\n",
       "    </tr>\n",
       "  </thead>\n",
       "  <tbody>\n",
       "    <tr>\n",
       "      <th>0</th>\n",
       "      <td>i didnt feel humiliated</td>\n",
       "      <td>sadness</td>\n",
       "      <td>23</td>\n",
       "      <td>1</td>\n",
       "    </tr>\n",
       "    <tr>\n",
       "      <th>1</th>\n",
       "      <td>i can go from feeling so hopeless to so damned...</td>\n",
       "      <td>sadness</td>\n",
       "      <td>108</td>\n",
       "      <td>1</td>\n",
       "    </tr>\n",
       "    <tr>\n",
       "      <th>2</th>\n",
       "      <td>im grabbing a minute to post i feel greedy wrong</td>\n",
       "      <td>anger</td>\n",
       "      <td>48</td>\n",
       "      <td>2</td>\n",
       "    </tr>\n",
       "    <tr>\n",
       "      <th>3</th>\n",
       "      <td>i am ever feeling nostalgic about the fireplac...</td>\n",
       "      <td>love</td>\n",
       "      <td>92</td>\n",
       "      <td>4</td>\n",
       "    </tr>\n",
       "    <tr>\n",
       "      <th>4</th>\n",
       "      <td>i am feeling grouchy</td>\n",
       "      <td>anger</td>\n",
       "      <td>20</td>\n",
       "      <td>2</td>\n",
       "    </tr>\n",
       "  </tbody>\n",
       "</table>\n",
       "</div>"
      ],
      "text/plain": [
       "                                                text   labels  Length  \\\n",
       "0                            i didnt feel humiliated  sadness      23   \n",
       "1  i can go from feeling so hopeless to so damned...  sadness     108   \n",
       "2   im grabbing a minute to post i feel greedy wrong    anger      48   \n",
       "3  i am ever feeling nostalgic about the fireplac...     love      92   \n",
       "4                               i am feeling grouchy    anger      20   \n",
       "\n",
       "   enc_labels  \n",
       "0           1  \n",
       "1           1  \n",
       "2           2  \n",
       "3           4  \n",
       "4           2  "
      ]
     },
     "execution_count": 19,
     "metadata": {},
     "output_type": "execute_result"
    }
   ],
   "source": [
    "train_df.head()"
   ]
  },
  {
   "cell_type": "markdown",
   "id": "ada34075",
   "metadata": {
    "papermill": {
     "duration": 0.01089,
     "end_time": "2023-01-24T17:26:55.802661",
     "exception": false,
     "start_time": "2023-01-24T17:26:55.791771",
     "status": "completed"
    },
    "tags": []
   },
   "source": [
    "# Text Preparation"
   ]
  },
  {
   "cell_type": "code",
   "execution_count": 20,
   "id": "f97a831d",
   "metadata": {
    "execution": {
     "iopub.execute_input": "2023-01-24T17:26:55.826505Z",
     "iopub.status.busy": "2023-01-24T17:26:55.825747Z",
     "iopub.status.idle": "2023-01-24T17:26:55.833073Z",
     "shell.execute_reply": "2023-01-24T17:26:55.832113Z"
    },
    "papermill": {
     "duration": 0.021357,
     "end_time": "2023-01-24T17:26:55.835094",
     "exception": false,
     "start_time": "2023-01-24T17:26:55.813737",
     "status": "completed"
    },
    "tags": []
   },
   "outputs": [],
   "source": [
    "def lower_text(text):\n",
    "    # lowercase the text \n",
    "    return text.lower()\n",
    "\n",
    "def remove_number(text):\n",
    "    # remove number with regex\n",
    "    num = re.compile(r'[-+]?[.\\d]*[\\d]+[:,.\\d]*')\n",
    "    return num.sub(r'', text)\n",
    "\n",
    "def remove_punct(text):\n",
    "    # remove punctuations\n",
    "    punctuations = '@#!?+&*[]-%.:/();$=><|{}^' + \"'`\" \n",
    "    for p in punctuations:\n",
    "        text = text.replace(p, f' {p} ')\n",
    "    return text\n",
    "\n",
    "def nltk_process(text):\n",
    "    list1 = word_tokenize(text)\n",
    "    text = ' '.join([lemmatizer.lemmatize(words) for words in list1])\n",
    "    list1 = word_tokenize(text)\n",
    "    text = \" \".join([word for word in list1 if word not in (stopwords)])\n",
    "    return text\n",
    "\n",
    "def data_preparation(text):\n",
    "    text = lower_text(text)\n",
    "    text = remove_number(text)\n",
    "    text = nltk_process(text)\n",
    "    text = remove_punct(text)\n",
    "  \n",
    "    return text"
   ]
  },
  {
   "cell_type": "code",
   "execution_count": 21,
   "id": "6de71f61",
   "metadata": {
    "execution": {
     "iopub.execute_input": "2023-01-24T17:26:55.858752Z",
     "iopub.status.busy": "2023-01-24T17:26:55.858482Z",
     "iopub.status.idle": "2023-01-24T17:27:04.967959Z",
     "shell.execute_reply": "2023-01-24T17:27:04.966979Z"
    },
    "papermill": {
     "duration": 9.124209,
     "end_time": "2023-01-24T17:27:04.970336",
     "exception": false,
     "start_time": "2023-01-24T17:26:55.846127",
     "status": "completed"
    },
    "tags": []
   },
   "outputs": [],
   "source": [
    "train_df[\"clean_text\"] = train_df[\"text\"].apply(data_preparation)\n",
    "test_df[\"clean_text\"] = test_df[\"text\"].apply(data_preparation)\n",
    "val_df[\"clean_text\"] = val_df[\"text\"].apply(data_preparation)"
   ]
  },
  {
   "cell_type": "code",
   "execution_count": 22,
   "id": "5bbd1176",
   "metadata": {
    "execution": {
     "iopub.execute_input": "2023-01-24T17:27:04.995010Z",
     "iopub.status.busy": "2023-01-24T17:27:04.994702Z",
     "iopub.status.idle": "2023-01-24T17:27:05.006486Z",
     "shell.execute_reply": "2023-01-24T17:27:05.005582Z"
    },
    "papermill": {
     "duration": 0.026349,
     "end_time": "2023-01-24T17:27:05.008591",
     "exception": false,
     "start_time": "2023-01-24T17:27:04.982242",
     "status": "completed"
    },
    "tags": []
   },
   "outputs": [],
   "source": [
    "train_df['Clean_Length'] = train_df['clean_text'].apply(lambda x:len(x))"
   ]
  },
  {
   "cell_type": "code",
   "execution_count": 23,
   "id": "235edbe8",
   "metadata": {
    "execution": {
     "iopub.execute_input": "2023-01-24T17:27:05.032035Z",
     "iopub.status.busy": "2023-01-24T17:27:05.031729Z",
     "iopub.status.idle": "2023-01-24T17:27:05.043695Z",
     "shell.execute_reply": "2023-01-24T17:27:05.042741Z"
    },
    "papermill": {
     "duration": 0.026246,
     "end_time": "2023-01-24T17:27:05.045869",
     "exception": false,
     "start_time": "2023-01-24T17:27:05.019623",
     "status": "completed"
    },
    "tags": []
   },
   "outputs": [
    {
     "data": {
      "text/html": [
       "<div>\n",
       "<style scoped>\n",
       "    .dataframe tbody tr th:only-of-type {\n",
       "        vertical-align: middle;\n",
       "    }\n",
       "\n",
       "    .dataframe tbody tr th {\n",
       "        vertical-align: top;\n",
       "    }\n",
       "\n",
       "    .dataframe thead th {\n",
       "        text-align: right;\n",
       "    }\n",
       "</style>\n",
       "<table border=\"1\" class=\"dataframe\">\n",
       "  <thead>\n",
       "    <tr style=\"text-align: right;\">\n",
       "      <th></th>\n",
       "      <th>text</th>\n",
       "      <th>labels</th>\n",
       "      <th>Length</th>\n",
       "      <th>enc_labels</th>\n",
       "      <th>clean_text</th>\n",
       "      <th>Clean_Length</th>\n",
       "    </tr>\n",
       "  </thead>\n",
       "  <tbody>\n",
       "    <tr>\n",
       "      <th>0</th>\n",
       "      <td>i didnt feel humiliated</td>\n",
       "      <td>sadness</td>\n",
       "      <td>23</td>\n",
       "      <td>1</td>\n",
       "      <td>didnt feel humiliated</td>\n",
       "      <td>21</td>\n",
       "    </tr>\n",
       "    <tr>\n",
       "      <th>1</th>\n",
       "      <td>i can go from feeling so hopeless to so damned...</td>\n",
       "      <td>sadness</td>\n",
       "      <td>108</td>\n",
       "      <td>1</td>\n",
       "      <td>go feeling hopeless damned hopeful around some...</td>\n",
       "      <td>60</td>\n",
       "    </tr>\n",
       "    <tr>\n",
       "      <th>2</th>\n",
       "      <td>im grabbing a minute to post i feel greedy wrong</td>\n",
       "      <td>anger</td>\n",
       "      <td>48</td>\n",
       "      <td>2</td>\n",
       "      <td>im grabbing minute post feel greedy wrong</td>\n",
       "      <td>41</td>\n",
       "    </tr>\n",
       "    <tr>\n",
       "      <th>3</th>\n",
       "      <td>i am ever feeling nostalgic about the fireplac...</td>\n",
       "      <td>love</td>\n",
       "      <td>92</td>\n",
       "      <td>4</td>\n",
       "      <td>ever feeling nostalgic fireplace know still pr...</td>\n",
       "      <td>52</td>\n",
       "    </tr>\n",
       "    <tr>\n",
       "      <th>4</th>\n",
       "      <td>i am feeling grouchy</td>\n",
       "      <td>anger</td>\n",
       "      <td>20</td>\n",
       "      <td>2</td>\n",
       "      <td>feeling grouchy</td>\n",
       "      <td>15</td>\n",
       "    </tr>\n",
       "    <tr>\n",
       "      <th>5</th>\n",
       "      <td>ive been feeling a little burdened lately wasn...</td>\n",
       "      <td>sadness</td>\n",
       "      <td>65</td>\n",
       "      <td>1</td>\n",
       "      <td>ive feeling little burdened lately wasnt sure wa</td>\n",
       "      <td>48</td>\n",
       "    </tr>\n",
       "    <tr>\n",
       "      <th>6</th>\n",
       "      <td>ive been taking or milligrams or times recomme...</td>\n",
       "      <td>surprise</td>\n",
       "      <td>122</td>\n",
       "      <td>5</td>\n",
       "      <td>ive taking milligram time recommended amount i...</td>\n",
       "      <td>94</td>\n",
       "    </tr>\n",
       "    <tr>\n",
       "      <th>7</th>\n",
       "      <td>i feel as confused about life as a teenager or...</td>\n",
       "      <td>fear</td>\n",
       "      <td>73</td>\n",
       "      <td>3</td>\n",
       "      <td>feel confused life teenager jaded year old man</td>\n",
       "      <td>46</td>\n",
       "    </tr>\n",
       "    <tr>\n",
       "      <th>8</th>\n",
       "      <td>i have been with petronas for years i feel tha...</td>\n",
       "      <td>joy</td>\n",
       "      <td>98</td>\n",
       "      <td>0</td>\n",
       "      <td>petronas year feel petronas ha performed well ...</td>\n",
       "      <td>62</td>\n",
       "    </tr>\n",
       "    <tr>\n",
       "      <th>9</th>\n",
       "      <td>i feel romantic too</td>\n",
       "      <td>love</td>\n",
       "      <td>19</td>\n",
       "      <td>4</td>\n",
       "      <td>feel romantic</td>\n",
       "      <td>13</td>\n",
       "    </tr>\n",
       "  </tbody>\n",
       "</table>\n",
       "</div>"
      ],
      "text/plain": [
       "                                                text    labels  Length  \\\n",
       "0                            i didnt feel humiliated   sadness      23   \n",
       "1  i can go from feeling so hopeless to so damned...   sadness     108   \n",
       "2   im grabbing a minute to post i feel greedy wrong     anger      48   \n",
       "3  i am ever feeling nostalgic about the fireplac...      love      92   \n",
       "4                               i am feeling grouchy     anger      20   \n",
       "5  ive been feeling a little burdened lately wasn...   sadness      65   \n",
       "6  ive been taking or milligrams or times recomme...  surprise     122   \n",
       "7  i feel as confused about life as a teenager or...      fear      73   \n",
       "8  i have been with petronas for years i feel tha...       joy      98   \n",
       "9                                i feel romantic too      love      19   \n",
       "\n",
       "   enc_labels                                         clean_text  Clean_Length  \n",
       "0           1                              didnt feel humiliated            21  \n",
       "1           1  go feeling hopeless damned hopeful around some...            60  \n",
       "2           2          im grabbing minute post feel greedy wrong            41  \n",
       "3           4  ever feeling nostalgic fireplace know still pr...            52  \n",
       "4           2                                    feeling grouchy            15  \n",
       "5           1   ive feeling little burdened lately wasnt sure wa            48  \n",
       "6           5  ive taking milligram time recommended amount i...            94  \n",
       "7           3     feel confused life teenager jaded year old man            46  \n",
       "8           0  petronas year feel petronas ha performed well ...            62  \n",
       "9           4                                      feel romantic            13  "
      ]
     },
     "execution_count": 23,
     "metadata": {},
     "output_type": "execute_result"
    }
   ],
   "source": [
    "train_df.head(10)"
   ]
  },
  {
   "cell_type": "markdown",
   "id": "217bb7e6",
   "metadata": {
    "papermill": {
     "duration": 0.011396,
     "end_time": "2023-01-24T17:27:05.068728",
     "exception": false,
     "start_time": "2023-01-24T17:27:05.057332",
     "status": "completed"
    },
    "tags": []
   },
   "source": [
    "# Text Tokenizer"
   ]
  },
  {
   "cell_type": "code",
   "execution_count": 24,
   "id": "d9370cb0",
   "metadata": {
    "execution": {
     "iopub.execute_input": "2023-01-24T17:27:05.093499Z",
     "iopub.status.busy": "2023-01-24T17:27:05.092723Z",
     "iopub.status.idle": "2023-01-24T17:27:05.097935Z",
     "shell.execute_reply": "2023-01-24T17:27:05.096995Z"
    },
    "papermill": {
     "duration": 0.019745,
     "end_time": "2023-01-24T17:27:05.100022",
     "exception": false,
     "start_time": "2023-01-24T17:27:05.080277",
     "status": "completed"
    },
    "tags": []
   },
   "outputs": [],
   "source": [
    "X_train = train_df['clean_text']\n",
    "X_test = test_df['clean_text']\n",
    "y_train = train_df['enc_labels']\n",
    "y_test = test_df['enc_labels']\n",
    "y_val = val_df['enc_labels']"
   ]
  },
  {
   "cell_type": "code",
   "execution_count": 25,
   "id": "2ec938c5",
   "metadata": {
    "execution": {
     "iopub.execute_input": "2023-01-24T17:27:05.123997Z",
     "iopub.status.busy": "2023-01-24T17:27:05.123695Z",
     "iopub.status.idle": "2023-01-24T17:27:05.593752Z",
     "shell.execute_reply": "2023-01-24T17:27:05.592736Z"
    },
    "papermill": {
     "duration": 0.484809,
     "end_time": "2023-01-24T17:27:05.596120",
     "exception": false,
     "start_time": "2023-01-24T17:27:05.111311",
     "status": "completed"
    },
    "tags": []
   },
   "outputs": [
    {
     "name": "stdout",
     "output_type": "stream",
     "text": [
      "13464\n"
     ]
    }
   ],
   "source": [
    "tokenizer = Tokenizer(oov_token='<oov>')\n",
    "tokenizer.fit_on_texts(X_train)\n",
    "\n",
    "X_train = tokenizer.texts_to_sequences(X_train)\n",
    "X_test = tokenizer.texts_to_sequences(X_test)\n",
    "X_val = tokenizer.texts_to_sequences(val_df['clean_text'])\n",
    "\n",
    "vocab_size = len(tokenizer.word_index) + 1\n",
    "print(vocab_size)"
   ]
  },
  {
   "cell_type": "code",
   "execution_count": 26,
   "id": "ff36f24e",
   "metadata": {
    "execution": {
     "iopub.execute_input": "2023-01-24T17:27:05.622188Z",
     "iopub.status.busy": "2023-01-24T17:27:05.620459Z",
     "iopub.status.idle": "2023-01-24T17:27:05.680746Z",
     "shell.execute_reply": "2023-01-24T17:27:05.679768Z"
    },
    "papermill": {
     "duration": 0.074919,
     "end_time": "2023-01-24T17:27:05.682777",
     "exception": false,
     "start_time": "2023-01-24T17:27:05.607858",
     "status": "completed"
    },
    "tags": []
   },
   "outputs": [],
   "source": [
    "X_train = pad_sequences(X_train, padding='post', maxlen=128)\n",
    "X_test = pad_sequences(X_test, padding='post', maxlen=128)\n",
    "X_val = pad_sequences(X_val, padding='post', maxlen=128)"
   ]
  },
  {
   "cell_type": "code",
   "execution_count": 27,
   "id": "ef2a1313",
   "metadata": {
    "execution": {
     "iopub.execute_input": "2023-01-24T17:27:05.708240Z",
     "iopub.status.busy": "2023-01-24T17:27:05.707249Z",
     "iopub.status.idle": "2023-01-24T17:27:05.713089Z",
     "shell.execute_reply": "2023-01-24T17:27:05.712206Z"
    },
    "papermill": {
     "duration": 0.020384,
     "end_time": "2023-01-24T17:27:05.715069",
     "exception": false,
     "start_time": "2023-01-24T17:27:05.694685",
     "status": "completed"
    },
    "tags": []
   },
   "outputs": [],
   "source": [
    "OHE_y_test = to_categorical(y_test) # One Hot Encode apply\n",
    "OHE_y_train = to_categorical(y_train)\n",
    "OHE_y_val = to_categorical(y_val)"
   ]
  },
  {
   "cell_type": "markdown",
   "id": "57b0e5eb",
   "metadata": {
    "papermill": {
     "duration": 0.011086,
     "end_time": "2023-01-24T17:27:05.737535",
     "exception": false,
     "start_time": "2023-01-24T17:27:05.726449",
     "status": "completed"
    },
    "tags": []
   },
   "source": [
    "# Model Building"
   ]
  },
  {
   "cell_type": "code",
   "execution_count": 28,
   "id": "ed0d005c",
   "metadata": {
    "execution": {
     "iopub.execute_input": "2023-01-24T17:27:05.761589Z",
     "iopub.status.busy": "2023-01-24T17:27:05.761315Z",
     "iopub.status.idle": "2023-01-24T17:27:05.768699Z",
     "shell.execute_reply": "2023-01-24T17:27:05.767836Z"
    },
    "papermill": {
     "duration": 0.02179,
     "end_time": "2023-01-24T17:27:05.770753",
     "exception": false,
     "start_time": "2023-01-24T17:27:05.748963",
     "status": "completed"
    },
    "tags": []
   },
   "outputs": [],
   "source": [
    "from tensorflow.keras.layers import LSTM, Bidirectional, Dense, Embedding, Dropout, BatchNormalization\n",
    "from tensorflow.keras.models import Sequential\n",
    "from tensorflow.keras.optimizers import Adam\n",
    "from tensorflow.keras.callbacks import EarlyStopping, ReduceLROnPlateau, ModelCheckpoint, Callback"
   ]
  },
  {
   "cell_type": "code",
   "execution_count": 29,
   "id": "953c5068",
   "metadata": {
    "execution": {
     "iopub.execute_input": "2023-01-24T17:27:05.794992Z",
     "iopub.status.busy": "2023-01-24T17:27:05.794270Z",
     "iopub.status.idle": "2023-01-24T17:27:10.437902Z",
     "shell.execute_reply": "2023-01-24T17:27:10.436911Z"
    },
    "papermill": {
     "duration": 4.658356,
     "end_time": "2023-01-24T17:27:10.440355",
     "exception": false,
     "start_time": "2023-01-24T17:27:05.781999",
     "status": "completed"
    },
    "tags": []
   },
   "outputs": [
    {
     "name": "stderr",
     "output_type": "stream",
     "text": [
      "2023-01-24 17:27:06.090585: I tensorflow/stream_executor/cuda/cuda_gpu_executor.cc:937] successful NUMA node read from SysFS had negative value (-1), but there must be at least one NUMA node, so returning NUMA node zero\n",
      "2023-01-24 17:27:06.193101: I tensorflow/stream_executor/cuda/cuda_gpu_executor.cc:937] successful NUMA node read from SysFS had negative value (-1), but there must be at least one NUMA node, so returning NUMA node zero\n",
      "2023-01-24 17:27:06.194008: I tensorflow/stream_executor/cuda/cuda_gpu_executor.cc:937] successful NUMA node read from SysFS had negative value (-1), but there must be at least one NUMA node, so returning NUMA node zero\n",
      "2023-01-24 17:27:06.195453: I tensorflow/core/platform/cpu_feature_guard.cc:142] This TensorFlow binary is optimized with oneAPI Deep Neural Network Library (oneDNN) to use the following CPU instructions in performance-critical operations:  AVX2 AVX512F FMA\n",
      "To enable them in other operations, rebuild TensorFlow with the appropriate compiler flags.\n",
      "2023-01-24 17:27:06.195793: I tensorflow/stream_executor/cuda/cuda_gpu_executor.cc:937] successful NUMA node read from SysFS had negative value (-1), but there must be at least one NUMA node, so returning NUMA node zero\n",
      "2023-01-24 17:27:06.196572: I tensorflow/stream_executor/cuda/cuda_gpu_executor.cc:937] successful NUMA node read from SysFS had negative value (-1), but there must be at least one NUMA node, so returning NUMA node zero\n",
      "2023-01-24 17:27:06.197252: I tensorflow/stream_executor/cuda/cuda_gpu_executor.cc:937] successful NUMA node read from SysFS had negative value (-1), but there must be at least one NUMA node, so returning NUMA node zero\n",
      "2023-01-24 17:27:08.503408: I tensorflow/stream_executor/cuda/cuda_gpu_executor.cc:937] successful NUMA node read from SysFS had negative value (-1), but there must be at least one NUMA node, so returning NUMA node zero\n",
      "2023-01-24 17:27:08.504452: I tensorflow/stream_executor/cuda/cuda_gpu_executor.cc:937] successful NUMA node read from SysFS had negative value (-1), but there must be at least one NUMA node, so returning NUMA node zero\n",
      "2023-01-24 17:27:08.505132: I tensorflow/stream_executor/cuda/cuda_gpu_executor.cc:937] successful NUMA node read from SysFS had negative value (-1), but there must be at least one NUMA node, so returning NUMA node zero\n",
      "2023-01-24 17:27:08.505706: I tensorflow/core/common_runtime/gpu/gpu_device.cc:1510] Created device /job:localhost/replica:0/task:0/device:GPU:0 with 15401 MB memory:  -> device: 0, name: Tesla P100-PCIE-16GB, pci bus id: 0000:00:04.0, compute capability: 6.0\n"
     ]
    }
   ],
   "source": [
    "model = Sequential([\n",
    "    Embedding(vocab_size, 128, input_length=128, name='in_layer'),\n",
    "    BatchNormalization(),\n",
    "    Dropout(0.5),\n",
    "    Bidirectional(LSTM(512, return_sequences=True, name='Bi-LSTM-1')),\n",
    "    Bidirectional(LSTM(256, return_sequences=True, name='Bi-LSTM-2')),\n",
    "    Bidirectional(LSTM(128, name='Bi-LSTM-3')),\n",
    "    Dropout(0.5),\n",
    "    Dense(512, activation='relu', name='fc-1'),\n",
    "    Dense(6, activation='softmax', name='out_layer')\n",
    "])"
   ]
  },
  {
   "cell_type": "code",
   "execution_count": 30,
   "id": "297e68df",
   "metadata": {
    "execution": {
     "iopub.execute_input": "2023-01-24T17:27:10.468583Z",
     "iopub.status.busy": "2023-01-24T17:27:10.468270Z",
     "iopub.status.idle": "2023-01-24T17:27:10.475813Z",
     "shell.execute_reply": "2023-01-24T17:27:10.474971Z"
    },
    "papermill": {
     "duration": 0.023929,
     "end_time": "2023-01-24T17:27:10.477827",
     "exception": false,
     "start_time": "2023-01-24T17:27:10.453898",
     "status": "completed"
    },
    "tags": []
   },
   "outputs": [],
   "source": [
    "# # tensorboard = TensorBoard(log_dir = 'logs')\n",
    "checkpoint = ModelCheckpoint(\"model.h5\",monitor=\"val_accuracy\",save_best_only=True,mode=\"auto\",verbose=1)\n",
    "reduce_lr = ReduceLROnPlateau(monitor = 'val_accuracy', factor = 0.3, patience = 2, min_delta = 0.001, mode='auto',verbose=1)\n",
    "class callbackTarget(Callback):\n",
    "  def on_epoch_end(self, epoch, logs={}):\n",
    "    if(logs.get('val_accuracy') >= 0.92 and logs.get('accuracy') >= 0.92):\n",
    "      print('\\nVal_accuracy and accuracy has reached >= 92%!')\n",
    "      self.model.stop_training = True\n",
    "\n",
    "target = callbackTarget()"
   ]
  },
  {
   "cell_type": "code",
   "execution_count": 31,
   "id": "110e924f",
   "metadata": {
    "execution": {
     "iopub.execute_input": "2023-01-24T17:27:10.504187Z",
     "iopub.status.busy": "2023-01-24T17:27:10.502814Z",
     "iopub.status.idle": "2023-01-24T17:27:10.510351Z",
     "shell.execute_reply": "2023-01-24T17:27:10.509133Z"
    },
    "papermill": {
     "duration": 0.021909,
     "end_time": "2023-01-24T17:27:10.512352",
     "exception": false,
     "start_time": "2023-01-24T17:27:10.490443",
     "status": "completed"
    },
    "tags": []
   },
   "outputs": [
    {
     "name": "stdout",
     "output_type": "stream",
     "text": [
      "Model: \"sequential\"\n",
      "_________________________________________________________________\n",
      "Layer (type)                 Output Shape              Param #   \n",
      "=================================================================\n",
      "in_layer (Embedding)         (None, 128, 128)          1723392   \n",
      "_________________________________________________________________\n",
      "batch_normalization (BatchNo (None, 128, 128)          512       \n",
      "_________________________________________________________________\n",
      "dropout (Dropout)            (None, 128, 128)          0         \n",
      "_________________________________________________________________\n",
      "bidirectional (Bidirectional (None, 128, 1024)         2625536   \n",
      "_________________________________________________________________\n",
      "bidirectional_1 (Bidirection (None, 128, 512)          2623488   \n",
      "_________________________________________________________________\n",
      "bidirectional_2 (Bidirection (None, 256)               656384    \n",
      "_________________________________________________________________\n",
      "dropout_1 (Dropout)          (None, 256)               0         \n",
      "_________________________________________________________________\n",
      "fc-1 (Dense)                 (None, 512)               131584    \n",
      "_________________________________________________________________\n",
      "out_layer (Dense)            (None, 6)                 3078      \n",
      "=================================================================\n",
      "Total params: 7,763,974\n",
      "Trainable params: 7,763,718\n",
      "Non-trainable params: 256\n",
      "_________________________________________________________________\n"
     ]
    }
   ],
   "source": [
    "model.summary()"
   ]
  },
  {
   "cell_type": "code",
   "execution_count": 32,
   "id": "07b66331",
   "metadata": {
    "execution": {
     "iopub.execute_input": "2023-01-24T17:27:10.536717Z",
     "iopub.status.busy": "2023-01-24T17:27:10.536136Z",
     "iopub.status.idle": "2023-01-24T17:27:11.643882Z",
     "shell.execute_reply": "2023-01-24T17:27:11.642647Z"
    },
    "papermill": {
     "duration": 1.125422,
     "end_time": "2023-01-24T17:27:11.649156",
     "exception": false,
     "start_time": "2023-01-24T17:27:10.523734",
     "status": "completed"
    },
    "tags": []
   },
   "outputs": [
    {
     "data": {
      "image/png": "[encoded data removed]",
      "text/plain": [
       "<IPython.core.display.Image object>"
      ]
     },
     "execution_count": 32,
     "metadata": {},
     "output_type": "execute_result"
    }
   ],
   "source": [
    "tf.keras.utils.plot_model(model, to_file='model_plot.png', dpi=128, show_shapes=True, show_layer_names=True)"
   ]
  },
  {
   "cell_type": "code",
   "execution_count": 33,
   "id": "cbc8e56c",
   "metadata": {
    "execution": {
     "iopub.execute_input": "2023-01-24T17:27:11.695556Z",
     "iopub.status.busy": "2023-01-24T17:27:11.694536Z",
     "iopub.status.idle": "2023-01-24T17:28:48.770391Z",
     "shell.execute_reply": "2023-01-24T17:28:48.769335Z"
    },
    "papermill": {
     "duration": 97.100941,
     "end_time": "2023-01-24T17:28:48.772544",
     "exception": false,
     "start_time": "2023-01-24T17:27:11.671603",
     "status": "completed"
    },
    "tags": []
   },
   "outputs": [
    {
     "name": "stderr",
     "output_type": "stream",
     "text": [
      "2023-01-24 17:27:11.777601: I tensorflow/compiler/mlir/mlir_graph_optimization_pass.cc:185] None of the MLIR Optimization Passes are enabled (registered 2)\n"
     ]
    },
    {
     "name": "stdout",
     "output_type": "stream",
     "text": [
      "Epoch 1/200\n"
     ]
    },
    {
     "name": "stderr",
     "output_type": "stream",
     "text": [
      "2023-01-24 17:27:18.087670: I tensorflow/stream_executor/cuda/cuda_dnn.cc:369] Loaded cuDNN version 8005\n"
     ]
    },
    {
     "name": "stdout",
     "output_type": "stream",
     "text": [
      "125/125 [==============================] - 31s 186ms/step - loss: 1.1734 - accuracy: 0.5429 - val_loss: 1.3751 - val_accuracy: 0.5170\n",
      "\n",
      "Epoch 00001: val_accuracy improved from -inf to 0.51700, saving model to model.h5\n",
      "Epoch 2/200\n",
      "125/125 [==============================] - 22s 173ms/step - loss: 0.2682 - accuracy: 0.9061 - val_loss: 0.7926 - val_accuracy: 0.7300\n",
      "\n",
      "Epoch 00002: val_accuracy improved from 0.51700 to 0.73000, saving model to model.h5\n",
      "Epoch 3/200\n",
      "125/125 [==============================] - 22s 173ms/step - loss: 0.1442 - accuracy: 0.9418 - val_loss: 0.3974 - val_accuracy: 0.8730\n",
      "\n",
      "Epoch 00003: val_accuracy improved from 0.73000 to 0.87300, saving model to model.h5\n",
      "Epoch 4/200\n",
      "125/125 [==============================] - 22s 173ms/step - loss: 0.1011 - accuracy: 0.9584 - val_loss: 0.2074 - val_accuracy: 0.9205\n",
      "\n",
      "Epoch 00004: val_accuracy improved from 0.87300 to 0.92050, saving model to model.h5\n",
      "\n",
      "Val_accuracy and accuracy has reached >= 92%!\n"
     ]
    }
   ],
   "source": [
    "# Adam(learning_rate=0.0001)\n",
    "model.compile(optimizer='Adam',\n",
    "              loss='categorical_crossentropy',\n",
    "              metrics=['accuracy'])\n",
    "history = model.fit(X_train, OHE_y_train,\n",
    "                    epochs=200, \n",
    "                    verbose=1,\n",
    "                    validation_data=(X_test, OHE_y_test),\n",
    "                    callbacks = [checkpoint, reduce_lr, target],\n",
    "                    batch_size=128)"
   ]
  },
  {
   "cell_type": "markdown",
   "id": "0e965895",
   "metadata": {
    "papermill": {
     "duration": 0.038264,
     "end_time": "2023-01-24T17:28:48.850065",
     "exception": false,
     "start_time": "2023-01-24T17:28:48.811801",
     "status": "completed"
    },
    "tags": []
   },
   "source": [
    "# Evaluation"
   ]
  },
  {
   "cell_type": "code",
   "execution_count": 34,
   "id": "9d752bf5",
   "metadata": {
    "execution": {
     "iopub.execute_input": "2023-01-24T17:28:48.930232Z",
     "iopub.status.busy": "2023-01-24T17:28:48.928679Z",
     "iopub.status.idle": "2023-01-24T17:29:39.592465Z",
     "shell.execute_reply": "2023-01-24T17:29:39.591365Z"
    },
    "papermill": {
     "duration": 50.706529,
     "end_time": "2023-01-24T17:29:39.594983",
     "exception": false,
     "start_time": "2023-01-24T17:28:48.888454",
     "status": "completed"
    },
    "tags": []
   },
   "outputs": [
    {
     "data": {
      "image/png": "[encoded data removed]",
      "text/plain": [
       "<Figure size 432x288 with 1 Axes>"
      ]
     },
     "metadata": {
      "needs_background": "light"
     },
     "output_type": "display_data"
    },
    {
     "data": {
      "image/png": "[encoded data removed]",
      "text/plain": [
       "<Figure size 432x288 with 1 Axes>"
      ]
     },
     "metadata": {
      "needs_background": "light"
     },
     "output_type": "display_data"
    }
   ],
   "source": [
    "plt.plot(history.history['loss'])\n",
    "plt.plot(history.history['val_loss'])\n",
    "plt.title('Model Loss')\n",
    "plt.ylabel('Loss')\n",
    "plt.xlabel('Epochs')\n",
    "plt.legend(['train', 'test'], loc = 'upper right')\n",
    "plt.show()\n",
    "\n",
    "plt.plot(history.history['accuracy'])\n",
    "plt.plot(history.history['val_accuracy'])\n",
    "plt.title('Model Accuracy')\n",
    "plt.ylabel('Accuracy')\n",
    "plt.xlabel('Epoch')\n",
    "plt.legend(['train', 'test'], loc='lower right')\n",
    "plt.show()"
   ]
  },
  {
   "cell_type": "code",
   "execution_count": 35,
   "id": "4b4d5858",
   "metadata": {
    "execution": {
     "iopub.execute_input": "2023-01-24T17:29:39.674649Z",
     "iopub.status.busy": "2023-01-24T17:29:39.674347Z",
     "iopub.status.idle": "2023-01-24T17:29:39.678662Z",
     "shell.execute_reply": "2023-01-24T17:29:39.677620Z"
    },
    "papermill": {
     "duration": 0.046805,
     "end_time": "2023-01-24T17:29:39.680892",
     "exception": false,
     "start_time": "2023-01-24T17:29:39.634087",
     "status": "completed"
    },
    "tags": []
   },
   "outputs": [],
   "source": [
    "# model.evaluate(X_val, OHE_y_val)"
   ]
  },
  {
   "cell_type": "code",
   "execution_count": 36,
   "id": "a512a891",
   "metadata": {
    "execution": {
     "iopub.execute_input": "2023-01-24T17:29:39.760762Z",
     "iopub.status.busy": "2023-01-24T17:29:39.760482Z",
     "iopub.status.idle": "2023-01-24T17:29:43.817298Z",
     "shell.execute_reply": "2023-01-24T17:29:43.816237Z"
    },
    "papermill": {
     "duration": 4.099758,
     "end_time": "2023-01-24T17:29:43.819788",
     "exception": false,
     "start_time": "2023-01-24T17:29:39.720030",
     "status": "completed"
    },
    "tags": []
   },
   "outputs": [],
   "source": [
    "# Model Evaluate with test df\n",
    "predict = model.predict(X_val)\n",
    "predict_class = np.argmax(predict, axis=1)\n",
    "predict_class = np.array(predict_class)"
   ]
  },
  {
   "cell_type": "code",
   "execution_count": 37,
   "id": "cc1bb0f4",
   "metadata": {
    "execution": {
     "iopub.execute_input": "2023-01-24T17:29:43.900474Z",
     "iopub.status.busy": "2023-01-24T17:29:43.900136Z",
     "iopub.status.idle": "2023-01-24T17:29:43.914317Z",
     "shell.execute_reply": "2023-01-24T17:29:43.912889Z"
    },
    "papermill": {
     "duration": 0.056674,
     "end_time": "2023-01-24T17:29:43.916554",
     "exception": false,
     "start_time": "2023-01-24T17:29:43.859880",
     "status": "completed"
    },
    "tags": []
   },
   "outputs": [
    {
     "name": "stdout",
     "output_type": "stream",
     "text": [
      "              precision    recall  f1-score   support\n",
      "\n",
      "       anger       0.95      0.91      0.93       704\n",
      "        fear       0.93      0.97      0.95       550\n",
      "         joy       0.90      0.90      0.90       275\n",
      "        love       0.89      0.85      0.87       212\n",
      "     sadness       0.85      0.88      0.87       178\n",
      "    surprise       0.83      0.93      0.88        81\n",
      "\n",
      "    accuracy                           0.92      2000\n",
      "   macro avg       0.89      0.91      0.90      2000\n",
      "weighted avg       0.92      0.92      0.92      2000\n",
      "\n"
     ]
    }
   ],
   "source": [
    "from sklearn.metrics import classification_report\n",
    "print(classification_report(val_df[\"enc_labels\"], predict_class, target_names =[\"anger\", \"fear\", \"joy\", \"love\", \"sadness\", \"surprise\"]))"
   ]
  },
  {
   "cell_type": "code",
   "execution_count": 38,
   "id": "3f88cef3",
   "metadata": {
    "execution": {
     "iopub.execute_input": "2023-01-24T17:29:43.997201Z",
     "iopub.status.busy": "2023-01-24T17:29:43.996901Z",
     "iopub.status.idle": "2023-01-24T17:29:44.002797Z",
     "shell.execute_reply": "2023-01-24T17:29:44.001869Z"
    },
    "papermill": {
     "duration": 0.048001,
     "end_time": "2023-01-24T17:29:44.004848",
     "exception": false,
     "start_time": "2023-01-24T17:29:43.956847",
     "status": "completed"
    },
    "tags": []
   },
   "outputs": [
    {
     "name": "stdout",
     "output_type": "stream",
     "text": [
      "['joy', 'sadness', 'anger', 'fear', 'love', 'surprise']\n"
     ]
    }
   ],
   "source": [
    "print(labels)\n",
    "def get_key(value):\n",
    "    dictionary={\n",
    "        \"joy\":0,\n",
    "        \"sadness\":1,\n",
    "        \"anger\":2,\n",
    "        \"fear\":3,\n",
    "        \"love\":4,\n",
    "        \"surprise\":5\n",
    "    }\n",
    "    for key,val in dictionary.items():\n",
    "          if (val==value):\n",
    "            return key"
   ]
  },
  {
   "cell_type": "code",
   "execution_count": 39,
   "id": "6aa7bf68",
   "metadata": {
    "execution": {
     "iopub.execute_input": "2023-01-24T17:29:44.084588Z",
     "iopub.status.busy": "2023-01-24T17:29:44.083814Z",
     "iopub.status.idle": "2023-01-24T17:29:44.089615Z",
     "shell.execute_reply": "2023-01-24T17:29:44.088777Z"
    },
    "papermill": {
     "duration": 0.047796,
     "end_time": "2023-01-24T17:29:44.091574",
     "exception": false,
     "start_time": "2023-01-24T17:29:44.043778",
     "status": "completed"
    },
    "tags": []
   },
   "outputs": [],
   "source": [
    "def predict_test(sentence):\n",
    "  sentence_lst=[]\n",
    "  sentence_lst.append(sentence)\n",
    "  sentence_seq=tokenizer.texts_to_sequences(sentence_lst)\n",
    "  sentence_padded=pad_sequences(sentence_seq,maxlen=300,padding='post')\n",
    "  ans=get_key(np.argmax(model.predict(sentence_padded), axis=1))\n",
    "  print(\"The emotion predicted is\",ans)"
   ]
  },
  {
   "cell_type": "code",
   "execution_count": 40,
   "id": "c1fae5f6",
   "metadata": {
    "execution": {
     "iopub.execute_input": "2023-01-24T17:29:44.172402Z",
     "iopub.status.busy": "2023-01-24T17:29:44.171551Z",
     "iopub.status.idle": "2023-01-24T17:29:46.378247Z",
     "shell.execute_reply": "2023-01-24T17:29:46.376992Z"
    },
    "papermill": {
     "duration": 2.248935,
     "end_time": "2023-01-24T17:29:46.380446",
     "exception": false,
     "start_time": "2023-01-24T17:29:44.131511",
     "status": "completed"
    },
    "tags": []
   },
   "outputs": [
    {
     "name": "stdout",
     "output_type": "stream",
     "text": [
      "The emotion predicted is love\n",
      "The emotion predicted is love\n",
      "The emotion predicted is anger\n",
      "The emotion predicted is joy\n",
      "The emotion predicted is sadness\n",
      "The emotion predicted is surprise\n"
     ]
    }
   ],
   "source": [
    "# predict(str(input('Enter a sentence : ')))\n",
    "test_love = \"i feel like a faithful servant\"\n",
    "test_anger = \"i am just feeling cranky and blue\"\n",
    "test_joy = \"i feel less keen about the army every day\"\n",
    "test_sadness = \"i feel dirty and ashamed for saying that\"\n",
    "test_fear = \" i spent a lot of time feeling overwhelmed with the amount of information he provided while reading the textbook\"\n",
    "test_love_2 = \"i sincerely feel will benefit any relationship whether it is romantic family work or socially oriented\"\n",
    "\n",
    "\n",
    "predict_test(test_love)\n",
    "predict_test(test_love_2)\n",
    "predict_test(test_anger)\n",
    "predict_test(test_joy)\n",
    "predict_test(test_sadness)\n",
    "predict_test(test_fear)"
   ]
  },
  {
   "cell_type": "code",
   "execution_count": 41,
   "id": "d7384c0c",
   "metadata": {
    "execution": {
     "iopub.execute_input": "2023-01-24T17:29:46.468550Z",
     "iopub.status.busy": "2023-01-24T17:29:46.462193Z",
     "iopub.status.idle": "2023-01-24T17:29:46.472887Z",
     "shell.execute_reply": "2023-01-24T17:29:46.471966Z"
    },
    "papermill": {
     "duration": 0.053502,
     "end_time": "2023-01-24T17:29:46.474889",
     "exception": false,
     "start_time": "2023-01-24T17:29:46.421387",
     "status": "completed"
    },
    "tags": []
   },
   "outputs": [],
   "source": [
    "pd.options.display.max_colwidth = 300"
   ]
  },
  {
   "cell_type": "code",
   "execution_count": 42,
   "id": "1c366976",
   "metadata": {
    "execution": {
     "iopub.execute_input": "2023-01-24T17:29:46.554035Z",
     "iopub.status.busy": "2023-01-24T17:29:46.553726Z",
     "iopub.status.idle": "2023-01-24T17:29:46.563837Z",
     "shell.execute_reply": "2023-01-24T17:29:46.562975Z"
    },
    "papermill": {
     "duration": 0.051897,
     "end_time": "2023-01-24T17:29:46.565676",
     "exception": false,
     "start_time": "2023-01-24T17:29:46.513779",
     "status": "completed"
    },
    "tags": []
   },
   "outputs": [
    {
     "name": "stdout",
     "output_type": "stream",
     "text": [
      "2                                                                                                                                                                                                     i feel like a faithful servant\n",
      "18      i also loved that you could really feel the desperation in these sequences and i especially liked the emotion between knight and squire as theyve been together in a similar fashion to batman and robin for a long time now\n",
      "30                                                                                                             i feel like im caring about my body not in just an attempt to be the right size but to feel good and have a full life\n",
      "40                                                                    i sit the chicken preferably bone in chicken thighs skinless because i feel they have the most flavor in a crock pot so that it becomes tender and falls apart\n",
      "48                                           i see the starlight caress your hair no more feel the tender kisses we used to share i close my eyes and clearly my heart remembers a thousand good byes could never put out the embers\n",
      "                                                                                                                    ...                                                                                                             \n",
      "1955                                                                                                                          i sincerely feel will benefit any relationship whether it is romantic family work or socially oriented\n",
      "1956                                                                                                                                                            i like the feel of the game but im not very fond of the color scheme\n",
      "1972                                                                                                                                                                im feeling a little tender and mashed today and im doing my best\n",
      "1978                                                                                                                                                                     i can feel all supportive and jrock ish in school tommorrow\n",
      "1988                                                                                                                                                   i feel like i got to know her a bit and what i did get to know i really liked\n",
      "Name: text, Length: 178, dtype: object\n"
     ]
    }
   ],
   "source": [
    "print(val_df['text'][val_df['labels']=='love'])"
   ]
  }
 ],
 "metadata": {
  "kernelspec": {
   "display_name": "Python 3",
   "language": "python",
   "name": "python3"
  },
  "language_info": {
   "codemirror_mode": {
    "name": "ipython",
    "version": 3
   },
   "file_extension": ".py",
   "mimetype": "text/x-python",
   "name": "python",
   "nbconvert_exporter": "python",
   "pygments_lexer": "ipython3",
   "version": "3.7.12"
  },
  "papermill": {
   "default_parameters": {},
   "duration": 203.554836,
   "end_time": "2023-01-24T17:29:50.123179",
   "environment_variables": {},
   "exception": null,
   "input_path": "__notebook__.ipynb",
   "output_path": "__notebook__.ipynb",
   "parameters": {},
   "start_time": "2023-01-24T17:26:26.568343",
   "version": "2.3.4"
  }
 },
 "nbformat": 4,
 "nbformat_minor": 5
}
